{
 "cells": [
  {
   "cell_type": "code",
   "execution_count": 1,
   "id": "d3f42cb8-e093-479b-bec1-08ab2b1f111e",
   "metadata": {
    "executionInfo": {
     "elapsed": 10032,
     "status": "ok",
     "timestamp": 1741862681275,
     "user": {
      "displayName": "BITF21M516-Hafiza Rabia Rasool",
      "userId": "13803347475708047593"
     },
     "user_tz": -300
    },
    "id": "d3f42cb8-e093-479b-bec1-08ab2b1f111e"
   },
   "outputs": [],
   "source": [
    "\n",
    "import json\n",
    "import pandas as pd\n",
    "import numpy as np\n",
    "import tensorflow as tf\n",
    "from sklearn import metrics\n",
    "from tensorflow.keras.models import Model\n",
    "from tensorflow.keras.layers import Input, Conv1D, MaxPooling1D, Flatten, LSTM, Dense, Dropout, concatenate, Reshape\n",
    "from tensorflow.keras.preprocessing.sequence import pad_sequences\n",
    "from tensorflow.keras.losses import CategoricalCrossentropy\n",
    "from tensorflow.keras.utils import to_categorical\n",
    "from tensorflow.keras.optimizers import Adam\n",
    "from tensorflow.keras.regularizers import l2"
   ]
  },
  {
   "cell_type": "code",
   "execution_count": 2,
   "id": "QpbV-fP5UxN-",
   "metadata": {
    "colab": {
     "base_uri": "https://localhost:8080/"
    },
    "executionInfo": {
     "elapsed": 14,
     "status": "ok",
     "timestamp": 1741862995723,
     "user": {
      "displayName": "BITF21M516-Hafiza Rabia Rasool",
      "userId": "13803347475708047593"
     },
     "user_tz": -300
    },
    "id": "QpbV-fP5UxN-",
    "outputId": "5e140a1a-21b5-4927-f30f-4b5f7e73cf89"
   },
   "outputs": [
    {
     "name": "stdout",
     "output_type": "stream",
     "text": [
      "Files in the directory: ['test.json']\n"
     ]
    }
   ],
   "source": [
    "import os\n",
    "\n",
    "folder_path = r\"C:\\Users\\Mishaal Aslam\\Desktop\\FYP\\Model Training\\Test\"\n",
    "file_name = \"test.json\"\n",
    "\n",
    "# List all files in the folder\n",
    "if os.path.exists(folder_path):\n",
    "    print(\"Files in the directory:\", os.listdir(folder_path))\n",
    "else:\n",
    "    print(\"Directory not found!\")"
   ]
  },
  {
   "cell_type": "markdown",
   "id": "2c060088-ca64-4dc8-bd18-6c68c6c16ba6",
   "metadata": {
    "id": "2c060088-ca64-4dc8-bd18-6c68c6c16ba6"
   },
   "source": [
    "### Data preprocess"
   ]
  },
  {
   "cell_type": "code",
   "execution_count": 3,
   "id": "c3f17b46-9123-4f14-ab15-81ed233366be",
   "metadata": {
    "executionInfo": {
     "elapsed": 1558,
     "status": "ok",
     "timestamp": 1741863045404,
     "user": {
      "displayName": "BITF21M516-Hafiza Rabia Rasool",
      "userId": "13803347475708047593"
     },
     "user_tz": -300
    },
    "id": "c3f17b46-9123-4f14-ab15-81ed233366be"
   },
   "outputs": [],
   "source": [
    "# Load data\n",
    "json_file_path = r\"C:\\Users\\Mishaal Aslam\\Desktop\\FYP\\Model Training\\Test\\test.json\"\n",
    "with open(json_file_path, 'r') as json_file:\n",
    "    data = json.load(json_file)\n",
    "\n"
   ]
  },
  {
   "cell_type": "code",
   "execution_count": 4,
   "id": "lbn9A24nzxw2",
   "metadata": {
    "executionInfo": {
     "elapsed": 15,
     "status": "ok",
     "timestamp": 1741863048166,
     "user": {
      "displayName": "BITF21M516-Hafiza Rabia Rasool",
      "userId": "13803347475708047593"
     },
     "user_tz": -300
    },
    "id": "lbn9A24nzxw2"
   },
   "outputs": [
    {
     "name": "stdout",
     "output_type": "stream",
     "text": [
      "6\n"
     ]
    }
   ],
   "source": [
    "df = pd.DataFrame(data)\n",
    "print(len(df.columns[:-1]))"
   ]
  },
  {
   "cell_type": "code",
   "execution_count": 5,
   "id": "RgFeqqGf0pxL",
   "metadata": {
    "colab": {
     "base_uri": "https://localhost:8080/",
     "height": 417
    },
    "executionInfo": {
     "elapsed": 147,
     "status": "ok",
     "timestamp": 1741863050038,
     "user": {
      "displayName": "BITF21M516-Hafiza Rabia Rasool",
      "userId": "13803347475708047593"
     },
     "user_tz": -300
    },
    "id": "RgFeqqGf0pxL",
    "outputId": "ce4abd30-8787-4d4d-b2d5-39f00d842b83"
   },
   "outputs": [
    {
     "data": {
      "text/html": [
       "<div>\n",
       "<style scoped>\n",
       "    .dataframe tbody tr th:only-of-type {\n",
       "        vertical-align: middle;\n",
       "    }\n",
       "\n",
       "    .dataframe tbody tr th {\n",
       "        vertical-align: top;\n",
       "    }\n",
       "\n",
       "    .dataframe thead th {\n",
       "        text-align: right;\n",
       "    }\n",
       "</style>\n",
       "<table border=\"1\" class=\"dataframe\">\n",
       "  <thead>\n",
       "    <tr style=\"text-align: right;\">\n",
       "      <th></th>\n",
       "      <th>PhoneAccelerometer_train</th>\n",
       "      <th>PhoneGyroscope_train</th>\n",
       "      <th>PhoneMagnetometer_train</th>\n",
       "      <th>WatchAccelerometer_train</th>\n",
       "      <th>WatchGyroscope_train</th>\n",
       "      <th>WatchMagnetometer_train</th>\n",
       "      <th>Y_train</th>\n",
       "    </tr>\n",
       "  </thead>\n",
       "  <tbody>\n",
       "    <tr>\n",
       "      <th>0</th>\n",
       "      <td>[0.48843205, 0.48843205, 0.48843205, 0.4908263...</td>\n",
       "      <td>[-0.01929479, -0.01929479, -0.02173825, -0.022...</td>\n",
       "      <td>[-30.599998, -30.42, -30.0, -29.76, -29.699999...</td>\n",
       "      <td>[9.92636, 9.868899, 9.742006, 9.6845455, 9.607...</td>\n",
       "      <td>[-0.3494149, -0.33475417, -0.31520647, -0.2932...</td>\n",
       "      <td>[-37.44, -37.92, -37.8, -39.12, -39.12, -38.7,...</td>\n",
       "      <td>2</td>\n",
       "    </tr>\n",
       "    <tr>\n",
       "      <th>1</th>\n",
       "      <td>[0.6751855, 0.67279124, 0.6656084, 0.6560313, ...</td>\n",
       "      <td>[-0.0058557545, -0.005244889, -0.0064666197, -...</td>\n",
       "      <td>[-30.599998, -30.42, -30.599998, -30.48, -30.3...</td>\n",
       "      <td>[9.497798, 9.490616, 9.533711, 9.548077, 9.485...</td>\n",
       "      <td>[0.004886922, 0.0036651916, -0.0012217305, -0....</td>\n",
       "      <td>[-38.46, -38.579998, -38.219997, -38.52, -38.2...</td>\n",
       "      <td>2</td>\n",
       "    </tr>\n",
       "    <tr>\n",
       "      <th>2</th>\n",
       "      <td>[2.8252442, 2.6121538, 2.1021733, 1.6664152, 1...</td>\n",
       "      <td>[-0.9960683, -1.0143943, -1.0260007, -1.065096...</td>\n",
       "      <td>[-28.8, -28.439999, -28.439999, -28.439999, -2...</td>\n",
       "      <td>[6.667852, 7.055712, 6.8522053, 6.43322, 6.366...</td>\n",
       "      <td>[1.690875, 1.9315559, 1.8997909, 1.709201, 0.9...</td>\n",
       "      <td>[-38.7, -38.879997, -39.239998, -39.239998, -3...</td>\n",
       "      <td>2</td>\n",
       "    </tr>\n",
       "    <tr>\n",
       "      <th>3</th>\n",
       "      <td>[3.3088877, 3.4214187, 3.5962007, 3.5746522, 3...</td>\n",
       "      <td>[-1.1078566, -1.0473809, -0.98446184, -0.91909...</td>\n",
       "      <td>[-29.34, -28.68, -29.22, -28.98, -29.039999, -...</td>\n",
       "      <td>[8.50181, 7.4842744, 6.9407907, 6.9479733, 7.1...</td>\n",
       "      <td>[-2.2333233, -1.6224581, -1.1716396, -0.714712...</td>\n",
       "      <td>[-41.64, -41.34, -41.16, -40.5, -40.44, -40.14...</td>\n",
       "      <td>2</td>\n",
       "    </tr>\n",
       "    <tr>\n",
       "      <th>4</th>\n",
       "      <td>[1.1396748, 1.1564348, 1.1612233, 1.1803775, 1...</td>\n",
       "      <td>[0.035683084, 0.033850487, 0.033850487, 0.0350...</td>\n",
       "      <td>[-33.0, -33.12, -33.42, -33.36, -33.48, -33.36...</td>\n",
       "      <td>[10.335769, 10.223241, 10.146626, 10.086772, 9...</td>\n",
       "      <td>[0.67073005, 0.6560693, 0.6377433, 0.6401868, ...</td>\n",
       "      <td>[-38.1, -38.04, -38.1, -37.92, -37.559998, -37...</td>\n",
       "      <td>2</td>\n",
       "    </tr>\n",
       "  </tbody>\n",
       "</table>\n",
       "</div>"
      ],
      "text/plain": [
       "                            PhoneAccelerometer_train  \\\n",
       "0  [0.48843205, 0.48843205, 0.48843205, 0.4908263...   \n",
       "1  [0.6751855, 0.67279124, 0.6656084, 0.6560313, ...   \n",
       "2  [2.8252442, 2.6121538, 2.1021733, 1.6664152, 1...   \n",
       "3  [3.3088877, 3.4214187, 3.5962007, 3.5746522, 3...   \n",
       "4  [1.1396748, 1.1564348, 1.1612233, 1.1803775, 1...   \n",
       "\n",
       "                                PhoneGyroscope_train  \\\n",
       "0  [-0.01929479, -0.01929479, -0.02173825, -0.022...   \n",
       "1  [-0.0058557545, -0.005244889, -0.0064666197, -...   \n",
       "2  [-0.9960683, -1.0143943, -1.0260007, -1.065096...   \n",
       "3  [-1.1078566, -1.0473809, -0.98446184, -0.91909...   \n",
       "4  [0.035683084, 0.033850487, 0.033850487, 0.0350...   \n",
       "\n",
       "                             PhoneMagnetometer_train  \\\n",
       "0  [-30.599998, -30.42, -30.0, -29.76, -29.699999...   \n",
       "1  [-30.599998, -30.42, -30.599998, -30.48, -30.3...   \n",
       "2  [-28.8, -28.439999, -28.439999, -28.439999, -2...   \n",
       "3  [-29.34, -28.68, -29.22, -28.98, -29.039999, -...   \n",
       "4  [-33.0, -33.12, -33.42, -33.36, -33.48, -33.36...   \n",
       "\n",
       "                            WatchAccelerometer_train  \\\n",
       "0  [9.92636, 9.868899, 9.742006, 9.6845455, 9.607...   \n",
       "1  [9.497798, 9.490616, 9.533711, 9.548077, 9.485...   \n",
       "2  [6.667852, 7.055712, 6.8522053, 6.43322, 6.366...   \n",
       "3  [8.50181, 7.4842744, 6.9407907, 6.9479733, 7.1...   \n",
       "4  [10.335769, 10.223241, 10.146626, 10.086772, 9...   \n",
       "\n",
       "                                WatchGyroscope_train  \\\n",
       "0  [-0.3494149, -0.33475417, -0.31520647, -0.2932...   \n",
       "1  [0.004886922, 0.0036651916, -0.0012217305, -0....   \n",
       "2  [1.690875, 1.9315559, 1.8997909, 1.709201, 0.9...   \n",
       "3  [-2.2333233, -1.6224581, -1.1716396, -0.714712...   \n",
       "4  [0.67073005, 0.6560693, 0.6377433, 0.6401868, ...   \n",
       "\n",
       "                             WatchMagnetometer_train  Y_train  \n",
       "0  [-37.44, -37.92, -37.8, -39.12, -39.12, -38.7,...        2  \n",
       "1  [-38.46, -38.579998, -38.219997, -38.52, -38.2...        2  \n",
       "2  [-38.7, -38.879997, -39.239998, -39.239998, -3...        2  \n",
       "3  [-41.64, -41.34, -41.16, -40.5, -40.44, -40.14...        2  \n",
       "4  [-38.1, -38.04, -38.1, -37.92, -37.559998, -37...        2  "
      ]
     },
     "execution_count": 5,
     "metadata": {},
     "output_type": "execute_result"
    }
   ],
   "source": [
    "df.head()"
   ]
  },
  {
   "cell_type": "code",
   "execution_count": 6,
   "id": "O32urGxCzywN",
   "metadata": {
    "executionInfo": {
     "elapsed": 57,
     "status": "ok",
     "timestamp": 1741863057396,
     "user": {
      "displayName": "BITF21M516-Hafiza Rabia Rasool",
      "userId": "13803347475708047593"
     },
     "user_tz": -300
    },
    "id": "O32urGxCzywN"
   },
   "outputs": [],
   "source": [
    "from sklearn.model_selection import train_test_split\n",
    "train_set, test_set = train_test_split(df, random_state=42,test_size=0.2)"
   ]
  },
  {
   "cell_type": "code",
   "execution_count": 7,
   "id": "Gjdx3ml00aoM",
   "metadata": {
    "executionInfo": {
     "elapsed": 83,
     "status": "ok",
     "timestamp": 1741865122306,
     "user": {
      "displayName": "BITF21M516-Hafiza Rabia Rasool",
      "userId": "13803347475708047593"
     },
     "user_tz": -300
    },
    "id": "Gjdx3ml00aoM"
   },
   "outputs": [
    {
     "name": "stdout",
     "output_type": "stream",
     "text": [
      "Unique class labels in train set: [0 1 2 3 4 5 6 7]\n",
      "Number of unique classes in test set: 8\n"
     ]
    }
   ],
   "source": [
    "# Define other constants\n",
    "feature_dimension = 1  # Since each column contains a 1D list\n",
    "num_classes = 8  # Number of unique values in Y_train 61,55,6\n",
    "num_features = 6  # Number of features in DataFrame\n",
    "flatten_size =10\n",
    "\n",
    "# Prepare data and train the model\n",
    "y_train = np.array(train_set['Y_train'])\n",
    "\n",
    "X_features = [np.array(train_set[column].to_list()) for column in train_set.columns[:-1]]\n",
    "\n",
    "unique_classes = np.unique(y_train)\n",
    "print(\"Unique class labels in train set:\", unique_classes)\n",
    "print(\"Number of unique classes in test set:\", len(unique_classes))\n"
   ]
  },
  {
   "cell_type": "code",
   "execution_count": 8,
   "id": "080c22f7-ae20-4f70-b940-de9973f20785",
   "metadata": {
    "colab": {
     "base_uri": "https://localhost:8080/"
    },
    "executionInfo": {
     "elapsed": 13,
     "status": "ok",
     "timestamp": 1741865124055,
     "user": {
      "displayName": "BITF21M516-Hafiza Rabia Rasool",
      "userId": "13803347475708047593"
     },
     "user_tz": -300
    },
    "id": "080c22f7-ae20-4f70-b940-de9973f20785",
    "outputId": "13ae899b-22cc-4c2e-f490-66c69b39f92f"
   },
   "outputs": [
    {
     "data": {
      "text/plain": [
       "2326"
      ]
     },
     "execution_count": 8,
     "metadata": {},
     "output_type": "execute_result"
    }
   ],
   "source": [
    "len(df)"
   ]
  },
  {
   "cell_type": "code",
   "execution_count": 9,
   "id": "ef85ead6-515e-4fc4-a825-4343afae0131",
   "metadata": {
    "executionInfo": {
     "elapsed": 12,
     "status": "ok",
     "timestamp": 1741865124836,
     "user": {
      "displayName": "BITF21M516-Hafiza Rabia Rasool",
      "userId": "13803347475708047593"
     },
     "user_tz": -300
    },
    "id": "ef85ead6-515e-4fc4-a825-4343afae0131"
   },
   "outputs": [],
   "source": [
    "#df.head()"
   ]
  },
  {
   "cell_type": "code",
   "execution_count": 10,
   "id": "89df97cd-6eaf-47ef-8b18-236635a1d021",
   "metadata": {
    "colab": {
     "base_uri": "https://localhost:8080/"
    },
    "executionInfo": {
     "elapsed": 19,
     "status": "ok",
     "timestamp": 1741865125609,
     "user": {
      "displayName": "BITF21M516-Hafiza Rabia Rasool",
      "userId": "13803347475708047593"
     },
     "user_tz": -300
    },
    "id": "89df97cd-6eaf-47ef-8b18-236635a1d021",
    "outputId": "609c9416-1000-4be7-b9ca-7071196c3b3a"
   },
   "outputs": [
    {
     "name": "stdout",
     "output_type": "stream",
     "text": [
      "PhoneAccelerometer_train    1200\n",
      "PhoneGyroscope_train        5880\n",
      "PhoneMagnetometer_train     1200\n",
      "WatchAccelerometer_train    1176\n",
      "WatchGyroscope_train        1176\n",
      "WatchMagnetometer_train     1176\n",
      "Y_train                        0\n",
      "dtype: int64\n"
     ]
    }
   ],
   "source": [
    "# Define a function to calculate the minimum length of non-empty lists in each column\n",
    "def min_list_length(column):\n",
    "    non_empty_lists = [x for x in column if isinstance(x, list) and len(x) > 0]\n",
    "    return min([len(x) for x in non_empty_lists]) if non_empty_lists else 0\n",
    "\n",
    "# Use the apply function to apply the custom function to each column\n",
    "min_lengths = df.apply(min_list_length)\n",
    "\n",
    "# min_lengths will contain the minimum lengths of non-empty lists in each column\n",
    "print(min_lengths)"
   ]
  },
  {
   "cell_type": "code",
   "execution_count": 11,
   "id": "884b92ca-e56a-4eb4-8e5a-a70fa2032f31",
   "metadata": {
    "colab": {
     "base_uri": "https://localhost:8080/"
    },
    "executionInfo": {
     "elapsed": 25,
     "status": "ok",
     "timestamp": 1741865133296,
     "user": {
      "displayName": "BITF21M516-Hafiza Rabia Rasool",
      "userId": "13803347475708047593"
     },
     "user_tz": -300
    },
    "id": "884b92ca-e56a-4eb4-8e5a-a70fa2032f31",
    "outputId": "c58e0290-cb30-4759-ebcd-4b5d322c78c8"
   },
   "outputs": [
    {
     "name": "stdout",
     "output_type": "stream",
     "text": [
      "[0 1 2 3 4 5 6 7]\n"
     ]
    }
   ],
   "source": [
    "y_train = np.array(train_set['Y_train'])\n",
    "values = np.unique(y_train)\n",
    "print(values)"
   ]
  },
  {
   "cell_type": "code",
   "execution_count": 12,
   "id": "ae0adeea-5847-4065-bff6-93626a79a99b",
   "metadata": {
    "executionInfo": {
     "elapsed": 15,
     "status": "ok",
     "timestamp": 1741865135414,
     "user": {
      "displayName": "BITF21M516-Hafiza Rabia Rasool",
      "userId": "13803347475708047593"
     },
     "user_tz": -300
    },
    "id": "ae0adeea-5847-4065-bff6-93626a79a99b"
   },
   "outputs": [],
   "source": [
    "#len(values)"
   ]
  },
  {
   "cell_type": "markdown",
   "id": "43ae0dc0-3d41-498e-91cd-ca3ed91d7717",
   "metadata": {
    "id": "43ae0dc0-3d41-498e-91cd-ca3ed91d7717"
   },
   "source": [
    "## Creating CNN"
   ]
  },
  {
   "cell_type": "code",
   "execution_count": 13,
   "id": "c6dce5cb-f8f5-4b35-9660-53658165b268",
   "metadata": {
    "colab": {
     "base_uri": "https://localhost:8080/"
    },
    "executionInfo": {
     "elapsed": 147,
     "status": "ok",
     "timestamp": 1741865138787,
     "user": {
      "displayName": "BITF21M516-Hafiza Rabia Rasool",
      "userId": "13803347475708047593"
     },
     "user_tz": -300
    },
    "id": "c6dce5cb-f8f5-4b35-9660-53658165b268",
    "outputId": "f8f004fe-45b2-480f-d735-9c1cdc3040cc"
   },
   "outputs": [],
   "source": [
    "\n",
    "# Create the input layers for each feature\n",
    "input_layers = []\n",
    "cnn_outputs = []\n",
    "\n",
    "for feature in df.columns[:-1]:\n",
    "    length = df[feature].apply(len)[0]\n",
    "    input_layer = Input(shape=(length, 1))\n",
    "    input_layers.append(input_layer)\n",
    "\n",
    "    # 1st Conv Block\n",
    "    cnn = Conv1D(16, kernel_size=3, activation='relu', kernel_regularizer=l2(0.01))(input_layer)\n",
    "    cnn = MaxPooling1D(pool_size=2)(cnn)\n",
    "  \n",
    "\n",
    "    # 2nd Conv Block\n",
    "    cnn = Conv1D(32, kernel_size=3, activation='relu', kernel_regularizer=l2(0.01))(cnn)\n",
    "    cnn = MaxPooling1D(pool_size=2)(cnn)\n",
    "    #cnn = Dropout(0.3)(cnn)\n",
    "\n",
    "    # Flatten\n",
    "    cnn = Flatten()(cnn)\n",
    "\n",
    "    # Dense Layer before merge (optional, but regularized)\n",
    "    cnn = Dense(64, activation='relu', kernel_regularizer=l2(0.01))(cnn)  # Added meaningful intermediate dense layer\n",
    "    cnn = Dropout(0.3)(cnn)\n",
    "\n",
    "    cnn_outputs.append(cnn)\n",
    "\n",
    "# Concatenate CNN outputs from all features\n",
    "merged_cnn = concatenate(cnn_outputs)"
   ]
  },
  {
   "cell_type": "code",
   "execution_count": 14,
   "id": "6d5863c3-2919-4518-a7d3-aa8302bde2bd",
   "metadata": {
    "colab": {
     "base_uri": "https://localhost:8080/"
    },
    "executionInfo": {
     "elapsed": 14,
     "status": "ok",
     "timestamp": 1741865141015,
     "user": {
      "displayName": "BITF21M516-Hafiza Rabia Rasool",
      "userId": "13803347475708047593"
     },
     "user_tz": -300
    },
    "id": "6d5863c3-2919-4518-a7d3-aa8302bde2bd",
    "outputId": "0caee87f-e482-4b96-8704-417711ed125a"
   },
   "outputs": [
    {
     "data": {
      "text/plain": [
       "<KerasTensor shape=(None, 384), dtype=float32, sparse=False, name=keras_tensor_48>"
      ]
     },
     "execution_count": 14,
     "metadata": {},
     "output_type": "execute_result"
    }
   ],
   "source": [
    "merged_cnn"
   ]
  },
  {
   "cell_type": "code",
   "execution_count": 15,
   "id": "caeb7cea-2013-4ce2-beee-47d66242d586",
   "metadata": {
    "colab": {
     "base_uri": "https://localhost:8080/"
    },
    "executionInfo": {
     "elapsed": 35,
     "status": "ok",
     "timestamp": 1741865142266,
     "user": {
      "displayName": "BITF21M516-Hafiza Rabia Rasool",
      "userId": "13803347475708047593"
     },
     "user_tz": -300
    },
    "id": "caeb7cea-2013-4ce2-beee-47d66242d586",
    "outputId": "e95c6fd8-5242-4164-9404-f112d04ea9c7"
   },
   "outputs": [
    {
     "data": {
      "text/plain": [
       "[<KerasTensor shape=(None, 64), dtype=float32, sparse=False, name=keras_tensor_7>,\n",
       " <KerasTensor shape=(None, 64), dtype=float32, sparse=False, name=keras_tensor_15>,\n",
       " <KerasTensor shape=(None, 64), dtype=float32, sparse=False, name=keras_tensor_23>,\n",
       " <KerasTensor shape=(None, 64), dtype=float32, sparse=False, name=keras_tensor_31>,\n",
       " <KerasTensor shape=(None, 64), dtype=float32, sparse=False, name=keras_tensor_39>,\n",
       " <KerasTensor shape=(None, 64), dtype=float32, sparse=False, name=keras_tensor_47>]"
      ]
     },
     "execution_count": 15,
     "metadata": {},
     "output_type": "execute_result"
    }
   ],
   "source": [
    "cnn_outputs"
   ]
  },
  {
   "cell_type": "markdown",
   "id": "701fb4be-2f16-437c-a7ad-9ae505810644",
   "metadata": {
    "id": "701fb4be-2f16-437c-a7ad-9ae505810644"
   },
   "source": [
    "## Connect CNNs to LSTM"
   ]
  },
  {
   "cell_type": "code",
   "execution_count": 16,
   "id": "e6edd4ba-802d-43cb-9d37-68b5e4aba914",
   "metadata": {
    "executionInfo": {
     "elapsed": 43,
     "status": "ok",
     "timestamp": 1741865146990,
     "user": {
      "displayName": "BITF21M516-Hafiza Rabia Rasool",
      "userId": "13803347475708047593"
     },
     "user_tz": -300
    },
    "id": "e6edd4ba-802d-43cb-9d37-68b5e4aba914"
   },
   "outputs": [],
   "source": [
    "# Reshape the concatenated CNN outputs to match the LSTM input shape\n",
    "\n",
    "#Batch Normalization??\n",
    "reshaped_cnn = Reshape((6, 64))(merged_cnn)\n",
    "\n",
    "# LSTM branch\n",
    "lstm = LSTM(128, return_sequences=True)(reshaped_cnn)\n",
    "lstm = LSTM(64)(lstm)\n",
    "\n",
    "# Fully connected layers\n",
    "dense1 = Dense(128, activation='relu')(lstm)\n",
    "output = Dense(num_classes, activation='softmax')(dense1)\n"
   ]
  },
  {
   "cell_type": "markdown",
   "id": "72dd2d30-fea0-4dae-a632-ab23b66e195b",
   "metadata": {
    "id": "72dd2d30-fea0-4dae-a632-ab23b66e195b"
   },
   "source": [
    "## Create model and train it"
   ]
  },
  {
   "cell_type": "code",
   "execution_count": 17,
   "id": "ce8cd12f-ac2d-4df3-aaaf-7dbd47bdb5c8",
   "metadata": {
    "colab": {
     "base_uri": "https://localhost:8080/"
    },
    "executionInfo": {
     "elapsed": 20800,
     "status": "ok",
     "timestamp": 1741865171962,
     "user": {
      "displayName": "BITF21M516-Hafiza Rabia Rasool",
      "userId": "13803347475708047593"
     },
     "user_tz": -300
    },
    "id": "ce8cd12f-ac2d-4df3-aaaf-7dbd47bdb5c8",
    "outputId": "fb3074f8-3abb-4be6-8422-ed062027997b"
   },
   "outputs": [
    {
     "name": "stdout",
     "output_type": "stream",
     "text": [
      "Epoch 1/300\n",
      "\u001b[1m47/47\u001b[0m \u001b[32m━━━━━━━━━━━━━━━━━━━━\u001b[0m\u001b[37m\u001b[0m \u001b[1m23s\u001b[0m 220ms/step - accuracy: 0.2442 - loss: 10.0620 - val_accuracy: 0.5134 - val_loss: 7.4574\n",
      "Epoch 2/300\n",
      "\u001b[1m47/47\u001b[0m \u001b[32m━━━━━━━━━━━━━━━━━━━━\u001b[0m\u001b[37m\u001b[0m \u001b[1m9s\u001b[0m 183ms/step - accuracy: 0.4531 - loss: 6.9275 - val_accuracy: 0.5753 - val_loss: 5.2666\n",
      "Epoch 3/300\n",
      "\u001b[1m47/47\u001b[0m \u001b[32m━━━━━━━━━━━━━━━━━━━━\u001b[0m\u001b[37m\u001b[0m \u001b[1m9s\u001b[0m 183ms/step - accuracy: 0.5875 - loss: 4.9812 - val_accuracy: 0.6371 - val_loss: 3.9109\n",
      "Epoch 4/300\n",
      "\u001b[1m47/47\u001b[0m \u001b[32m━━━━━━━━━━━━━━━━━━━━\u001b[0m\u001b[37m\u001b[0m \u001b[1m9s\u001b[0m 190ms/step - accuracy: 0.6759 - loss: 3.7523 - val_accuracy: 0.6586 - val_loss: 3.1438\n",
      "Epoch 5/300\n",
      "\u001b[1m47/47\u001b[0m \u001b[32m━━━━━━━━━━━━━━━━━━━━\u001b[0m\u001b[37m\u001b[0m \u001b[1m10s\u001b[0m 212ms/step - accuracy: 0.7266 - loss: 3.0124 - val_accuracy: 0.7177 - val_loss: 2.6958\n",
      "Epoch 6/300\n",
      "\u001b[1m47/47\u001b[0m \u001b[32m━━━━━━━━━━━━━━━━━━━━\u001b[0m\u001b[37m\u001b[0m \u001b[1m8s\u001b[0m 179ms/step - accuracy: 0.7505 - loss: 2.6061 - val_accuracy: 0.7419 - val_loss: 2.4138\n",
      "Epoch 7/300\n",
      "\u001b[1m47/47\u001b[0m \u001b[32m━━━━━━━━━━━━━━━━━━━━\u001b[0m\u001b[37m\u001b[0m \u001b[1m9s\u001b[0m 193ms/step - accuracy: 0.7884 - loss: 2.3010 - val_accuracy: 0.7392 - val_loss: 2.2448\n",
      "Epoch 8/300\n",
      "\u001b[1m47/47\u001b[0m \u001b[32m━━━━━━━━━━━━━━━━━━━━\u001b[0m\u001b[37m\u001b[0m \u001b[1m10s\u001b[0m 211ms/step - accuracy: 0.7919 - loss: 2.1426 - val_accuracy: 0.7742 - val_loss: 2.1182\n",
      "Epoch 9/300\n",
      "\u001b[1m47/47\u001b[0m \u001b[32m━━━━━━━━━━━━━━━━━━━━\u001b[0m\u001b[37m\u001b[0m \u001b[1m10s\u001b[0m 209ms/step - accuracy: 0.8277 - loss: 1.9522 - val_accuracy: 0.8172 - val_loss: 1.9445\n",
      "Epoch 10/300\n",
      "\u001b[1m47/47\u001b[0m \u001b[32m━━━━━━━━━━━━━━━━━━━━\u001b[0m\u001b[37m\u001b[0m \u001b[1m9s\u001b[0m 198ms/step - accuracy: 0.8702 - loss: 1.8177 - val_accuracy: 0.7473 - val_loss: 1.9298\n",
      "Epoch 11/300\n",
      "\u001b[1m47/47\u001b[0m \u001b[32m━━━━━━━━━━━━━━━━━━━━\u001b[0m\u001b[37m\u001b[0m \u001b[1m9s\u001b[0m 190ms/step - accuracy: 0.8898 - loss: 1.6699 - val_accuracy: 0.8145 - val_loss: 1.8004\n",
      "Epoch 12/300\n",
      "\u001b[1m47/47\u001b[0m \u001b[32m━━━━━━━━━━━━━━━━━━━━\u001b[0m\u001b[37m\u001b[0m \u001b[1m9s\u001b[0m 185ms/step - accuracy: 0.9048 - loss: 1.5783 - val_accuracy: 0.8011 - val_loss: 1.7168\n",
      "Epoch 13/300\n",
      "\u001b[1m47/47\u001b[0m \u001b[32m━━━━━━━━━━━━━━━━━━━━\u001b[0m\u001b[37m\u001b[0m \u001b[1m9s\u001b[0m 185ms/step - accuracy: 0.8973 - loss: 1.4976 - val_accuracy: 0.8145 - val_loss: 1.6576\n",
      "Epoch 14/300\n",
      "\u001b[1m47/47\u001b[0m \u001b[32m━━━━━━━━━━━━━━━━━━━━\u001b[0m\u001b[37m\u001b[0m \u001b[1m9s\u001b[0m 191ms/step - accuracy: 0.9327 - loss: 1.3822 - val_accuracy: 0.8011 - val_loss: 1.6429\n",
      "Epoch 15/300\n",
      "\u001b[1m47/47\u001b[0m \u001b[32m━━━━━━━━━━━━━━━━━━━━\u001b[0m\u001b[37m\u001b[0m \u001b[1m9s\u001b[0m 195ms/step - accuracy: 0.9233 - loss: 1.3182 - val_accuracy: 0.7903 - val_loss: 1.5851\n",
      "Epoch 16/300\n",
      "\u001b[1m47/47\u001b[0m \u001b[32m━━━━━━━━━━━━━━━━━━━━\u001b[0m\u001b[37m\u001b[0m \u001b[1m9s\u001b[0m 188ms/step - accuracy: 0.9440 - loss: 1.2308 - val_accuracy: 0.8011 - val_loss: 1.5360\n",
      "Epoch 17/300\n",
      "\u001b[1m47/47\u001b[0m \u001b[32m━━━━━━━━━━━━━━━━━━━━\u001b[0m\u001b[37m\u001b[0m \u001b[1m9s\u001b[0m 189ms/step - accuracy: 0.9589 - loss: 1.1525 - val_accuracy: 0.8253 - val_loss: 1.4854\n",
      "Epoch 18/300\n",
      "\u001b[1m47/47\u001b[0m \u001b[32m━━━━━━━━━━━━━━━━━━━━\u001b[0m\u001b[37m\u001b[0m \u001b[1m9s\u001b[0m 185ms/step - accuracy: 0.9350 - loss: 1.1350 - val_accuracy: 0.7849 - val_loss: 1.5172\n",
      "Epoch 19/300\n",
      "\u001b[1m47/47\u001b[0m \u001b[32m━━━━━━━━━━━━━━━━━━━━\u001b[0m\u001b[37m\u001b[0m \u001b[1m9s\u001b[0m 189ms/step - accuracy: 0.9537 - loss: 1.0643 - val_accuracy: 0.8118 - val_loss: 1.4229\n",
      "Epoch 20/300\n",
      "\u001b[1m47/47\u001b[0m \u001b[32m━━━━━━━━━━━━━━━━━━━━\u001b[0m\u001b[37m\u001b[0m \u001b[1m9s\u001b[0m 185ms/step - accuracy: 0.9733 - loss: 1.0185 - val_accuracy: 0.8091 - val_loss: 1.4234\n",
      "Epoch 21/300\n",
      "\u001b[1m47/47\u001b[0m \u001b[32m━━━━━━━━━━━━━━━━━━━━\u001b[0m\u001b[37m\u001b[0m \u001b[1m10s\u001b[0m 207ms/step - accuracy: 0.9621 - loss: 0.9710 - val_accuracy: 0.8091 - val_loss: 1.4312\n",
      "Epoch 22/300\n",
      "\u001b[1m47/47\u001b[0m \u001b[32m━━━━━━━━━━━━━━━━━━━━\u001b[0m\u001b[37m\u001b[0m \u001b[1m9s\u001b[0m 194ms/step - accuracy: 0.9698 - loss: 0.9194 - val_accuracy: 0.8118 - val_loss: 1.4051\n",
      "Epoch 23/300\n",
      "\u001b[1m47/47\u001b[0m \u001b[32m━━━━━━━━━━━━━━━━━━━━\u001b[0m\u001b[37m\u001b[0m \u001b[1m9s\u001b[0m 194ms/step - accuracy: 0.9642 - loss: 0.8897 - val_accuracy: 0.7930 - val_loss: 1.3446\n",
      "Epoch 24/300\n",
      "\u001b[1m47/47\u001b[0m \u001b[32m━━━━━━━━━━━━━━━━━━━━\u001b[0m\u001b[37m\u001b[0m \u001b[1m9s\u001b[0m 194ms/step - accuracy: 0.9531 - loss: 0.8947 - val_accuracy: 0.8145 - val_loss: 1.3868\n",
      "Epoch 25/300\n",
      "\u001b[1m47/47\u001b[0m \u001b[32m━━━━━━━━━━━━━━━━━━━━\u001b[0m\u001b[37m\u001b[0m \u001b[1m9s\u001b[0m 192ms/step - accuracy: 0.9589 - loss: 0.8680 - val_accuracy: 0.8145 - val_loss: 1.3764\n",
      "Epoch 26/300\n",
      "\u001b[1m47/47\u001b[0m \u001b[32m━━━━━━━━━━━━━━━━━━━━\u001b[0m\u001b[37m\u001b[0m \u001b[1m9s\u001b[0m 202ms/step - accuracy: 0.9769 - loss: 0.7992 - val_accuracy: 0.7957 - val_loss: 1.4196\n",
      "Epoch 27/300\n",
      "\u001b[1m47/47\u001b[0m \u001b[32m━━━━━━━━━━━━━━━━━━━━\u001b[0m\u001b[37m\u001b[0m \u001b[1m10s\u001b[0m 204ms/step - accuracy: 0.9756 - loss: 0.7844 - val_accuracy: 0.8011 - val_loss: 1.2870\n",
      "Epoch 28/300\n",
      "\u001b[1m47/47\u001b[0m \u001b[32m━━━━━━━━━━━━━━━━━━━━\u001b[0m\u001b[37m\u001b[0m \u001b[1m10s\u001b[0m 202ms/step - accuracy: 0.9810 - loss: 0.7400 - val_accuracy: 0.7769 - val_loss: 1.3628\n",
      "Epoch 29/300\n",
      "\u001b[1m47/47\u001b[0m \u001b[32m━━━━━━━━━━━━━━━━━━━━\u001b[0m\u001b[37m\u001b[0m \u001b[1m11s\u001b[0m 232ms/step - accuracy: 0.9824 - loss: 0.7071 - val_accuracy: 0.7984 - val_loss: 1.2535\n",
      "Epoch 30/300\n",
      "\u001b[1m47/47\u001b[0m \u001b[32m━━━━━━━━━━━━━━━━━━━━\u001b[0m\u001b[37m\u001b[0m \u001b[1m11s\u001b[0m 234ms/step - accuracy: 0.9895 - loss: 0.6769 - val_accuracy: 0.8172 - val_loss: 1.2707\n",
      "Epoch 31/300\n",
      "\u001b[1m47/47\u001b[0m \u001b[32m━━━━━━━━━━━━━━━━━━━━\u001b[0m\u001b[37m\u001b[0m \u001b[1m19s\u001b[0m 201ms/step - accuracy: 0.9765 - loss: 0.6535 - val_accuracy: 0.8065 - val_loss: 1.2807\n",
      "Epoch 32/300\n",
      "\u001b[1m47/47\u001b[0m \u001b[32m━━━━━━━━━━━━━━━━━━━━\u001b[0m\u001b[37m\u001b[0m \u001b[1m10s\u001b[0m 205ms/step - accuracy: 0.9768 - loss: 0.6469 - val_accuracy: 0.7796 - val_loss: 1.3183\n",
      "Epoch 33/300\n",
      "\u001b[1m47/47\u001b[0m \u001b[32m━━━━━━━━━━━━━━━━━━━━\u001b[0m\u001b[37m\u001b[0m \u001b[1m10s\u001b[0m 202ms/step - accuracy: 0.9638 - loss: 0.6639 - val_accuracy: 0.7930 - val_loss: 1.2955\n",
      "Epoch 34/300\n",
      "\u001b[1m47/47\u001b[0m \u001b[32m━━━━━━━━━━━━━━━━━━━━\u001b[0m\u001b[37m\u001b[0m \u001b[1m10s\u001b[0m 203ms/step - accuracy: 0.9686 - loss: 0.6466 - val_accuracy: 0.8091 - val_loss: 1.2080\n",
      "Epoch 35/300\n",
      "\u001b[1m47/47\u001b[0m \u001b[32m━━━━━━━━━━━━━━━━━━━━\u001b[0m\u001b[37m\u001b[0m \u001b[1m9s\u001b[0m 199ms/step - accuracy: 0.9841 - loss: 0.6060 - val_accuracy: 0.7876 - val_loss: 1.2463\n",
      "Epoch 36/300\n",
      "\u001b[1m47/47\u001b[0m \u001b[32m━━━━━━━━━━━━━━━━━━━━\u001b[0m\u001b[37m\u001b[0m \u001b[1m10s\u001b[0m 205ms/step - accuracy: 0.9823 - loss: 0.5740 - val_accuracy: 0.7984 - val_loss: 1.2698\n",
      "Epoch 37/300\n",
      "\u001b[1m47/47\u001b[0m \u001b[32m━━━━━━━━━━━━━━━━━━━━\u001b[0m\u001b[37m\u001b[0m \u001b[1m10s\u001b[0m 207ms/step - accuracy: 0.9792 - loss: 0.5727 - val_accuracy: 0.7930 - val_loss: 1.1732\n",
      "Epoch 38/300\n",
      "\u001b[1m47/47\u001b[0m \u001b[32m━━━━━━━━━━━━━━━━━━━━\u001b[0m\u001b[37m\u001b[0m \u001b[1m9s\u001b[0m 200ms/step - accuracy: 0.9884 - loss: 0.5382 - val_accuracy: 0.8065 - val_loss: 1.1894\n",
      "Epoch 39/300\n",
      "\u001b[1m47/47\u001b[0m \u001b[32m━━━━━━━━━━━━━━━━━━━━\u001b[0m\u001b[37m\u001b[0m \u001b[1m9s\u001b[0m 200ms/step - accuracy: 0.9868 - loss: 0.5260 - val_accuracy: 0.7796 - val_loss: 1.2934\n",
      "Epoch 40/300\n",
      "\u001b[1m47/47\u001b[0m \u001b[32m━━━━━━━━━━━━━━━━━━━━\u001b[0m\u001b[37m\u001b[0m \u001b[1m11s\u001b[0m 223ms/step - accuracy: 0.9746 - loss: 0.5349 - val_accuracy: 0.7984 - val_loss: 1.1191\n",
      "Epoch 41/300\n",
      "\u001b[1m47/47\u001b[0m \u001b[32m━━━━━━━━━━━━━━━━━━━━\u001b[0m\u001b[37m\u001b[0m \u001b[1m10s\u001b[0m 202ms/step - accuracy: 0.9852 - loss: 0.4976 - val_accuracy: 0.7876 - val_loss: 1.2753\n",
      "Epoch 42/300\n",
      "\u001b[1m47/47\u001b[0m \u001b[32m━━━━━━━━━━━━━━━━━━━━\u001b[0m\u001b[37m\u001b[0m \u001b[1m10s\u001b[0m 201ms/step - accuracy: 0.9826 - loss: 0.4858 - val_accuracy: 0.8280 - val_loss: 1.0985\n",
      "Epoch 43/300\n",
      "\u001b[1m47/47\u001b[0m \u001b[32m━━━━━━━━━━━━━━━━━━━━\u001b[0m\u001b[37m\u001b[0m \u001b[1m9s\u001b[0m 200ms/step - accuracy: 0.9802 - loss: 0.4910 - val_accuracy: 0.7903 - val_loss: 1.1834\n",
      "Epoch 44/300\n",
      "\u001b[1m47/47\u001b[0m \u001b[32m━━━━━━━━━━━━━━━━━━━━\u001b[0m\u001b[37m\u001b[0m \u001b[1m9s\u001b[0m 193ms/step - accuracy: 0.9852 - loss: 0.4634 - val_accuracy: 0.8226 - val_loss: 1.1506\n",
      "Epoch 45/300\n",
      "\u001b[1m47/47\u001b[0m \u001b[32m━━━━━━━━━━━━━━━━━━━━\u001b[0m\u001b[37m\u001b[0m \u001b[1m10s\u001b[0m 204ms/step - accuracy: 0.9742 - loss: 0.4806 - val_accuracy: 0.7849 - val_loss: 1.1924\n",
      "Epoch 46/300\n",
      "\u001b[1m47/47\u001b[0m \u001b[32m━━━━━━━━━━━━━━━━━━━━\u001b[0m\u001b[37m\u001b[0m \u001b[1m10s\u001b[0m 215ms/step - accuracy: 0.9814 - loss: 0.4667 - val_accuracy: 0.7930 - val_loss: 1.1610\n",
      "Epoch 47/300\n",
      "\u001b[1m47/47\u001b[0m \u001b[32m━━━━━━━━━━━━━━━━━━━━\u001b[0m\u001b[37m\u001b[0m \u001b[1m9s\u001b[0m 197ms/step - accuracy: 0.9838 - loss: 0.4581 - val_accuracy: 0.7984 - val_loss: 1.1785\n",
      "Epoch 48/300\n",
      "\u001b[1m47/47\u001b[0m \u001b[32m━━━━━━━━━━━━━━━━━━━━\u001b[0m\u001b[37m\u001b[0m \u001b[1m9s\u001b[0m 198ms/step - accuracy: 0.9745 - loss: 0.4651 - val_accuracy: 0.7984 - val_loss: 1.1411\n",
      "Epoch 49/300\n",
      "\u001b[1m47/47\u001b[0m \u001b[32m━━━━━━━━━━━━━━━━━━━━\u001b[0m\u001b[37m\u001b[0m \u001b[1m9s\u001b[0m 195ms/step - accuracy: 0.9895 - loss: 0.4136 - val_accuracy: 0.8172 - val_loss: 1.1047\n",
      "Epoch 50/300\n",
      "\u001b[1m47/47\u001b[0m \u001b[32m━━━━━━━━━━━━━━━━━━━━\u001b[0m\u001b[37m\u001b[0m \u001b[1m9s\u001b[0m 200ms/step - accuracy: 0.9900 - loss: 0.4112 - val_accuracy: 0.8091 - val_loss: 1.0987\n",
      "Epoch 51/300\n",
      "\u001b[1m47/47\u001b[0m \u001b[32m━━━━━━━━━━━━━━━━━━━━\u001b[0m\u001b[37m\u001b[0m \u001b[1m9s\u001b[0m 195ms/step - accuracy: 0.9935 - loss: 0.3910 - val_accuracy: 0.8145 - val_loss: 1.1012\n",
      "Epoch 52/300\n",
      "\u001b[1m47/47\u001b[0m \u001b[32m━━━━━━━━━━━━━━━━━━━━\u001b[0m\u001b[37m\u001b[0m \u001b[1m10s\u001b[0m 202ms/step - accuracy: 0.9762 - loss: 0.4174 - val_accuracy: 0.7796 - val_loss: 1.1467\n",
      "Epoch 53/300\n",
      "\u001b[1m47/47\u001b[0m \u001b[32m━━━━━━━━━━━━━━━━━━━━\u001b[0m\u001b[37m\u001b[0m \u001b[1m9s\u001b[0m 191ms/step - accuracy: 0.9780 - loss: 0.4188 - val_accuracy: 0.7903 - val_loss: 1.1625\n",
      "Epoch 54/300\n",
      "\u001b[1m47/47\u001b[0m \u001b[32m━━━━━━━━━━━━━━━━━━━━\u001b[0m\u001b[37m\u001b[0m \u001b[1m9s\u001b[0m 187ms/step - accuracy: 0.9826 - loss: 0.3988 - val_accuracy: 0.8199 - val_loss: 1.1040\n",
      "Epoch 55/300\n",
      "\u001b[1m47/47\u001b[0m \u001b[32m━━━━━━━━━━━━━━━━━━━━\u001b[0m\u001b[37m\u001b[0m \u001b[1m9s\u001b[0m 189ms/step - accuracy: 0.9607 - loss: 0.4433 - val_accuracy: 0.8118 - val_loss: 1.0742\n",
      "Epoch 56/300\n",
      "\u001b[1m47/47\u001b[0m \u001b[32m━━━━━━━━━━━━━━━━━━━━\u001b[0m\u001b[37m\u001b[0m \u001b[1m9s\u001b[0m 188ms/step - accuracy: 0.9825 - loss: 0.4016 - val_accuracy: 0.7796 - val_loss: 1.1662\n",
      "Epoch 57/300\n",
      "\u001b[1m47/47\u001b[0m \u001b[32m━━━━━━━━━━━━━━━━━━━━\u001b[0m\u001b[37m\u001b[0m \u001b[1m9s\u001b[0m 192ms/step - accuracy: 0.9835 - loss: 0.3899 - val_accuracy: 0.7742 - val_loss: 1.1418\n",
      "Epoch 58/300\n",
      "\u001b[1m47/47\u001b[0m \u001b[32m━━━━━━━━━━━━━━━━━━━━\u001b[0m\u001b[37m\u001b[0m \u001b[1m9s\u001b[0m 188ms/step - accuracy: 0.9838 - loss: 0.3813 - val_accuracy: 0.7930 - val_loss: 1.1444\n",
      "Epoch 59/300\n",
      "\u001b[1m47/47\u001b[0m \u001b[32m━━━━━━━━━━━━━━━━━━━━\u001b[0m\u001b[37m\u001b[0m \u001b[1m9s\u001b[0m 191ms/step - accuracy: 0.9903 - loss: 0.3620 - val_accuracy: 0.8253 - val_loss: 1.0975\n",
      "Epoch 60/300\n",
      "\u001b[1m47/47\u001b[0m \u001b[32m━━━━━━━━━━━━━━━━━━━━\u001b[0m\u001b[37m\u001b[0m \u001b[1m9s\u001b[0m 188ms/step - accuracy: 0.9776 - loss: 0.3856 - val_accuracy: 0.7796 - val_loss: 1.1866\n",
      "Epoch 61/300\n",
      "\u001b[1m47/47\u001b[0m \u001b[32m━━━━━━━━━━━━━━━━━━━━\u001b[0m\u001b[37m\u001b[0m \u001b[1m9s\u001b[0m 195ms/step - accuracy: 0.9861 - loss: 0.3543 - val_accuracy: 0.7876 - val_loss: 1.1161\n",
      "Epoch 62/300\n",
      "\u001b[1m47/47\u001b[0m \u001b[32m━━━━━━━━━━━━━━━━━━━━\u001b[0m\u001b[37m\u001b[0m \u001b[1m10s\u001b[0m 216ms/step - accuracy: 0.9962 - loss: 0.3267 - val_accuracy: 0.8091 - val_loss: 1.0764\n",
      "Epoch 63/300\n",
      "\u001b[1m47/47\u001b[0m \u001b[32m━━━━━━━━━━━━━━━━━━━━\u001b[0m\u001b[37m\u001b[0m \u001b[1m10s\u001b[0m 214ms/step - accuracy: 0.9777 - loss: 0.3596 - val_accuracy: 0.8011 - val_loss: 1.1392\n",
      "Epoch 64/300\n",
      "\u001b[1m47/47\u001b[0m \u001b[32m━━━━━━━━━━━━━━━━━━━━\u001b[0m\u001b[37m\u001b[0m \u001b[1m10s\u001b[0m 206ms/step - accuracy: 0.9843 - loss: 0.3432 - val_accuracy: 0.7930 - val_loss: 1.1588\n",
      "Epoch 65/300\n",
      "\u001b[1m47/47\u001b[0m \u001b[32m━━━━━━━━━━━━━━━━━━━━\u001b[0m\u001b[37m\u001b[0m \u001b[1m9s\u001b[0m 197ms/step - accuracy: 0.9901 - loss: 0.3248 - val_accuracy: 0.8091 - val_loss: 1.1031\n",
      "Epoch 66/300\n",
      "\u001b[1m47/47\u001b[0m \u001b[32m━━━━━━━━━━━━━━━━━━━━\u001b[0m\u001b[37m\u001b[0m \u001b[1m9s\u001b[0m 195ms/step - accuracy: 0.9888 - loss: 0.3217 - val_accuracy: 0.7957 - val_loss: 1.1736\n",
      "Epoch 67/300\n",
      "\u001b[1m47/47\u001b[0m \u001b[32m━━━━━━━━━━━━━━━━━━━━\u001b[0m\u001b[37m\u001b[0m \u001b[1m9s\u001b[0m 188ms/step - accuracy: 0.9796 - loss: 0.3371 - val_accuracy: 0.8065 - val_loss: 1.2020\n",
      "Epoch 68/300\n",
      "\u001b[1m47/47\u001b[0m \u001b[32m━━━━━━━━━━━━━━━━━━━━\u001b[0m\u001b[37m\u001b[0m \u001b[1m9s\u001b[0m 188ms/step - accuracy: 0.9821 - loss: 0.3367 - val_accuracy: 0.8145 - val_loss: 1.1482\n",
      "Epoch 69/300\n",
      "\u001b[1m47/47\u001b[0m \u001b[32m━━━━━━━━━━━━━━━━━━━━\u001b[0m\u001b[37m\u001b[0m \u001b[1m9s\u001b[0m 197ms/step - accuracy: 0.9823 - loss: 0.3416 - val_accuracy: 0.7930 - val_loss: 1.1892\n",
      "Epoch 70/300\n",
      "\u001b[1m47/47\u001b[0m \u001b[32m━━━━━━━━━━━━━━━━━━━━\u001b[0m\u001b[37m\u001b[0m \u001b[1m9s\u001b[0m 188ms/step - accuracy: 0.9755 - loss: 0.3419 - val_accuracy: 0.8011 - val_loss: 1.1431\n",
      "Epoch 71/300\n",
      "\u001b[1m47/47\u001b[0m \u001b[32m━━━━━━━━━━━━━━━━━━━━\u001b[0m\u001b[37m\u001b[0m \u001b[1m9s\u001b[0m 193ms/step - accuracy: 0.9898 - loss: 0.3179 - val_accuracy: 0.7876 - val_loss: 1.1553\n",
      "Epoch 72/300\n",
      "\u001b[1m47/47\u001b[0m \u001b[32m━━━━━━━━━━━━━━━━━━━━\u001b[0m\u001b[37m\u001b[0m \u001b[1m9s\u001b[0m 195ms/step - accuracy: 0.9877 - loss: 0.3187 - val_accuracy: 0.8065 - val_loss: 1.1115\n",
      "Epoch 73/300\n",
      "\u001b[1m47/47\u001b[0m \u001b[32m━━━━━━━━━━━━━━━━━━━━\u001b[0m\u001b[37m\u001b[0m \u001b[1m9s\u001b[0m 193ms/step - accuracy: 0.9926 - loss: 0.2950 - val_accuracy: 0.8091 - val_loss: 1.0812\n",
      "Epoch 74/300\n",
      "\u001b[1m47/47\u001b[0m \u001b[32m━━━━━━━━━━━━━━━━━━━━\u001b[0m\u001b[37m\u001b[0m \u001b[1m9s\u001b[0m 195ms/step - accuracy: 0.9944 - loss: 0.2879 - val_accuracy: 0.7984 - val_loss: 1.1470\n",
      "Epoch 75/300\n",
      "\u001b[1m47/47\u001b[0m \u001b[32m━━━━━━━━━━━━━━━━━━━━\u001b[0m\u001b[37m\u001b[0m \u001b[1m9s\u001b[0m 193ms/step - accuracy: 0.9861 - loss: 0.3022 - val_accuracy: 0.8011 - val_loss: 1.0165\n",
      "Epoch 76/300\n",
      "\u001b[1m47/47\u001b[0m \u001b[32m━━━━━━━━━━━━━━━━━━━━\u001b[0m\u001b[37m\u001b[0m \u001b[1m9s\u001b[0m 196ms/step - accuracy: 0.9860 - loss: 0.2911 - val_accuracy: 0.7849 - val_loss: 1.1889\n",
      "Epoch 77/300\n",
      "\u001b[1m47/47\u001b[0m \u001b[32m━━━━━━━━━━━━━━━━━━━━\u001b[0m\u001b[37m\u001b[0m \u001b[1m9s\u001b[0m 200ms/step - accuracy: 0.9852 - loss: 0.3034 - val_accuracy: 0.8011 - val_loss: 1.1053\n",
      "Epoch 78/300\n",
      "\u001b[1m47/47\u001b[0m \u001b[32m━━━━━━━━━━━━━━━━━━━━\u001b[0m\u001b[37m\u001b[0m \u001b[1m10s\u001b[0m 205ms/step - accuracy: 0.9915 - loss: 0.2867 - val_accuracy: 0.8253 - val_loss: 1.0236\n",
      "Epoch 79/300\n",
      "\u001b[1m47/47\u001b[0m \u001b[32m━━━━━━━━━━━━━━━━━━━━\u001b[0m\u001b[37m\u001b[0m \u001b[1m12s\u001b[0m 261ms/step - accuracy: 0.9929 - loss: 0.2752 - val_accuracy: 0.8199 - val_loss: 1.0520\n",
      "Epoch 80/300\n",
      "\u001b[1m47/47\u001b[0m \u001b[32m━━━━━━━━━━━━━━━━━━━━\u001b[0m\u001b[37m\u001b[0m \u001b[1m10s\u001b[0m 206ms/step - accuracy: 0.9858 - loss: 0.2866 - val_accuracy: 0.7903 - val_loss: 1.1921\n",
      "Epoch 81/300\n",
      "\u001b[1m47/47\u001b[0m \u001b[32m━━━━━━━━━━━━━━━━━━━━\u001b[0m\u001b[37m\u001b[0m \u001b[1m9s\u001b[0m 193ms/step - accuracy: 0.9927 - loss: 0.2774 - val_accuracy: 0.7392 - val_loss: 1.3648\n",
      "Epoch 82/300\n",
      "\u001b[1m47/47\u001b[0m \u001b[32m━━━━━━━━━━━━━━━━━━━━\u001b[0m\u001b[37m\u001b[0m \u001b[1m10s\u001b[0m 215ms/step - accuracy: 0.9793 - loss: 0.3033 - val_accuracy: 0.8011 - val_loss: 1.1255\n",
      "Epoch 83/300\n",
      "\u001b[1m47/47\u001b[0m \u001b[32m━━━━━━━━━━━━━━━━━━━━\u001b[0m\u001b[37m\u001b[0m \u001b[1m10s\u001b[0m 214ms/step - accuracy: 0.9818 - loss: 0.2841 - val_accuracy: 0.7984 - val_loss: 1.1092\n",
      "Epoch 84/300\n",
      "\u001b[1m47/47\u001b[0m \u001b[32m━━━━━━━━━━━━━━━━━━━━\u001b[0m\u001b[37m\u001b[0m \u001b[1m10s\u001b[0m 208ms/step - accuracy: 0.9901 - loss: 0.2836 - val_accuracy: 0.8065 - val_loss: 1.0500\n",
      "Epoch 85/300\n",
      "\u001b[1m47/47\u001b[0m \u001b[32m━━━━━━━━━━━━━━━━━━━━\u001b[0m\u001b[37m\u001b[0m \u001b[1m10s\u001b[0m 203ms/step - accuracy: 0.9829 - loss: 0.2757 - val_accuracy: 0.8011 - val_loss: 1.1424\n",
      "Epoch 86/300\n",
      "\u001b[1m47/47\u001b[0m \u001b[32m━━━━━━━━━━━━━━━━━━━━\u001b[0m\u001b[37m\u001b[0m \u001b[1m9s\u001b[0m 198ms/step - accuracy: 0.9896 - loss: 0.2739 - val_accuracy: 0.7903 - val_loss: 1.0884\n",
      "Epoch 87/300\n",
      "\u001b[1m47/47\u001b[0m \u001b[32m━━━━━━━━━━━━━━━━━━━━\u001b[0m\u001b[37m\u001b[0m \u001b[1m9s\u001b[0m 199ms/step - accuracy: 0.9905 - loss: 0.2618 - val_accuracy: 0.7903 - val_loss: 1.1262\n",
      "Epoch 88/300\n",
      "\u001b[1m47/47\u001b[0m \u001b[32m━━━━━━━━━━━━━━━━━━━━\u001b[0m\u001b[37m\u001b[0m \u001b[1m10s\u001b[0m 208ms/step - accuracy: 0.9928 - loss: 0.2523 - val_accuracy: 0.7957 - val_loss: 1.0607\n",
      "Epoch 89/300\n",
      "\u001b[1m47/47\u001b[0m \u001b[32m━━━━━━━━━━━━━━━━━━━━\u001b[0m\u001b[37m\u001b[0m \u001b[1m10s\u001b[0m 209ms/step - accuracy: 0.9832 - loss: 0.2670 - val_accuracy: 0.7984 - val_loss: 1.0206\n",
      "Epoch 90/300\n",
      "\u001b[1m47/47\u001b[0m \u001b[32m━━━━━━━━━━━━━━━━━━━━\u001b[0m\u001b[37m\u001b[0m \u001b[1m9s\u001b[0m 200ms/step - accuracy: 0.9874 - loss: 0.2662 - val_accuracy: 0.7823 - val_loss: 1.1191\n",
      "Epoch 91/300\n",
      "\u001b[1m47/47\u001b[0m \u001b[32m━━━━━━━━━━━━━━━━━━━━\u001b[0m\u001b[37m\u001b[0m \u001b[1m9s\u001b[0m 200ms/step - accuracy: 0.9922 - loss: 0.2515 - val_accuracy: 0.8065 - val_loss: 1.0282\n",
      "Epoch 92/300\n",
      "\u001b[1m47/47\u001b[0m \u001b[32m━━━━━━━━━━━━━━━━━━━━\u001b[0m\u001b[37m\u001b[0m \u001b[1m9s\u001b[0m 197ms/step - accuracy: 0.9831 - loss: 0.2599 - val_accuracy: 0.7957 - val_loss: 1.1077\n",
      "Epoch 93/300\n",
      "\u001b[1m47/47\u001b[0m \u001b[32m━━━━━━━━━━━━━━━━━━━━\u001b[0m\u001b[37m\u001b[0m \u001b[1m9s\u001b[0m 198ms/step - accuracy: 0.9847 - loss: 0.2550 - val_accuracy: 0.7903 - val_loss: 1.1254\n",
      "Epoch 94/300\n",
      "\u001b[1m47/47\u001b[0m \u001b[32m━━━━━━━━━━━━━━━━━━━━\u001b[0m\u001b[37m\u001b[0m \u001b[1m9s\u001b[0m 198ms/step - accuracy: 0.9888 - loss: 0.2596 - val_accuracy: 0.8065 - val_loss: 1.0899\n",
      "Epoch 95/300\n",
      "\u001b[1m47/47\u001b[0m \u001b[32m━━━━━━━━━━━━━━━━━━━━\u001b[0m\u001b[37m\u001b[0m \u001b[1m10s\u001b[0m 204ms/step - accuracy: 0.9790 - loss: 0.2694 - val_accuracy: 0.8065 - val_loss: 1.0827\n",
      "Epoch 96/300\n",
      "\u001b[1m47/47\u001b[0m \u001b[32m━━━━━━━━━━━━━━━━━━━━\u001b[0m\u001b[37m\u001b[0m \u001b[1m9s\u001b[0m 199ms/step - accuracy: 0.9838 - loss: 0.2613 - val_accuracy: 0.8038 - val_loss: 1.0970\n",
      "Epoch 97/300\n",
      "\u001b[1m47/47\u001b[0m \u001b[32m━━━━━━━━━━━━━━━━━━━━\u001b[0m\u001b[37m\u001b[0m \u001b[1m9s\u001b[0m 202ms/step - accuracy: 0.9796 - loss: 0.2822 - val_accuracy: 0.8226 - val_loss: 1.0397\n",
      "Epoch 98/300\n",
      "\u001b[1m47/47\u001b[0m \u001b[32m━━━━━━━━━━━━━━━━━━━━\u001b[0m\u001b[37m\u001b[0m \u001b[1m9s\u001b[0m 200ms/step - accuracy: 0.9920 - loss: 0.2472 - val_accuracy: 0.8011 - val_loss: 1.0943\n",
      "Epoch 99/300\n",
      "\u001b[1m47/47\u001b[0m \u001b[32m━━━━━━━━━━━━━━━━━━━━\u001b[0m\u001b[37m\u001b[0m \u001b[1m9s\u001b[0m 199ms/step - accuracy: 0.9867 - loss: 0.2582 - val_accuracy: 0.8172 - val_loss: 1.0532\n",
      "Epoch 100/300\n",
      "\u001b[1m47/47\u001b[0m \u001b[32m━━━━━━━━━━━━━━━━━━━━\u001b[0m\u001b[37m\u001b[0m \u001b[1m10s\u001b[0m 207ms/step - accuracy: 0.9820 - loss: 0.2528 - val_accuracy: 0.8091 - val_loss: 1.1048\n",
      "Epoch 101/300\n",
      "\u001b[1m47/47\u001b[0m \u001b[32m━━━━━━━━━━━━━━━━━━━━\u001b[0m\u001b[37m\u001b[0m \u001b[1m10s\u001b[0m 207ms/step - accuracy: 0.9889 - loss: 0.2402 - val_accuracy: 0.8199 - val_loss: 0.9826\n",
      "Epoch 102/300\n",
      "\u001b[1m47/47\u001b[0m \u001b[32m━━━━━━━━━━━━━━━━━━━━\u001b[0m\u001b[37m\u001b[0m \u001b[1m9s\u001b[0m 197ms/step - accuracy: 0.9915 - loss: 0.2361 - val_accuracy: 0.8226 - val_loss: 0.9774\n",
      "Epoch 103/300\n",
      "\u001b[1m47/47\u001b[0m \u001b[32m━━━━━━━━━━━━━━━━━━━━\u001b[0m\u001b[37m\u001b[0m \u001b[1m9s\u001b[0m 199ms/step - accuracy: 0.9880 - loss: 0.2365 - val_accuracy: 0.8306 - val_loss: 0.9424\n",
      "Epoch 104/300\n",
      "\u001b[1m47/47\u001b[0m \u001b[32m━━━━━━━━━━━━━━━━━━━━\u001b[0m\u001b[37m\u001b[0m \u001b[1m9s\u001b[0m 201ms/step - accuracy: 0.9919 - loss: 0.2306 - val_accuracy: 0.8172 - val_loss: 1.0820\n",
      "Epoch 105/300\n",
      "\u001b[1m47/47\u001b[0m \u001b[32m━━━━━━━━━━━━━━━━━━━━\u001b[0m\u001b[37m\u001b[0m \u001b[1m9s\u001b[0m 198ms/step - accuracy: 0.9884 - loss: 0.2314 - val_accuracy: 0.8011 - val_loss: 1.0917\n",
      "Epoch 106/300\n",
      "\u001b[1m47/47\u001b[0m \u001b[32m━━━━━━━━━━━━━━━━━━━━\u001b[0m\u001b[37m\u001b[0m \u001b[1m10s\u001b[0m 209ms/step - accuracy: 0.9931 - loss: 0.2213 - val_accuracy: 0.8065 - val_loss: 1.0863\n",
      "Epoch 107/300\n",
      "\u001b[1m47/47\u001b[0m \u001b[32m━━━━━━━━━━━━━━━━━━━━\u001b[0m\u001b[37m\u001b[0m \u001b[1m10s\u001b[0m 212ms/step - accuracy: 0.9842 - loss: 0.2329 - val_accuracy: 0.8118 - val_loss: 1.0618\n",
      "Epoch 108/300\n",
      "\u001b[1m47/47\u001b[0m \u001b[32m━━━━━━━━━━━━━━━━━━━━\u001b[0m\u001b[37m\u001b[0m \u001b[1m10s\u001b[0m 207ms/step - accuracy: 0.9847 - loss: 0.2459 - val_accuracy: 0.7903 - val_loss: 1.1088\n",
      "Epoch 109/300\n",
      "\u001b[1m47/47\u001b[0m \u001b[32m━━━━━━━━━━━━━━━━━━━━\u001b[0m\u001b[37m\u001b[0m \u001b[1m9s\u001b[0m 199ms/step - accuracy: 0.9806 - loss: 0.2665 - val_accuracy: 0.8145 - val_loss: 0.9364\n",
      "Epoch 110/300\n",
      "\u001b[1m47/47\u001b[0m \u001b[32m━━━━━━━━━━━━━━━━━━━━\u001b[0m\u001b[37m\u001b[0m \u001b[1m9s\u001b[0m 195ms/step - accuracy: 0.9832 - loss: 0.2569 - val_accuracy: 0.8199 - val_loss: 0.9962\n",
      "Epoch 111/300\n",
      "\u001b[1m47/47\u001b[0m \u001b[32m━━━━━━━━━━━━━━━━━━━━\u001b[0m\u001b[37m\u001b[0m \u001b[1m10s\u001b[0m 204ms/step - accuracy: 0.9984 - loss: 0.2135 - val_accuracy: 0.8011 - val_loss: 1.0604\n",
      "Epoch 112/300\n",
      "\u001b[1m47/47\u001b[0m \u001b[32m━━━━━━━━━━━━━━━━━━━━\u001b[0m\u001b[37m\u001b[0m \u001b[1m10s\u001b[0m 202ms/step - accuracy: 0.9898 - loss: 0.2191 - val_accuracy: 0.7930 - val_loss: 1.1425\n",
      "Epoch 113/300\n",
      "\u001b[1m47/47\u001b[0m \u001b[32m━━━━━━━━━━━━━━━━━━━━\u001b[0m\u001b[37m\u001b[0m \u001b[1m10s\u001b[0m 222ms/step - accuracy: 0.9914 - loss: 0.2237 - val_accuracy: 0.8118 - val_loss: 1.0613\n",
      "Epoch 114/300\n",
      "\u001b[1m47/47\u001b[0m \u001b[32m━━━━━━━━━━━━━━━━━━━━\u001b[0m\u001b[37m\u001b[0m \u001b[1m10s\u001b[0m 206ms/step - accuracy: 0.9909 - loss: 0.2126 - val_accuracy: 0.7823 - val_loss: 1.1605\n",
      "Epoch 115/300\n",
      "\u001b[1m47/47\u001b[0m \u001b[32m━━━━━━━━━━━━━━━━━━━━\u001b[0m\u001b[37m\u001b[0m \u001b[1m9s\u001b[0m 195ms/step - accuracy: 0.9901 - loss: 0.2124 - val_accuracy: 0.7984 - val_loss: 1.1278\n",
      "Epoch 116/300\n",
      "\u001b[1m47/47\u001b[0m \u001b[32m━━━━━━━━━━━━━━━━━━━━\u001b[0m\u001b[37m\u001b[0m \u001b[1m10s\u001b[0m 211ms/step - accuracy: 0.9981 - loss: 0.1990 - val_accuracy: 0.8038 - val_loss: 1.1022\n",
      "Epoch 117/300\n",
      "\u001b[1m47/47\u001b[0m \u001b[32m━━━━━━━━━━━━━━━━━━━━\u001b[0m\u001b[37m\u001b[0m \u001b[1m10s\u001b[0m 205ms/step - accuracy: 0.9911 - loss: 0.1998 - val_accuracy: 0.8199 - val_loss: 1.0074\n",
      "Epoch 118/300\n",
      "\u001b[1m47/47\u001b[0m \u001b[32m━━━━━━━━━━━━━━━━━━━━\u001b[0m\u001b[37m\u001b[0m \u001b[1m9s\u001b[0m 200ms/step - accuracy: 0.9933 - loss: 0.1932 - val_accuracy: 0.8253 - val_loss: 1.0085\n",
      "Epoch 119/300\n",
      "\u001b[1m47/47\u001b[0m \u001b[32m━━━━━━━━━━━━━━━━━━━━\u001b[0m\u001b[37m\u001b[0m \u001b[1m9s\u001b[0m 200ms/step - accuracy: 0.9970 - loss: 0.1839 - val_accuracy: 0.8091 - val_loss: 1.0494\n",
      "Epoch 120/300\n",
      "\u001b[1m47/47\u001b[0m \u001b[32m━━━━━━━━━━━━━━━━━━━━\u001b[0m\u001b[37m\u001b[0m \u001b[1m10s\u001b[0m 203ms/step - accuracy: 0.9942 - loss: 0.1854 - val_accuracy: 0.8038 - val_loss: 1.0718\n",
      "Epoch 121/300\n",
      "\u001b[1m47/47\u001b[0m \u001b[32m━━━━━━━━━━━━━━━━━━━━\u001b[0m\u001b[37m\u001b[0m \u001b[1m9s\u001b[0m 200ms/step - accuracy: 0.9883 - loss: 0.2083 - val_accuracy: 0.7849 - val_loss: 1.0930\n",
      "Epoch 122/300\n",
      "\u001b[1m47/47\u001b[0m \u001b[32m━━━━━━━━━━━━━━━━━━━━\u001b[0m\u001b[37m\u001b[0m \u001b[1m9s\u001b[0m 198ms/step - accuracy: 0.9837 - loss: 0.2262 - val_accuracy: 0.7634 - val_loss: 1.1642\n",
      "Epoch 123/300\n",
      "\u001b[1m47/47\u001b[0m \u001b[32m━━━━━━━━━━━━━━━━━━━━\u001b[0m\u001b[37m\u001b[0m \u001b[1m9s\u001b[0m 199ms/step - accuracy: 0.9947 - loss: 0.1961 - val_accuracy: 0.7984 - val_loss: 1.1283\n",
      "Epoch 124/300\n",
      "\u001b[1m47/47\u001b[0m \u001b[32m━━━━━━━━━━━━━━━━━━━━\u001b[0m\u001b[37m\u001b[0m \u001b[1m10s\u001b[0m 216ms/step - accuracy: 0.9915 - loss: 0.1976 - val_accuracy: 0.8226 - val_loss: 1.0184\n",
      "Epoch 125/300\n",
      "\u001b[1m47/47\u001b[0m \u001b[32m━━━━━━━━━━━━━━━━━━━━\u001b[0m\u001b[37m\u001b[0m \u001b[1m10s\u001b[0m 205ms/step - accuracy: 0.9927 - loss: 0.2055 - val_accuracy: 0.8253 - val_loss: 1.0005\n",
      "Epoch 126/300\n",
      "\u001b[1m47/47\u001b[0m \u001b[32m━━━━━━━━━━━━━━━━━━━━\u001b[0m\u001b[37m\u001b[0m \u001b[1m9s\u001b[0m 197ms/step - accuracy: 0.9816 - loss: 0.2129 - val_accuracy: 0.8118 - val_loss: 1.0329\n",
      "Epoch 127/300\n",
      "\u001b[1m47/47\u001b[0m \u001b[32m━━━━━━━━━━━━━━━━━━━━\u001b[0m\u001b[37m\u001b[0m \u001b[1m9s\u001b[0m 193ms/step - accuracy: 0.9951 - loss: 0.1968 - val_accuracy: 0.7473 - val_loss: 1.2837\n",
      "Epoch 128/300\n",
      "\u001b[1m47/47\u001b[0m \u001b[32m━━━━━━━━━━━━━━━━━━━━\u001b[0m\u001b[37m\u001b[0m \u001b[1m9s\u001b[0m 189ms/step - accuracy: 0.9884 - loss: 0.2026 - val_accuracy: 0.8091 - val_loss: 1.1078\n",
      "Epoch 129/300\n",
      "\u001b[1m47/47\u001b[0m \u001b[32m━━━━━━━━━━━━━━━━━━━━\u001b[0m\u001b[37m\u001b[0m \u001b[1m10s\u001b[0m 209ms/step - accuracy: 0.9893 - loss: 0.1969 - val_accuracy: 0.7876 - val_loss: 1.1855\n",
      "Epoch 130/300\n",
      "\u001b[1m47/47\u001b[0m \u001b[32m━━━━━━━━━━━━━━━━━━━━\u001b[0m\u001b[37m\u001b[0m \u001b[1m9s\u001b[0m 194ms/step - accuracy: 0.9837 - loss: 0.2107 - val_accuracy: 0.7903 - val_loss: 1.1597\n",
      "Epoch 131/300\n",
      "\u001b[1m47/47\u001b[0m \u001b[32m━━━━━━━━━━━━━━━━━━━━\u001b[0m\u001b[37m\u001b[0m \u001b[1m9s\u001b[0m 191ms/step - accuracy: 0.9852 - loss: 0.2175 - val_accuracy: 0.7849 - val_loss: 1.1392\n",
      "Epoch 132/300\n",
      "\u001b[1m47/47\u001b[0m \u001b[32m━━━━━━━━━━━━━━━━━━━━\u001b[0m\u001b[37m\u001b[0m \u001b[1m10s\u001b[0m 218ms/step - accuracy: 0.9915 - loss: 0.2090 - val_accuracy: 0.8011 - val_loss: 1.0398\n",
      "Epoch 133/300\n",
      "\u001b[1m47/47\u001b[0m \u001b[32m━━━━━━━━━━━━━━━━━━━━\u001b[0m\u001b[37m\u001b[0m \u001b[1m10s\u001b[0m 217ms/step - accuracy: 0.9876 - loss: 0.2067 - val_accuracy: 0.7957 - val_loss: 1.1900\n",
      "Epoch 134/300\n",
      "\u001b[1m47/47\u001b[0m \u001b[32m━━━━━━━━━━━━━━━━━━━━\u001b[0m\u001b[37m\u001b[0m \u001b[1m12s\u001b[0m 247ms/step - accuracy: 0.9925 - loss: 0.1880 - val_accuracy: 0.7769 - val_loss: 1.2157\n",
      "Epoch 135/300\n",
      "\u001b[1m47/47\u001b[0m \u001b[32m━━━━━━━━━━━━━━━━━━━━\u001b[0m\u001b[37m\u001b[0m \u001b[1m11s\u001b[0m 242ms/step - accuracy: 0.9944 - loss: 0.1920 - val_accuracy: 0.8118 - val_loss: 1.1173\n",
      "Epoch 136/300\n",
      "\u001b[1m47/47\u001b[0m \u001b[32m━━━━━━━━━━━━━━━━━━━━\u001b[0m\u001b[37m\u001b[0m \u001b[1m11s\u001b[0m 229ms/step - accuracy: 0.9959 - loss: 0.1793 - val_accuracy: 0.8011 - val_loss: 1.0735\n",
      "Epoch 137/300\n",
      "\u001b[1m47/47\u001b[0m \u001b[32m━━━━━━━━━━━━━━━━━━━━\u001b[0m\u001b[37m\u001b[0m \u001b[1m10s\u001b[0m 213ms/step - accuracy: 0.9893 - loss: 0.1872 - val_accuracy: 0.8065 - val_loss: 1.0922\n",
      "Epoch 138/300\n",
      "\u001b[1m47/47\u001b[0m \u001b[32m━━━━━━━━━━━━━━━━━━━━\u001b[0m\u001b[37m\u001b[0m \u001b[1m11s\u001b[0m 226ms/step - accuracy: 0.9915 - loss: 0.1858 - val_accuracy: 0.7903 - val_loss: 1.1699\n",
      "Epoch 139/300\n",
      "\u001b[1m47/47\u001b[0m \u001b[32m━━━━━━━━━━━━━━━━━━━━\u001b[0m\u001b[37m\u001b[0m \u001b[1m10s\u001b[0m 220ms/step - accuracy: 0.9879 - loss: 0.1995 - val_accuracy: 0.8011 - val_loss: 1.1415\n",
      "Epoch 140/300\n",
      "\u001b[1m47/47\u001b[0m \u001b[32m━━━━━━━━━━━━━━━━━━━━\u001b[0m\u001b[37m\u001b[0m \u001b[1m10s\u001b[0m 214ms/step - accuracy: 0.9923 - loss: 0.1835 - val_accuracy: 0.8011 - val_loss: 1.0375\n",
      "Epoch 141/300\n",
      "\u001b[1m47/47\u001b[0m \u001b[32m━━━━━━━━━━━━━━━━━━━━\u001b[0m\u001b[37m\u001b[0m \u001b[1m10s\u001b[0m 215ms/step - accuracy: 0.9884 - loss: 0.1863 - val_accuracy: 0.7930 - val_loss: 1.0235\n",
      "Epoch 142/300\n",
      "\u001b[1m47/47\u001b[0m \u001b[32m━━━━━━━━━━━━━━━━━━━━\u001b[0m\u001b[37m\u001b[0m \u001b[1m10s\u001b[0m 215ms/step - accuracy: 0.9923 - loss: 0.1861 - val_accuracy: 0.7930 - val_loss: 1.0929\n",
      "Epoch 143/300\n",
      "\u001b[1m47/47\u001b[0m \u001b[32m━━━━━━━━━━━━━━━━━━━━\u001b[0m\u001b[37m\u001b[0m \u001b[1m11s\u001b[0m 242ms/step - accuracy: 0.9828 - loss: 0.1916 - val_accuracy: 0.8091 - val_loss: 1.0890\n",
      "Epoch 144/300\n",
      "\u001b[1m47/47\u001b[0m \u001b[32m━━━━━━━━━━━━━━━━━━━━\u001b[0m\u001b[37m\u001b[0m \u001b[1m12s\u001b[0m 248ms/step - accuracy: 0.9918 - loss: 0.1818 - val_accuracy: 0.7957 - val_loss: 1.0783\n",
      "Epoch 145/300\n",
      "\u001b[1m47/47\u001b[0m \u001b[32m━━━━━━━━━━━━━━━━━━━━\u001b[0m\u001b[37m\u001b[0m \u001b[1m12s\u001b[0m 245ms/step - accuracy: 0.9920 - loss: 0.1817 - val_accuracy: 0.8253 - val_loss: 1.0400\n",
      "Epoch 146/300\n",
      "\u001b[1m47/47\u001b[0m \u001b[32m━━━━━━━━━━━━━━━━━━━━\u001b[0m\u001b[37m\u001b[0m \u001b[1m12s\u001b[0m 254ms/step - accuracy: 0.9882 - loss: 0.1791 - val_accuracy: 0.7903 - val_loss: 1.2448\n",
      "Epoch 147/300\n",
      "\u001b[1m47/47\u001b[0m \u001b[32m━━━━━━━━━━━━━━━━━━━━\u001b[0m\u001b[37m\u001b[0m \u001b[1m12s\u001b[0m 251ms/step - accuracy: 0.9904 - loss: 0.1876 - val_accuracy: 0.8118 - val_loss: 1.1703\n",
      "Epoch 148/300\n",
      "\u001b[1m47/47\u001b[0m \u001b[32m━━━━━━━━━━━━━━━━━━━━\u001b[0m\u001b[37m\u001b[0m \u001b[1m12s\u001b[0m 247ms/step - accuracy: 0.9832 - loss: 0.2048 - val_accuracy: 0.7984 - val_loss: 1.1395\n",
      "Epoch 149/300\n",
      "\u001b[1m47/47\u001b[0m \u001b[32m━━━━━━━━━━━━━━━━━━━━\u001b[0m\u001b[37m\u001b[0m \u001b[1m11s\u001b[0m 236ms/step - accuracy: 0.9854 - loss: 0.1865 - val_accuracy: 0.8011 - val_loss: 1.1086\n",
      "Epoch 150/300\n",
      "\u001b[1m47/47\u001b[0m \u001b[32m━━━━━━━━━━━━━━━━━━━━\u001b[0m\u001b[37m\u001b[0m \u001b[1m11s\u001b[0m 239ms/step - accuracy: 0.9903 - loss: 0.1794 - val_accuracy: 0.8038 - val_loss: 1.1024\n",
      "Epoch 151/300\n",
      "\u001b[1m47/47\u001b[0m \u001b[32m━━━━━━━━━━━━━━━━━━━━\u001b[0m\u001b[37m\u001b[0m \u001b[1m11s\u001b[0m 241ms/step - accuracy: 0.9908 - loss: 0.1749 - val_accuracy: 0.8172 - val_loss: 1.0351\n",
      "Epoch 152/300\n",
      "\u001b[1m47/47\u001b[0m \u001b[32m━━━━━━━━━━━━━━━━━━━━\u001b[0m\u001b[37m\u001b[0m \u001b[1m11s\u001b[0m 233ms/step - accuracy: 0.9897 - loss: 0.1740 - val_accuracy: 0.8333 - val_loss: 0.9909\n",
      "Epoch 153/300\n",
      "\u001b[1m47/47\u001b[0m \u001b[32m━━━━━━━━━━━━━━━━━━━━\u001b[0m\u001b[37m\u001b[0m \u001b[1m11s\u001b[0m 235ms/step - accuracy: 0.9930 - loss: 0.1763 - val_accuracy: 0.8065 - val_loss: 1.0238\n",
      "Epoch 154/300\n",
      "\u001b[1m47/47\u001b[0m \u001b[32m━━━━━━━━━━━━━━━━━━━━\u001b[0m\u001b[37m\u001b[0m \u001b[1m11s\u001b[0m 236ms/step - accuracy: 0.9930 - loss: 0.1755 - val_accuracy: 0.8011 - val_loss: 1.0045\n",
      "Epoch 155/300\n",
      "\u001b[1m47/47\u001b[0m \u001b[32m━━━━━━━━━━━━━━━━━━━━\u001b[0m\u001b[37m\u001b[0m \u001b[1m11s\u001b[0m 233ms/step - accuracy: 0.9953 - loss: 0.1701 - val_accuracy: 0.8091 - val_loss: 0.9926\n",
      "Epoch 156/300\n",
      "\u001b[1m47/47\u001b[0m \u001b[32m━━━━━━━━━━━━━━━━━━━━\u001b[0m\u001b[37m\u001b[0m \u001b[1m12s\u001b[0m 246ms/step - accuracy: 0.9912 - loss: 0.1701 - val_accuracy: 0.8118 - val_loss: 0.9793\n",
      "Epoch 157/300\n",
      "\u001b[1m47/47\u001b[0m \u001b[32m━━━━━━━━━━━━━━━━━━━━\u001b[0m\u001b[37m\u001b[0m \u001b[1m11s\u001b[0m 234ms/step - accuracy: 0.9952 - loss: 0.1670 - val_accuracy: 0.7796 - val_loss: 1.1038\n",
      "Epoch 158/300\n",
      "\u001b[1m47/47\u001b[0m \u001b[32m━━━━━━━━━━━━━━━━━━━━\u001b[0m\u001b[37m\u001b[0m \u001b[1m19s\u001b[0m 417ms/step - accuracy: 0.9925 - loss: 0.1689 - val_accuracy: 0.7876 - val_loss: 1.1884\n",
      "Epoch 159/300\n",
      "\u001b[1m47/47\u001b[0m \u001b[32m━━━━━━━━━━━━━━━━━━━━\u001b[0m\u001b[37m\u001b[0m \u001b[1m161s\u001b[0m 3s/step - accuracy: 0.9875 - loss: 0.1764 - val_accuracy: 0.7930 - val_loss: 1.1034\n",
      "Epoch 160/300\n",
      "\u001b[1m47/47\u001b[0m \u001b[32m━━━━━━━━━━━━━━━━━━━━\u001b[0m\u001b[37m\u001b[0m \u001b[1m13s\u001b[0m 266ms/step - accuracy: 0.9827 - loss: 0.2021 - val_accuracy: 0.7984 - val_loss: 1.0957\n",
      "Epoch 161/300\n",
      "\u001b[1m47/47\u001b[0m \u001b[32m━━━━━━━━━━━━━━━━━━━━\u001b[0m\u001b[37m\u001b[0m \u001b[1m21s\u001b[0m 266ms/step - accuracy: 0.9837 - loss: 0.2002 - val_accuracy: 0.7984 - val_loss: 1.1141\n",
      "Epoch 162/300\n",
      "\u001b[1m47/47\u001b[0m \u001b[32m━━━━━━━━━━━━━━━━━━━━\u001b[0m\u001b[37m\u001b[0m \u001b[1m11s\u001b[0m 243ms/step - accuracy: 0.9940 - loss: 0.1745 - val_accuracy: 0.8065 - val_loss: 1.0661\n",
      "Epoch 163/300\n",
      "\u001b[1m47/47\u001b[0m \u001b[32m━━━━━━━━━━━━━━━━━━━━\u001b[0m\u001b[37m\u001b[0m \u001b[1m11s\u001b[0m 231ms/step - accuracy: 0.9968 - loss: 0.1642 - val_accuracy: 0.8145 - val_loss: 1.0187\n",
      "Epoch 164/300\n",
      "\u001b[1m47/47\u001b[0m \u001b[32m━━━━━━━━━━━━━━━━━━━━\u001b[0m\u001b[37m\u001b[0m \u001b[1m11s\u001b[0m 228ms/step - accuracy: 0.9964 - loss: 0.1657 - val_accuracy: 0.7634 - val_loss: 1.2568\n",
      "Epoch 165/300\n",
      "\u001b[1m47/47\u001b[0m \u001b[32m━━━━━━━━━━━━━━━━━━━━\u001b[0m\u001b[37m\u001b[0m \u001b[1m12s\u001b[0m 250ms/step - accuracy: 0.9952 - loss: 0.1654 - val_accuracy: 0.7984 - val_loss: 1.1300\n",
      "Epoch 166/300\n",
      "\u001b[1m47/47\u001b[0m \u001b[32m━━━━━━━━━━━━━━━━━━━━\u001b[0m\u001b[37m\u001b[0m \u001b[1m11s\u001b[0m 229ms/step - accuracy: 0.9923 - loss: 0.1668 - val_accuracy: 0.7742 - val_loss: 1.1886\n",
      "Epoch 167/300\n",
      "\u001b[1m47/47\u001b[0m \u001b[32m━━━━━━━━━━━━━━━━━━━━\u001b[0m\u001b[37m\u001b[0m \u001b[1m11s\u001b[0m 228ms/step - accuracy: 0.9892 - loss: 0.1717 - val_accuracy: 0.8011 - val_loss: 1.0632\n",
      "Epoch 168/300\n",
      "\u001b[1m47/47\u001b[0m \u001b[32m━━━━━━━━━━━━━━━━━━━━\u001b[0m\u001b[37m\u001b[0m \u001b[1m11s\u001b[0m 230ms/step - accuracy: 0.9945 - loss: 0.1645 - val_accuracy: 0.7984 - val_loss: 1.1042\n",
      "Epoch 169/300\n",
      "\u001b[1m47/47\u001b[0m \u001b[32m━━━━━━━━━━━━━━━━━━━━\u001b[0m\u001b[37m\u001b[0m \u001b[1m12s\u001b[0m 257ms/step - accuracy: 0.9933 - loss: 0.1577 - val_accuracy: 0.8065 - val_loss: 1.0743\n",
      "Epoch 170/300\n",
      "\u001b[1m47/47\u001b[0m \u001b[32m━━━━━━━━━━━━━━━━━━━━\u001b[0m\u001b[37m\u001b[0m \u001b[1m20s\u001b[0m 251ms/step - accuracy: 0.9949 - loss: 0.1558 - val_accuracy: 0.7849 - val_loss: 1.0856\n",
      "Epoch 171/300\n",
      "\u001b[1m47/47\u001b[0m \u001b[32m━━━━━━━━━━━━━━━━━━━━\u001b[0m\u001b[37m\u001b[0m \u001b[1m12s\u001b[0m 246ms/step - accuracy: 0.9957 - loss: 0.1593 - val_accuracy: 0.7903 - val_loss: 1.1554\n",
      "Epoch 172/300\n",
      "\u001b[1m47/47\u001b[0m \u001b[32m━━━━━━━━━━━━━━━━━━━━\u001b[0m\u001b[37m\u001b[0m \u001b[1m12s\u001b[0m 245ms/step - accuracy: 0.9908 - loss: 0.1694 - val_accuracy: 0.8038 - val_loss: 1.1076\n",
      "Epoch 173/300\n",
      "\u001b[1m47/47\u001b[0m \u001b[32m━━━━━━━━━━━━━━━━━━━━\u001b[0m\u001b[37m\u001b[0m \u001b[1m12s\u001b[0m 250ms/step - accuracy: 0.9889 - loss: 0.1663 - val_accuracy: 0.7957 - val_loss: 1.1357\n",
      "Epoch 174/300\n",
      "\u001b[1m47/47\u001b[0m \u001b[32m━━━━━━━━━━━━━━━━━━━━\u001b[0m\u001b[37m\u001b[0m \u001b[1m12s\u001b[0m 247ms/step - accuracy: 0.9941 - loss: 0.1638 - val_accuracy: 0.7769 - val_loss: 1.2171\n",
      "Epoch 175/300\n",
      "\u001b[1m47/47\u001b[0m \u001b[32m━━━━━━━━━━━━━━━━━━━━\u001b[0m\u001b[37m\u001b[0m \u001b[1m10s\u001b[0m 218ms/step - accuracy: 0.9925 - loss: 0.1614 - val_accuracy: 0.7742 - val_loss: 1.1622\n",
      "Epoch 176/300\n",
      "\u001b[1m47/47\u001b[0m \u001b[32m━━━━━━━━━━━━━━━━━━━━\u001b[0m\u001b[37m\u001b[0m \u001b[1m10s\u001b[0m 205ms/step - accuracy: 0.9949 - loss: 0.1526 - val_accuracy: 0.7796 - val_loss: 1.1502\n",
      "Epoch 177/300\n",
      "\u001b[1m47/47\u001b[0m \u001b[32m━━━━━━━━━━━━━━━━━━━━\u001b[0m\u001b[37m\u001b[0m \u001b[1m10s\u001b[0m 208ms/step - accuracy: 0.9893 - loss: 0.1667 - val_accuracy: 0.7849 - val_loss: 1.2358\n",
      "Epoch 178/300\n",
      "\u001b[1m47/47\u001b[0m \u001b[32m━━━━━━━━━━━━━━━━━━━━\u001b[0m\u001b[37m\u001b[0m \u001b[1m10s\u001b[0m 211ms/step - accuracy: 0.9832 - loss: 0.1785 - val_accuracy: 0.8038 - val_loss: 1.0900\n",
      "Epoch 179/300\n",
      "\u001b[1m47/47\u001b[0m \u001b[32m━━━━━━━━━━━━━━━━━━━━\u001b[0m\u001b[37m\u001b[0m \u001b[1m10s\u001b[0m 203ms/step - accuracy: 0.9906 - loss: 0.1643 - val_accuracy: 0.8145 - val_loss: 0.9679\n",
      "Epoch 180/300\n",
      "\u001b[1m47/47\u001b[0m \u001b[32m━━━━━━━━━━━━━━━━━━━━\u001b[0m\u001b[37m\u001b[0m \u001b[1m9s\u001b[0m 199ms/step - accuracy: 0.9935 - loss: 0.1679 - val_accuracy: 0.7849 - val_loss: 1.1488\n",
      "Epoch 181/300\n",
      "\u001b[1m47/47\u001b[0m \u001b[32m━━━━━━━━━━━━━━━━━━━━\u001b[0m\u001b[37m\u001b[0m \u001b[1m9s\u001b[0m 194ms/step - accuracy: 0.9940 - loss: 0.1583 - val_accuracy: 0.7930 - val_loss: 1.0975\n",
      "Epoch 182/300\n",
      "\u001b[1m47/47\u001b[0m \u001b[32m━━━━━━━━━━━━━━━━━━━━\u001b[0m\u001b[37m\u001b[0m \u001b[1m9s\u001b[0m 192ms/step - accuracy: 0.9908 - loss: 0.1626 - val_accuracy: 0.7984 - val_loss: 1.1426\n",
      "Epoch 183/300\n",
      "\u001b[1m47/47\u001b[0m \u001b[32m━━━━━━━━━━━━━━━━━━━━\u001b[0m\u001b[37m\u001b[0m \u001b[1m9s\u001b[0m 200ms/step - accuracy: 0.9888 - loss: 0.1657 - val_accuracy: 0.8038 - val_loss: 1.1545\n",
      "Epoch 184/300\n",
      "\u001b[1m47/47\u001b[0m \u001b[32m━━━━━━━━━━━━━━━━━━━━\u001b[0m\u001b[37m\u001b[0m \u001b[1m9s\u001b[0m 194ms/step - accuracy: 0.9830 - loss: 0.1745 - val_accuracy: 0.8011 - val_loss: 1.0587\n",
      "Epoch 185/300\n",
      "\u001b[1m47/47\u001b[0m \u001b[32m━━━━━━━━━━━━━━━━━━━━\u001b[0m\u001b[37m\u001b[0m \u001b[1m9s\u001b[0m 187ms/step - accuracy: 0.9935 - loss: 0.1580 - val_accuracy: 0.8091 - val_loss: 1.1358\n",
      "Epoch 186/300\n",
      "\u001b[1m47/47\u001b[0m \u001b[32m━━━━━━━━━━━━━━━━━━━━\u001b[0m\u001b[37m\u001b[0m \u001b[1m9s\u001b[0m 196ms/step - accuracy: 0.9878 - loss: 0.1817 - val_accuracy: 0.8145 - val_loss: 1.0880\n",
      "Epoch 187/300\n",
      "\u001b[1m47/47\u001b[0m \u001b[32m━━━━━━━━━━━━━━━━━━━━\u001b[0m\u001b[37m\u001b[0m \u001b[1m9s\u001b[0m 191ms/step - accuracy: 0.9955 - loss: 0.1476 - val_accuracy: 0.8038 - val_loss: 1.0728\n",
      "Epoch 188/300\n",
      "\u001b[1m47/47\u001b[0m \u001b[32m━━━━━━━━━━━━━━━━━━━━\u001b[0m\u001b[37m\u001b[0m \u001b[1m9s\u001b[0m 186ms/step - accuracy: 0.9973 - loss: 0.1429 - val_accuracy: 0.8226 - val_loss: 1.0168\n",
      "Epoch 189/300\n",
      "\u001b[1m47/47\u001b[0m \u001b[32m━━━━━━━━━━━━━━━━━━━━\u001b[0m\u001b[37m\u001b[0m \u001b[1m9s\u001b[0m 182ms/step - accuracy: 0.9917 - loss: 0.1562 - val_accuracy: 0.8172 - val_loss: 1.0035\n",
      "Epoch 190/300\n",
      "\u001b[1m47/47\u001b[0m \u001b[32m━━━━━━━━━━━━━━━━━━━━\u001b[0m\u001b[37m\u001b[0m \u001b[1m9s\u001b[0m 185ms/step - accuracy: 0.9955 - loss: 0.1611 - val_accuracy: 0.8118 - val_loss: 0.9828\n",
      "Epoch 191/300\n",
      "\u001b[1m47/47\u001b[0m \u001b[32m━━━━━━━━━━━━━━━━━━━━\u001b[0m\u001b[37m\u001b[0m \u001b[1m11s\u001b[0m 234ms/step - accuracy: 0.9967 - loss: 0.1449 - val_accuracy: 0.8226 - val_loss: 1.0074\n",
      "Epoch 192/300\n",
      "\u001b[1m47/47\u001b[0m \u001b[32m━━━━━━━━━━━━━━━━━━━━\u001b[0m\u001b[37m\u001b[0m \u001b[1m10s\u001b[0m 205ms/step - accuracy: 0.9965 - loss: 0.1436 - val_accuracy: 0.8333 - val_loss: 0.9302\n",
      "Epoch 193/300\n",
      "\u001b[1m47/47\u001b[0m \u001b[32m━━━━━━━━━━━━━━━━━━━━\u001b[0m\u001b[37m\u001b[0m \u001b[1m9s\u001b[0m 194ms/step - accuracy: 0.9949 - loss: 0.1363 - val_accuracy: 0.8065 - val_loss: 1.0215\n",
      "Epoch 194/300\n",
      "\u001b[1m47/47\u001b[0m \u001b[32m━━━━━━━━━━━━━━━━━━━━\u001b[0m\u001b[37m\u001b[0m \u001b[1m9s\u001b[0m 190ms/step - accuracy: 0.9939 - loss: 0.1458 - val_accuracy: 0.8118 - val_loss: 0.9619\n",
      "Epoch 195/300\n",
      "\u001b[1m47/47\u001b[0m \u001b[32m━━━━━━━━━━━━━━━━━━━━\u001b[0m\u001b[37m\u001b[0m \u001b[1m9s\u001b[0m 197ms/step - accuracy: 0.9964 - loss: 0.1381 - val_accuracy: 0.7930 - val_loss: 1.1301\n",
      "Epoch 196/300\n",
      "\u001b[1m47/47\u001b[0m \u001b[32m━━━━━━━━━━━━━━━━━━━━\u001b[0m\u001b[37m\u001b[0m \u001b[1m10s\u001b[0m 207ms/step - accuracy: 0.9939 - loss: 0.1360 - val_accuracy: 0.8306 - val_loss: 1.0128\n",
      "Epoch 197/300\n",
      "\u001b[1m47/47\u001b[0m \u001b[32m━━━━━━━━━━━━━━━━━━━━\u001b[0m\u001b[37m\u001b[0m \u001b[1m10s\u001b[0m 212ms/step - accuracy: 0.9896 - loss: 0.1516 - val_accuracy: 0.7876 - val_loss: 1.1202\n",
      "Epoch 198/300\n",
      "\u001b[1m47/47\u001b[0m \u001b[32m━━━━━━━━━━━━━━━━━━━━\u001b[0m\u001b[37m\u001b[0m \u001b[1m10s\u001b[0m 207ms/step - accuracy: 0.9933 - loss: 0.1465 - val_accuracy: 0.7930 - val_loss: 1.1720\n",
      "Epoch 199/300\n",
      "\u001b[1m47/47\u001b[0m \u001b[32m━━━━━━━━━━━━━━━━━━━━\u001b[0m\u001b[37m\u001b[0m \u001b[1m10s\u001b[0m 207ms/step - accuracy: 0.9901 - loss: 0.1523 - val_accuracy: 0.7688 - val_loss: 1.1928\n",
      "Epoch 200/300\n",
      "\u001b[1m47/47\u001b[0m \u001b[32m━━━━━━━━━━━━━━━━━━━━\u001b[0m\u001b[37m\u001b[0m \u001b[1m9s\u001b[0m 195ms/step - accuracy: 0.9957 - loss: 0.1341 - val_accuracy: 0.8011 - val_loss: 1.0654\n",
      "Epoch 201/300\n",
      "\u001b[1m47/47\u001b[0m \u001b[32m━━━━━━━━━━━━━━━━━━━━\u001b[0m\u001b[37m\u001b[0m \u001b[1m9s\u001b[0m 197ms/step - accuracy: 0.9906 - loss: 0.1417 - val_accuracy: 0.7849 - val_loss: 1.1571\n",
      "Epoch 202/300\n",
      "\u001b[1m47/47\u001b[0m \u001b[32m━━━━━━━━━━━━━━━━━━━━\u001b[0m\u001b[37m\u001b[0m \u001b[1m9s\u001b[0m 192ms/step - accuracy: 0.9905 - loss: 0.1639 - val_accuracy: 0.7688 - val_loss: 1.1637\n",
      "Epoch 203/300\n",
      "\u001b[1m47/47\u001b[0m \u001b[32m━━━━━━━━━━━━━━━━━━━━\u001b[0m\u001b[37m\u001b[0m \u001b[1m9s\u001b[0m 187ms/step - accuracy: 0.9867 - loss: 0.1797 - val_accuracy: 0.7930 - val_loss: 1.1750\n",
      "Epoch 204/300\n",
      "\u001b[1m47/47\u001b[0m \u001b[32m━━━━━━━━━━━━━━━━━━━━\u001b[0m\u001b[37m\u001b[0m \u001b[1m9s\u001b[0m 185ms/step - accuracy: 0.9836 - loss: 0.1698 - val_accuracy: 0.7769 - val_loss: 1.2460\n",
      "Epoch 205/300\n",
      "\u001b[1m47/47\u001b[0m \u001b[32m━━━━━━━━━━━━━━━━━━━━\u001b[0m\u001b[37m\u001b[0m \u001b[1m10s\u001b[0m 203ms/step - accuracy: 0.9784 - loss: 0.1878 - val_accuracy: 0.7823 - val_loss: 1.1203\n",
      "Epoch 206/300\n",
      "\u001b[1m47/47\u001b[0m \u001b[32m━━━━━━━━━━━━━━━━━━━━\u001b[0m\u001b[37m\u001b[0m \u001b[1m9s\u001b[0m 186ms/step - accuracy: 0.9889 - loss: 0.1572 - val_accuracy: 0.7984 - val_loss: 1.1272\n",
      "Epoch 207/300\n",
      "\u001b[1m47/47\u001b[0m \u001b[32m━━━━━━━━━━━━━━━━━━━━\u001b[0m\u001b[37m\u001b[0m \u001b[1m9s\u001b[0m 197ms/step - accuracy: 0.9933 - loss: 0.1553 - val_accuracy: 0.8145 - val_loss: 1.0704\n",
      "Epoch 208/300\n",
      "\u001b[1m47/47\u001b[0m \u001b[32m━━━━━━━━━━━━━━━━━━━━\u001b[0m\u001b[37m\u001b[0m \u001b[1m9s\u001b[0m 195ms/step - accuracy: 0.9966 - loss: 0.1407 - val_accuracy: 0.7661 - val_loss: 1.2562\n",
      "Epoch 209/300\n",
      "\u001b[1m47/47\u001b[0m \u001b[32m━━━━━━━━━━━━━━━━━━━━\u001b[0m\u001b[37m\u001b[0m \u001b[1m9s\u001b[0m 192ms/step - accuracy: 0.9945 - loss: 0.1411 - val_accuracy: 0.8011 - val_loss: 1.0965\n",
      "Epoch 210/300\n",
      "\u001b[1m47/47\u001b[0m \u001b[32m━━━━━━━━━━━━━━━━━━━━\u001b[0m\u001b[37m\u001b[0m \u001b[1m9s\u001b[0m 187ms/step - accuracy: 0.9982 - loss: 0.1320 - val_accuracy: 0.7930 - val_loss: 1.0980\n",
      "Epoch 211/300\n",
      "\u001b[1m47/47\u001b[0m \u001b[32m━━━━━━━━━━━━━━━━━━━━\u001b[0m\u001b[37m\u001b[0m \u001b[1m9s\u001b[0m 183ms/step - accuracy: 0.9923 - loss: 0.1486 - val_accuracy: 0.7957 - val_loss: 1.1968\n",
      "Epoch 212/300\n",
      "\u001b[1m47/47\u001b[0m \u001b[32m━━━━━━━━━━━━━━━━━━━━\u001b[0m\u001b[37m\u001b[0m \u001b[1m9s\u001b[0m 183ms/step - accuracy: 0.9894 - loss: 0.1496 - val_accuracy: 0.7984 - val_loss: 1.1433\n",
      "Epoch 213/300\n",
      "\u001b[1m47/47\u001b[0m \u001b[32m━━━━━━━━━━━━━━━━━━━━\u001b[0m\u001b[37m\u001b[0m \u001b[1m9s\u001b[0m 188ms/step - accuracy: 0.9902 - loss: 0.1489 - val_accuracy: 0.8172 - val_loss: 1.1098\n",
      "Epoch 214/300\n",
      "\u001b[1m47/47\u001b[0m \u001b[32m━━━━━━━━━━━━━━━━━━━━\u001b[0m\u001b[37m\u001b[0m \u001b[1m9s\u001b[0m 193ms/step - accuracy: 0.9946 - loss: 0.1432 - val_accuracy: 0.7930 - val_loss: 1.1019\n",
      "Epoch 215/300\n",
      "\u001b[1m47/47\u001b[0m \u001b[32m━━━━━━━━━━━━━━━━━━━━\u001b[0m\u001b[37m\u001b[0m \u001b[1m10s\u001b[0m 201ms/step - accuracy: 0.9955 - loss: 0.1369 - val_accuracy: 0.8011 - val_loss: 1.1827\n",
      "Epoch 216/300\n",
      "\u001b[1m47/47\u001b[0m \u001b[32m━━━━━━━━━━━━━━━━━━━━\u001b[0m\u001b[37m\u001b[0m \u001b[1m9s\u001b[0m 184ms/step - accuracy: 0.9929 - loss: 0.1403 - val_accuracy: 0.8091 - val_loss: 1.0843\n",
      "Epoch 217/300\n",
      "\u001b[1m47/47\u001b[0m \u001b[32m━━━━━━━━━━━━━━━━━━━━\u001b[0m\u001b[37m\u001b[0m \u001b[1m9s\u001b[0m 195ms/step - accuracy: 0.9934 - loss: 0.1491 - val_accuracy: 0.8145 - val_loss: 1.0787\n",
      "Epoch 218/300\n",
      "\u001b[1m47/47\u001b[0m \u001b[32m━━━━━━━━━━━━━━━━━━━━\u001b[0m\u001b[37m\u001b[0m \u001b[1m9s\u001b[0m 186ms/step - accuracy: 0.9962 - loss: 0.1365 - val_accuracy: 0.8038 - val_loss: 1.0774\n",
      "Epoch 219/300\n",
      "\u001b[1m47/47\u001b[0m \u001b[32m━━━━━━━━━━━━━━━━━━━━\u001b[0m\u001b[37m\u001b[0m \u001b[1m9s\u001b[0m 188ms/step - accuracy: 0.9980 - loss: 0.1292 - val_accuracy: 0.8172 - val_loss: 1.0878\n",
      "Epoch 220/300\n",
      "\u001b[1m47/47\u001b[0m \u001b[32m━━━━━━━━━━━━━━━━━━━━\u001b[0m\u001b[37m\u001b[0m \u001b[1m9s\u001b[0m 188ms/step - accuracy: 0.9959 - loss: 0.1323 - val_accuracy: 0.8091 - val_loss: 1.1783\n",
      "Epoch 221/300\n",
      "\u001b[1m47/47\u001b[0m \u001b[32m━━━━━━━━━━━━━━━━━━━━\u001b[0m\u001b[37m\u001b[0m \u001b[1m9s\u001b[0m 183ms/step - accuracy: 0.9879 - loss: 0.1444 - val_accuracy: 0.8065 - val_loss: 1.1770\n",
      "Epoch 222/300\n",
      "\u001b[1m47/47\u001b[0m \u001b[32m━━━━━━━━━━━━━━━━━━━━\u001b[0m\u001b[37m\u001b[0m \u001b[1m9s\u001b[0m 182ms/step - accuracy: 0.9803 - loss: 0.1797 - val_accuracy: 0.8091 - val_loss: 1.0566\n",
      "Epoch 223/300\n",
      "\u001b[1m47/47\u001b[0m \u001b[32m━━━━━━━━━━━━━━━━━━━━\u001b[0m\u001b[37m\u001b[0m \u001b[1m9s\u001b[0m 182ms/step - accuracy: 0.9826 - loss: 0.1599 - val_accuracy: 0.7984 - val_loss: 1.1434\n",
      "Epoch 224/300\n",
      "\u001b[1m47/47\u001b[0m \u001b[32m━━━━━━━━━━━━━━━━━━━━\u001b[0m\u001b[37m\u001b[0m \u001b[1m9s\u001b[0m 184ms/step - accuracy: 0.9912 - loss: 0.1451 - val_accuracy: 0.7930 - val_loss: 1.0849\n",
      "Epoch 225/300\n",
      "\u001b[1m47/47\u001b[0m \u001b[32m━━━━━━━━━━━━━━━━━━━━\u001b[0m\u001b[37m\u001b[0m \u001b[1m9s\u001b[0m 187ms/step - accuracy: 0.9923 - loss: 0.1406 - val_accuracy: 0.7849 - val_loss: 1.1531\n",
      "Epoch 226/300\n",
      "\u001b[1m47/47\u001b[0m \u001b[32m━━━━━━━━━━━━━━━━━━━━\u001b[0m\u001b[37m\u001b[0m \u001b[1m9s\u001b[0m 195ms/step - accuracy: 0.9948 - loss: 0.1443 - val_accuracy: 0.8145 - val_loss: 1.0965\n",
      "Epoch 227/300\n",
      "\u001b[1m47/47\u001b[0m \u001b[32m━━━━━━━━━━━━━━━━━━━━\u001b[0m\u001b[37m\u001b[0m \u001b[1m9s\u001b[0m 181ms/step - accuracy: 0.9961 - loss: 0.1330 - val_accuracy: 0.8118 - val_loss: 0.9674\n",
      "Epoch 228/300\n",
      "\u001b[1m47/47\u001b[0m \u001b[32m━━━━━━━━━━━━━━━━━━━━\u001b[0m\u001b[37m\u001b[0m \u001b[1m9s\u001b[0m 188ms/step - accuracy: 0.9934 - loss: 0.1393 - val_accuracy: 0.7876 - val_loss: 1.1299\n",
      "Epoch 229/300\n",
      "\u001b[1m47/47\u001b[0m \u001b[32m━━━━━━━━━━━━━━━━━━━━\u001b[0m\u001b[37m\u001b[0m \u001b[1m9s\u001b[0m 182ms/step - accuracy: 0.9925 - loss: 0.1413 - val_accuracy: 0.8172 - val_loss: 0.9880\n",
      "Epoch 230/300\n",
      "\u001b[1m47/47\u001b[0m \u001b[32m━━━━━━━━━━━━━━━━━━━━\u001b[0m\u001b[37m\u001b[0m \u001b[1m9s\u001b[0m 188ms/step - accuracy: 0.9972 - loss: 0.1285 - val_accuracy: 0.8038 - val_loss: 1.0315\n",
      "Epoch 231/300\n",
      "\u001b[1m47/47\u001b[0m \u001b[32m━━━━━━━━━━━━━━━━━━━━\u001b[0m\u001b[37m\u001b[0m \u001b[1m9s\u001b[0m 193ms/step - accuracy: 0.9941 - loss: 0.1316 - val_accuracy: 0.7957 - val_loss: 1.0586\n",
      "Epoch 232/300\n",
      "\u001b[1m47/47\u001b[0m \u001b[32m━━━━━━━━━━━━━━━━━━━━\u001b[0m\u001b[37m\u001b[0m \u001b[1m9s\u001b[0m 188ms/step - accuracy: 0.9888 - loss: 0.1452 - val_accuracy: 0.8038 - val_loss: 1.0520\n",
      "Epoch 233/300\n",
      "\u001b[1m47/47\u001b[0m \u001b[32m━━━━━━━━━━━━━━━━━━━━\u001b[0m\u001b[37m\u001b[0m \u001b[1m9s\u001b[0m 182ms/step - accuracy: 0.9919 - loss: 0.1354 - val_accuracy: 0.8038 - val_loss: 1.1107\n",
      "Epoch 234/300\n",
      "\u001b[1m47/47\u001b[0m \u001b[32m━━━━━━━━━━━━━━━━━━━━\u001b[0m\u001b[37m\u001b[0m \u001b[1m9s\u001b[0m 181ms/step - accuracy: 0.9969 - loss: 0.1272 - val_accuracy: 0.8199 - val_loss: 1.0177\n",
      "Epoch 235/300\n",
      "\u001b[1m47/47\u001b[0m \u001b[32m━━━━━━━━━━━━━━━━━━━━\u001b[0m\u001b[37m\u001b[0m \u001b[1m9s\u001b[0m 191ms/step - accuracy: 0.9937 - loss: 0.1356 - val_accuracy: 0.8226 - val_loss: 1.0580\n",
      "Epoch 236/300\n",
      "\u001b[1m47/47\u001b[0m \u001b[32m━━━━━━━━━━━━━━━━━━━━\u001b[0m\u001b[37m\u001b[0m \u001b[1m9s\u001b[0m 190ms/step - accuracy: 0.9968 - loss: 0.1322 - val_accuracy: 0.8118 - val_loss: 1.0338\n",
      "Epoch 237/300\n",
      "\u001b[1m47/47\u001b[0m \u001b[32m━━━━━━━━━━━━━━━━━━━━\u001b[0m\u001b[37m\u001b[0m \u001b[1m9s\u001b[0m 189ms/step - accuracy: 0.9898 - loss: 0.1503 - val_accuracy: 0.7957 - val_loss: 1.1458\n",
      "Epoch 238/300\n",
      "\u001b[1m47/47\u001b[0m \u001b[32m━━━━━━━━━━━━━━━━━━━━\u001b[0m\u001b[37m\u001b[0m \u001b[1m9s\u001b[0m 186ms/step - accuracy: 0.9916 - loss: 0.1370 - val_accuracy: 0.8091 - val_loss: 1.0491\n",
      "Epoch 239/300\n",
      "\u001b[1m47/47\u001b[0m \u001b[32m━━━━━━━━━━━━━━━━━━━━\u001b[0m\u001b[37m\u001b[0m \u001b[1m9s\u001b[0m 198ms/step - accuracy: 0.9916 - loss: 0.1419 - val_accuracy: 0.7930 - val_loss: 1.0936\n",
      "Epoch 240/300\n",
      "\u001b[1m47/47\u001b[0m \u001b[32m━━━━━━━━━━━━━━━━━━━━\u001b[0m\u001b[37m\u001b[0m \u001b[1m9s\u001b[0m 196ms/step - accuracy: 0.9935 - loss: 0.1332 - val_accuracy: 0.8145 - val_loss: 0.9999\n",
      "Epoch 241/300\n",
      "\u001b[1m47/47\u001b[0m \u001b[32m━━━━━━━━━━━━━━━━━━━━\u001b[0m\u001b[37m\u001b[0m \u001b[1m9s\u001b[0m 197ms/step - accuracy: 0.9906 - loss: 0.1363 - val_accuracy: 0.8333 - val_loss: 0.9833\n",
      "Epoch 242/300\n",
      "\u001b[1m47/47\u001b[0m \u001b[32m━━━━━━━━━━━━━━━━━━━━\u001b[0m\u001b[37m\u001b[0m \u001b[1m9s\u001b[0m 198ms/step - accuracy: 0.9944 - loss: 0.1386 - val_accuracy: 0.8226 - val_loss: 1.0598\n",
      "Epoch 243/300\n",
      "\u001b[1m47/47\u001b[0m \u001b[32m━━━━━━━━━━━━━━━━━━━━\u001b[0m\u001b[37m\u001b[0m \u001b[1m10s\u001b[0m 206ms/step - accuracy: 0.9961 - loss: 0.1233 - val_accuracy: 0.7930 - val_loss: 1.1373\n",
      "Epoch 244/300\n",
      "\u001b[1m47/47\u001b[0m \u001b[32m━━━━━━━━━━━━━━━━━━━━\u001b[0m\u001b[37m\u001b[0m \u001b[1m9s\u001b[0m 188ms/step - accuracy: 0.9918 - loss: 0.1350 - val_accuracy: 0.8065 - val_loss: 1.1099\n",
      "Epoch 245/300\n",
      "\u001b[1m47/47\u001b[0m \u001b[32m━━━━━━━━━━━━━━━━━━━━\u001b[0m\u001b[37m\u001b[0m \u001b[1m9s\u001b[0m 192ms/step - accuracy: 0.9951 - loss: 0.1267 - val_accuracy: 0.8118 - val_loss: 1.0525\n",
      "Epoch 246/300\n",
      "\u001b[1m47/47\u001b[0m \u001b[32m━━━━━━━━━━━━━━━━━━━━\u001b[0m\u001b[37m\u001b[0m \u001b[1m9s\u001b[0m 187ms/step - accuracy: 0.9972 - loss: 0.1196 - val_accuracy: 0.8145 - val_loss: 1.0323\n",
      "Epoch 247/300\n",
      "\u001b[1m47/47\u001b[0m \u001b[32m━━━━━━━━━━━━━━━━━━━━\u001b[0m\u001b[37m\u001b[0m \u001b[1m9s\u001b[0m 191ms/step - accuracy: 0.9931 - loss: 0.1240 - val_accuracy: 0.7849 - val_loss: 1.2911\n",
      "Epoch 248/300\n",
      "\u001b[1m47/47\u001b[0m \u001b[32m━━━━━━━━━━━━━━━━━━━━\u001b[0m\u001b[37m\u001b[0m \u001b[1m9s\u001b[0m 199ms/step - accuracy: 0.9884 - loss: 0.1450 - val_accuracy: 0.7930 - val_loss: 1.1362\n",
      "Epoch 249/300\n",
      "\u001b[1m47/47\u001b[0m \u001b[32m━━━━━━━━━━━━━━━━━━━━\u001b[0m\u001b[37m\u001b[0m \u001b[1m9s\u001b[0m 186ms/step - accuracy: 0.9900 - loss: 0.1306 - val_accuracy: 0.7957 - val_loss: 1.0899\n",
      "Epoch 250/300\n",
      "\u001b[1m47/47\u001b[0m \u001b[32m━━━━━━━━━━━━━━━━━━━━\u001b[0m\u001b[37m\u001b[0m \u001b[1m9s\u001b[0m 185ms/step - accuracy: 0.9966 - loss: 0.1256 - val_accuracy: 0.8011 - val_loss: 1.1008\n",
      "Epoch 251/300\n",
      "\u001b[1m47/47\u001b[0m \u001b[32m━━━━━━━━━━━━━━━━━━━━\u001b[0m\u001b[37m\u001b[0m \u001b[1m9s\u001b[0m 201ms/step - accuracy: 0.9962 - loss: 0.1207 - val_accuracy: 0.8091 - val_loss: 1.1286\n",
      "Epoch 252/300\n",
      "\u001b[1m47/47\u001b[0m \u001b[32m━━━━━━━━━━━━━━━━━━━━\u001b[0m\u001b[37m\u001b[0m \u001b[1m9s\u001b[0m 197ms/step - accuracy: 0.9956 - loss: 0.1226 - val_accuracy: 0.8091 - val_loss: 1.0558\n",
      "Epoch 253/300\n",
      "\u001b[1m47/47\u001b[0m \u001b[32m━━━━━━━━━━━━━━━━━━━━\u001b[0m\u001b[37m\u001b[0m \u001b[1m9s\u001b[0m 193ms/step - accuracy: 0.9970 - loss: 0.1153 - val_accuracy: 0.7957 - val_loss: 1.2125\n",
      "Epoch 254/300\n",
      "\u001b[1m47/47\u001b[0m \u001b[32m━━━━━━━━━━━━━━━━━━━━\u001b[0m\u001b[37m\u001b[0m \u001b[1m10s\u001b[0m 208ms/step - accuracy: 0.9918 - loss: 0.1259 - val_accuracy: 0.8038 - val_loss: 1.0683\n",
      "Epoch 255/300\n",
      "\u001b[1m47/47\u001b[0m \u001b[32m━━━━━━━━━━━━━━━━━━━━\u001b[0m\u001b[37m\u001b[0m \u001b[1m9s\u001b[0m 201ms/step - accuracy: 0.9894 - loss: 0.1331 - val_accuracy: 0.7876 - val_loss: 1.0766\n",
      "Epoch 256/300\n",
      "\u001b[1m47/47\u001b[0m \u001b[32m━━━━━━━━━━━━━━━━━━━━\u001b[0m\u001b[37m\u001b[0m \u001b[1m9s\u001b[0m 199ms/step - accuracy: 0.9886 - loss: 0.1372 - val_accuracy: 0.8011 - val_loss: 1.1074\n",
      "Epoch 257/300\n",
      "\u001b[1m47/47\u001b[0m \u001b[32m━━━━━━━━━━━━━━━━━━━━\u001b[0m\u001b[37m\u001b[0m \u001b[1m9s\u001b[0m 200ms/step - accuracy: 0.9891 - loss: 0.1423 - val_accuracy: 0.7769 - val_loss: 1.1742\n",
      "Epoch 258/300\n",
      "\u001b[1m47/47\u001b[0m \u001b[32m━━━━━━━━━━━━━━━━━━━━\u001b[0m\u001b[37m\u001b[0m \u001b[1m10s\u001b[0m 208ms/step - accuracy: 0.9951 - loss: 0.1305 - val_accuracy: 0.7984 - val_loss: 1.1609\n",
      "Epoch 259/300\n",
      "\u001b[1m47/47\u001b[0m \u001b[32m━━━━━━━━━━━━━━━━━━━━\u001b[0m\u001b[37m\u001b[0m \u001b[1m10s\u001b[0m 208ms/step - accuracy: 0.9890 - loss: 0.1360 - val_accuracy: 0.7796 - val_loss: 1.1725\n",
      "Epoch 260/300\n",
      "\u001b[1m47/47\u001b[0m \u001b[32m━━━━━━━━━━━━━━━━━━━━\u001b[0m\u001b[37m\u001b[0m \u001b[1m10s\u001b[0m 209ms/step - accuracy: 0.9904 - loss: 0.1353 - val_accuracy: 0.7957 - val_loss: 1.1197\n",
      "Epoch 261/300\n",
      "\u001b[1m47/47\u001b[0m \u001b[32m━━━━━━━━━━━━━━━━━━━━\u001b[0m\u001b[37m\u001b[0m \u001b[1m10s\u001b[0m 211ms/step - accuracy: 0.9891 - loss: 0.1268 - val_accuracy: 0.8011 - val_loss: 1.2108\n",
      "Epoch 262/300\n",
      "\u001b[1m47/47\u001b[0m \u001b[32m━━━━━━━━━━━━━━━━━━━━\u001b[0m\u001b[37m\u001b[0m \u001b[1m10s\u001b[0m 206ms/step - accuracy: 0.9968 - loss: 0.1206 - val_accuracy: 0.8065 - val_loss: 1.1478\n",
      "Epoch 263/300\n",
      "\u001b[1m47/47\u001b[0m \u001b[32m━━━━━━━━━━━━━━━━━━━━\u001b[0m\u001b[37m\u001b[0m \u001b[1m9s\u001b[0m 185ms/step - accuracy: 0.9934 - loss: 0.1230 - val_accuracy: 0.7849 - val_loss: 1.1678\n",
      "Epoch 264/300\n",
      "\u001b[1m47/47\u001b[0m \u001b[32m━━━━━━━━━━━━━━━━━━━━\u001b[0m\u001b[37m\u001b[0m \u001b[1m9s\u001b[0m 190ms/step - accuracy: 0.9949 - loss: 0.1160 - val_accuracy: 0.8118 - val_loss: 1.0954\n",
      "Epoch 265/300\n",
      "\u001b[1m47/47\u001b[0m \u001b[32m━━━━━━━━━━━━━━━━━━━━\u001b[0m\u001b[37m\u001b[0m \u001b[1m9s\u001b[0m 182ms/step - accuracy: 0.9990 - loss: 0.1097 - val_accuracy: 0.8172 - val_loss: 1.1092\n",
      "Epoch 266/300\n",
      "\u001b[1m47/47\u001b[0m \u001b[32m━━━━━━━━━━━━━━━━━━━━\u001b[0m\u001b[37m\u001b[0m \u001b[1m8s\u001b[0m 180ms/step - accuracy: 0.9909 - loss: 0.1297 - val_accuracy: 0.7930 - val_loss: 1.1038\n",
      "Epoch 267/300\n",
      "\u001b[1m47/47\u001b[0m \u001b[32m━━━━━━━━━━━━━━━━━━━━\u001b[0m\u001b[37m\u001b[0m \u001b[1m9s\u001b[0m 187ms/step - accuracy: 0.9818 - loss: 0.1718 - val_accuracy: 0.8253 - val_loss: 0.9554\n",
      "Epoch 268/300\n",
      "\u001b[1m47/47\u001b[0m \u001b[32m━━━━━━━━━━━━━━━━━━━━\u001b[0m\u001b[37m\u001b[0m \u001b[1m9s\u001b[0m 191ms/step - accuracy: 0.9867 - loss: 0.1371 - val_accuracy: 0.8091 - val_loss: 0.9858\n",
      "Epoch 269/300\n",
      "\u001b[1m47/47\u001b[0m \u001b[32m━━━━━━━━━━━━━━━━━━━━\u001b[0m\u001b[37m\u001b[0m \u001b[1m9s\u001b[0m 194ms/step - accuracy: 0.9902 - loss: 0.1334 - val_accuracy: 0.8038 - val_loss: 1.0285\n",
      "Epoch 270/300\n",
      "\u001b[1m47/47\u001b[0m \u001b[32m━━━━━━━━━━━━━━━━━━━━\u001b[0m\u001b[37m\u001b[0m \u001b[1m9s\u001b[0m 189ms/step - accuracy: 0.9968 - loss: 0.1196 - val_accuracy: 0.7984 - val_loss: 1.1223\n",
      "Epoch 271/300\n",
      "\u001b[1m47/47\u001b[0m \u001b[32m━━━━━━━━━━━━━━━━━━━━\u001b[0m\u001b[37m\u001b[0m \u001b[1m9s\u001b[0m 188ms/step - accuracy: 0.9889 - loss: 0.1338 - val_accuracy: 0.8145 - val_loss: 1.0438\n",
      "Epoch 272/300\n",
      "\u001b[1m47/47\u001b[0m \u001b[32m━━━━━━━━━━━━━━━━━━━━\u001b[0m\u001b[37m\u001b[0m \u001b[1m9s\u001b[0m 194ms/step - accuracy: 0.9960 - loss: 0.1196 - val_accuracy: 0.8253 - val_loss: 1.0406\n",
      "Epoch 273/300\n",
      "\u001b[1m47/47\u001b[0m \u001b[32m━━━━━━━━━━━━━━━━━━━━\u001b[0m\u001b[37m\u001b[0m \u001b[1m10s\u001b[0m 203ms/step - accuracy: 0.9974 - loss: 0.1128 - val_accuracy: 0.8172 - val_loss: 1.0704\n",
      "Epoch 274/300\n",
      "\u001b[1m47/47\u001b[0m \u001b[32m━━━━━━━━━━━━━━━━━━━━\u001b[0m\u001b[37m\u001b[0m \u001b[1m10s\u001b[0m 207ms/step - accuracy: 0.9953 - loss: 0.1126 - val_accuracy: 0.8333 - val_loss: 1.1139\n",
      "Epoch 275/300\n",
      "\u001b[1m47/47\u001b[0m \u001b[32m━━━━━━━━━━━━━━━━━━━━\u001b[0m\u001b[37m\u001b[0m \u001b[1m10s\u001b[0m 204ms/step - accuracy: 0.9977 - loss: 0.1084 - val_accuracy: 0.8172 - val_loss: 1.0852\n",
      "Epoch 276/300\n",
      "\u001b[1m47/47\u001b[0m \u001b[32m━━━━━━━━━━━━━━━━━━━━\u001b[0m\u001b[37m\u001b[0m \u001b[1m9s\u001b[0m 191ms/step - accuracy: 0.9950 - loss: 0.1188 - val_accuracy: 0.7796 - val_loss: 1.3720\n",
      "Epoch 277/300\n",
      "\u001b[1m47/47\u001b[0m \u001b[32m━━━━━━━━━━━━━━━━━━━━\u001b[0m\u001b[37m\u001b[0m \u001b[1m9s\u001b[0m 199ms/step - accuracy: 0.9878 - loss: 0.1287 - val_accuracy: 0.8118 - val_loss: 1.0854\n",
      "Epoch 278/300\n",
      "\u001b[1m47/47\u001b[0m \u001b[32m━━━━━━━━━━━━━━━━━━━━\u001b[0m\u001b[37m\u001b[0m \u001b[1m10s\u001b[0m 207ms/step - accuracy: 0.9944 - loss: 0.1189 - val_accuracy: 0.8145 - val_loss: 1.0373\n",
      "Epoch 279/300\n",
      "\u001b[1m47/47\u001b[0m \u001b[32m━━━━━━━━━━━━━━━━━━━━\u001b[0m\u001b[37m\u001b[0m \u001b[1m10s\u001b[0m 219ms/step - accuracy: 0.9948 - loss: 0.1240 - val_accuracy: 0.7984 - val_loss: 1.1263\n",
      "Epoch 280/300\n",
      "\u001b[1m47/47\u001b[0m \u001b[32m━━━━━━━━━━━━━━━━━━━━\u001b[0m\u001b[37m\u001b[0m \u001b[1m10s\u001b[0m 222ms/step - accuracy: 0.9940 - loss: 0.1234 - val_accuracy: 0.8253 - val_loss: 1.0996\n",
      "Epoch 281/300\n",
      "\u001b[1m47/47\u001b[0m \u001b[32m━━━━━━━━━━━━━━━━━━━━\u001b[0m\u001b[37m\u001b[0m \u001b[1m10s\u001b[0m 210ms/step - accuracy: 0.9959 - loss: 0.1169 - val_accuracy: 0.7984 - val_loss: 1.2115\n",
      "Epoch 282/300\n",
      "\u001b[1m47/47\u001b[0m \u001b[32m━━━━━━━━━━━━━━━━━━━━\u001b[0m\u001b[37m\u001b[0m \u001b[1m10s\u001b[0m 205ms/step - accuracy: 0.9932 - loss: 0.1247 - val_accuracy: 0.8172 - val_loss: 1.0610\n",
      "Epoch 283/300\n",
      "\u001b[1m47/47\u001b[0m \u001b[32m━━━━━━━━━━━━━━━━━━━━\u001b[0m\u001b[37m\u001b[0m \u001b[1m10s\u001b[0m 205ms/step - accuracy: 0.9830 - loss: 0.1415 - val_accuracy: 0.8172 - val_loss: 1.1052\n",
      "Epoch 284/300\n",
      "\u001b[1m47/47\u001b[0m \u001b[32m━━━━━━━━━━━━━━━━━━━━\u001b[0m\u001b[37m\u001b[0m \u001b[1m10s\u001b[0m 208ms/step - accuracy: 0.9936 - loss: 0.1190 - val_accuracy: 0.8118 - val_loss: 1.1098\n",
      "Epoch 285/300\n",
      "\u001b[1m47/47\u001b[0m \u001b[32m━━━━━━━━━━━━━━━━━━━━\u001b[0m\u001b[37m\u001b[0m \u001b[1m10s\u001b[0m 214ms/step - accuracy: 0.9943 - loss: 0.1166 - val_accuracy: 0.7876 - val_loss: 1.2116\n",
      "Epoch 286/300\n",
      "\u001b[1m47/47\u001b[0m \u001b[32m━━━━━━━━━━━━━━━━━━━━\u001b[0m\u001b[37m\u001b[0m \u001b[1m9s\u001b[0m 200ms/step - accuracy: 0.9913 - loss: 0.1386 - val_accuracy: 0.7849 - val_loss: 1.2000\n",
      "Epoch 287/300\n",
      "\u001b[1m47/47\u001b[0m \u001b[32m━━━━━━━━━━━━━━━━━━━━\u001b[0m\u001b[37m\u001b[0m \u001b[1m9s\u001b[0m 188ms/step - accuracy: 0.9940 - loss: 0.1244 - val_accuracy: 0.8199 - val_loss: 1.0307\n",
      "Epoch 288/300\n",
      "\u001b[1m47/47\u001b[0m \u001b[32m━━━━━━━━━━━━━━━━━━━━\u001b[0m\u001b[37m\u001b[0m \u001b[1m9s\u001b[0m 196ms/step - accuracy: 0.9943 - loss: 0.1243 - val_accuracy: 0.8011 - val_loss: 1.0947\n",
      "Epoch 289/300\n",
      "\u001b[1m47/47\u001b[0m \u001b[32m━━━━━━━━━━━━━━━━━━━━\u001b[0m\u001b[37m\u001b[0m \u001b[1m9s\u001b[0m 190ms/step - accuracy: 0.9978 - loss: 0.1090 - val_accuracy: 0.7876 - val_loss: 1.1609\n",
      "Epoch 290/300\n",
      "\u001b[1m47/47\u001b[0m \u001b[32m━━━━━━━━━━━━━━━━━━━━\u001b[0m\u001b[37m\u001b[0m \u001b[1m9s\u001b[0m 188ms/step - accuracy: 0.9949 - loss: 0.1159 - val_accuracy: 0.7930 - val_loss: 1.1620\n",
      "Epoch 291/300\n",
      "\u001b[1m47/47\u001b[0m \u001b[32m━━━━━━━━━━━━━━━━━━━━\u001b[0m\u001b[37m\u001b[0m \u001b[1m9s\u001b[0m 190ms/step - accuracy: 0.9953 - loss: 0.1082 - val_accuracy: 0.7876 - val_loss: 1.1659\n",
      "Epoch 292/300\n",
      "\u001b[1m47/47\u001b[0m \u001b[32m━━━━━━━━━━━━━━━━━━━━\u001b[0m\u001b[37m\u001b[0m \u001b[1m9s\u001b[0m 189ms/step - accuracy: 0.9957 - loss: 0.1048 - val_accuracy: 0.8038 - val_loss: 1.0964\n",
      "Epoch 293/300\n",
      "\u001b[1m47/47\u001b[0m \u001b[32m━━━━━━━━━━━━━━━━━━━━\u001b[0m\u001b[37m\u001b[0m \u001b[1m9s\u001b[0m 189ms/step - accuracy: 0.9948 - loss: 0.1116 - val_accuracy: 0.7769 - val_loss: 1.2794\n",
      "Epoch 294/300\n",
      "\u001b[1m47/47\u001b[0m \u001b[32m━━━━━━━━━━━━━━━━━━━━\u001b[0m\u001b[37m\u001b[0m \u001b[1m9s\u001b[0m 191ms/step - accuracy: 0.9908 - loss: 0.1192 - val_accuracy: 0.8065 - val_loss: 1.0760\n",
      "Epoch 295/300\n",
      "\u001b[1m47/47\u001b[0m \u001b[32m━━━━━━━━━━━━━━━━━━━━\u001b[0m\u001b[37m\u001b[0m \u001b[1m9s\u001b[0m 190ms/step - accuracy: 0.9870 - loss: 0.1255 - val_accuracy: 0.7984 - val_loss: 1.0963\n",
      "Epoch 296/300\n",
      "\u001b[1m47/47\u001b[0m \u001b[32m━━━━━━━━━━━━━━━━━━━━\u001b[0m\u001b[37m\u001b[0m \u001b[1m9s\u001b[0m 198ms/step - accuracy: 0.9909 - loss: 0.1159 - val_accuracy: 0.8065 - val_loss: 1.0977\n",
      "Epoch 297/300\n",
      "\u001b[1m47/47\u001b[0m \u001b[32m━━━━━━━━━━━━━━━━━━━━\u001b[0m\u001b[37m\u001b[0m \u001b[1m9s\u001b[0m 193ms/step - accuracy: 0.9967 - loss: 0.1076 - val_accuracy: 0.7903 - val_loss: 1.1219\n",
      "Epoch 298/300\n",
      "\u001b[1m47/47\u001b[0m \u001b[32m━━━━━━━━━━━━━━━━━━━━\u001b[0m\u001b[37m\u001b[0m \u001b[1m9s\u001b[0m 195ms/step - accuracy: 0.9955 - loss: 0.1089 - val_accuracy: 0.7849 - val_loss: 1.2191\n",
      "Epoch 299/300\n",
      "\u001b[1m47/47\u001b[0m \u001b[32m━━━━━━━━━━━━━━━━━━━━\u001b[0m\u001b[37m\u001b[0m \u001b[1m9s\u001b[0m 191ms/step - accuracy: 0.9977 - loss: 0.1027 - val_accuracy: 0.8011 - val_loss: 1.2113\n",
      "Epoch 300/300\n",
      "\u001b[1m47/47\u001b[0m \u001b[32m━━━━━━━━━━━━━━━━━━━━\u001b[0m\u001b[37m\u001b[0m \u001b[1m9s\u001b[0m 189ms/step - accuracy: 0.9925 - loss: 0.1103 - val_accuracy: 0.8011 - val_loss: 1.0821\n"
     ]
    },
    {
     "name": "stdout",
     "output_type": "stream",
     "text": [
      "39/39 [==============================] - 10s 247ms/step - loss: 0.4653 - accuracy: 0.9782 - val_loss: 1.4779 - val_accuracy: 0.7613\n",
      "Epoch 114/300\n",
      "39/39 [==============================] - 10s 254ms/step - loss: 0.4407 - accuracy: 0.9782 - val_loss: 1.5166 - val_accuracy: 0.7548\n",
      "Epoch 115/300\n",
      "39/39 [==============================] - 9s 237ms/step - loss: 0.4373 - accuracy: 0.9839 - val_loss: 1.5990 - val_accuracy: 0.7710\n",
      "Epoch 116/300\n",
      "39/39 [==============================] - 10s 254ms/step - loss: 0.4481 - accuracy: 0.9790 - val_loss: 1.4968 - val_accuracy: 0.7419\n",
      "Epoch 117/300\n",
      "39/39 [==============================] - 10s 263ms/step - loss: 0.4438 - accuracy: 0.9758 - val_loss: 1.4939 - val_accuracy: 0.7452\n",
      "Epoch 118/300\n",
      "39/39 [==============================] - 10s 253ms/step - loss: 0.4575 - accuracy: 0.9718 - val_loss: 1.4348 - val_accuracy: 0.7645\n",
      "Epoch 119/300\n",
      "39/39 [==============================] - 9s 236ms/step - loss: 0.4422 - accuracy: 0.9790 - val_loss: 1.4294 - val_accuracy: 0.7645\n",
      "Epoch 120/300\n",
      "39/39 [==============================] - 9s 241ms/step - loss: 0.4463 - accuracy: 0.9726 - val_loss: 1.5697 - val_accuracy: 0.7548\n",
      "Epoch 121/300\n",
      "39/39 [==============================] - 11s 277ms/step - loss: 0.4306 - accuracy: 0.9831 - val_loss: 1.5022 - val_accuracy: 0.7581\n",
      "Epoch 122/300\n",
      "39/39 [==============================] - 10s 247ms/step - loss: 0.4233 - accuracy: 0.9831 - val_loss: 1.5895 - val_accuracy: 0.7581\n",
      "Epoch 123/300\n",
      "39/39 [==============================] - 10s 268ms/step - loss: 0.4191 - accuracy: 0.9847 - val_loss: 1.5839 - val_accuracy: 0.7548\n",
      "Epoch 124/300\n",
      "39/39 [==============================] - 10s 255ms/step - loss: 0.3874 - accuracy: 0.9919 - val_loss: 1.6213 - val_accuracy: 0.7581\n",
      "Epoch 125/300\n",
      "39/39 [==============================] - 11s 270ms/step - loss: 0.3916 - accuracy: 0.9887 - val_loss: 1.6193 - val_accuracy: 0.7484\n",
      "Epoch 126/300\n",
      "39/39 [==============================] - 10s 246ms/step - loss: 0.3946 - accuracy: 0.9855 - val_loss: 1.6116 - val_accuracy: 0.7581\n",
      "Epoch 127/300\n",
      "39/39 [==============================] - 10s 247ms/step - loss: 0.3930 - accuracy: 0.9831 - val_loss: 1.5790 - val_accuracy: 0.7581\n",
      "Epoch 128/300\n",
      "39/39 [==============================] - 10s 249ms/step - loss: 0.3866 - accuracy: 0.9847 - val_loss: 1.4164 - val_accuracy: 0.7548\n",
      "Epoch 129/300\n",
      "39/39 [==============================] - 9s 240ms/step - loss: 0.3905 - accuracy: 0.9839 - val_loss: 1.6697 - val_accuracy: 0.7645\n",
      "Epoch 130/300\n",
      "39/39 [==============================] - 10s 248ms/step - loss: 0.3879 - accuracy: 0.9823 - val_loss: 1.6325 - val_accuracy: 0.7452\n",
      "Epoch 131/300\n",
      "39/39 [==============================] - 10s 252ms/step - loss: 0.3750 - accuracy: 0.9879 - val_loss: 1.6111 - val_accuracy: 0.7710\n",
      "Epoch 132/300\n",
      "39/39 [==============================] - 10s 256ms/step - loss: 0.3784 - accuracy: 0.9798 - val_loss: 1.7006 - val_accuracy: 0.7323\n",
      "Epoch 133/300\n",
      "39/39 [==============================] - 10s 245ms/step - loss: 0.3985 - accuracy: 0.9790 - val_loss: 1.6558 - val_accuracy: 0.7290\n",
      "Epoch 134/300\n",
      "39/39 [==============================] - 9s 239ms/step - loss: 0.3995 - accuracy: 0.9750 - val_loss: 1.6308 - val_accuracy: 0.7548\n",
      "Epoch 135/300\n",
      "39/39 [==============================] - 9s 236ms/step - loss: 0.3941 - accuracy: 0.9806 - val_loss: 1.6411 - val_accuracy: 0.7419\n",
      "Epoch 136/300\n",
      "39/39 [==============================] - 10s 248ms/step - loss: 0.3914 - accuracy: 0.9774 - val_loss: 1.5458 - val_accuracy: 0.7677\n",
      "Epoch 137/300\n",
      "39/39 [==============================] - 10s 249ms/step - loss: 0.3740 - accuracy: 0.9831 - val_loss: 1.5315 - val_accuracy: 0.7742\n",
      "Epoch 138/300\n",
      "39/39 [==============================] - 10s 251ms/step - loss: 0.3734 - accuracy: 0.9855 - val_loss: 1.5182 - val_accuracy: 0.7613\n",
      "Epoch 139/300\n",
      "39/39 [==============================] - 10s 248ms/step - loss: 0.3842 - accuracy: 0.9758 - val_loss: 1.4470 - val_accuracy: 0.7710\n",
      "Epoch 140/300\n",
      "39/39 [==============================] - 9s 231ms/step - loss: 0.3869 - accuracy: 0.9774 - val_loss: 1.5095 - val_accuracy: 0.7677\n",
      "Epoch 141/300\n",
      "39/39 [==============================] - 9s 239ms/step - loss: 0.3799 - accuracy: 0.9774 - val_loss: 1.4496 - val_accuracy: 0.7516\n",
      "Epoch 142/300\n",
      "39/39 [==============================] - 10s 256ms/step - loss: 0.3664 - accuracy: 0.9839 - val_loss: 1.5187 - val_accuracy: 0.7484\n",
      "Epoch 143/300\n",
      "39/39 [==============================] - 10s 250ms/step - loss: 0.3525 - accuracy: 0.9895 - val_loss: 1.4385 - val_accuracy: 0.7710\n",
      "Epoch 144/300\n",
      "39/39 [==============================] - 10s 254ms/step - loss: 0.3625 - accuracy: 0.9806 - val_loss: 1.4819 - val_accuracy: 0.7645\n",
      "Epoch 145/300\n",
      "39/39 [==============================] - 10s 246ms/step - loss: 0.3589 - accuracy: 0.9839 - val_loss: 1.4522 - val_accuracy: 0.7613\n",
      "Epoch 146/300\n",
      "39/39 [==============================] - 10s 245ms/step - loss: 0.3690 - accuracy: 0.9790 - val_loss: 1.5672 - val_accuracy: 0.7516\n",
      "Epoch 147/300\n",
      "39/39 [==============================] - 9s 239ms/step - loss: 0.3790 - accuracy: 0.9758 - val_loss: 1.4571 - val_accuracy: 0.7613\n",
      "Epoch 148/300\n",
      "39/39 [==============================] - 10s 246ms/step - loss: 0.3841 - accuracy: 0.9718 - val_loss: 1.5222 - val_accuracy: 0.7419\n",
      "Epoch 149/300\n",
      "39/39 [==============================] - 10s 254ms/step - loss: 0.3722 - accuracy: 0.9750 - val_loss: 1.5121 - val_accuracy: 0.7742\n",
      "Epoch 150/300\n",
      "39/39 [==============================] - 10s 251ms/step - loss: 0.3628 - accuracy: 0.9823 - val_loss: 1.3891 - val_accuracy: 0.7645\n",
      "Epoch 151/300\n",
      "39/39 [==============================] - 10s 255ms/step - loss: 0.3459 - accuracy: 0.9831 - val_loss: 1.5337 - val_accuracy: 0.7645\n",
      "Epoch 152/300\n",
      "39/39 [==============================] - 10s 249ms/step - loss: 0.3393 - accuracy: 0.9895 - val_loss: 1.4435 - val_accuracy: 0.7774\n",
      "Epoch 153/300\n",
      "39/39 [==============================] - 10s 257ms/step - loss: 0.3262 - accuracy: 0.9887 - val_loss: 1.3650 - val_accuracy: 0.7645\n",
      "Epoch 154/300\n",
      "39/39 [==============================] - 10s 256ms/step - loss: 0.3189 - accuracy: 0.9919 - val_loss: 1.4693 - val_accuracy: 0.7645\n",
      "Epoch 155/300\n",
      "39/39 [==============================] - 11s 284ms/step - loss: 0.3327 - accuracy: 0.9847 - val_loss: 1.5329 - val_accuracy: 0.7516\n",
      "Epoch 156/300\n",
      "39/39 [==============================] - 10s 253ms/step - loss: 0.3208 - accuracy: 0.9887 - val_loss: 1.4586 - val_accuracy: 0.7613\n",
      "Epoch 157/300\n",
      "39/39 [==============================] - 10s 254ms/step - loss: 0.3193 - accuracy: 0.9887 - val_loss: 1.4613 - val_accuracy: 0.7677\n",
      "Epoch 158/300\n",
      "39/39 [==============================] - 9s 237ms/step - loss: 0.3234 - accuracy: 0.9815 - val_loss: 1.3060 - val_accuracy: 0.7903\n",
      "Epoch 159/300\n",
      "39/39 [==============================] - 10s 254ms/step - loss: 0.3172 - accuracy: 0.9887 - val_loss: 1.3477 - val_accuracy: 0.7742\n",
      "Epoch 160/300\n",
      "39/39 [==============================] - 10s 267ms/step - loss: 0.3234 - accuracy: 0.9831 - val_loss: 1.3923 - val_accuracy: 0.7677\n",
      "Epoch 161/300\n",
      "39/39 [==============================] - 10s 265ms/step - loss: 0.3179 - accuracy: 0.9831 - val_loss: 1.4292 - val_accuracy: 0.7903\n",
      "Epoch 162/300\n",
      "39/39 [==============================] - 10s 255ms/step - loss: 0.3015 - accuracy: 0.9935 - val_loss: 1.4235 - val_accuracy: 0.7871\n",
      "Epoch 163/300\n",
      "39/39 [==============================] - 10s 265ms/step - loss: 0.3044 - accuracy: 0.9863 - val_loss: 1.4489 - val_accuracy: 0.7871\n",
      "Epoch 164/300\n",
      "39/39 [==============================] - 10s 262ms/step - loss: 0.2920 - accuracy: 0.9935 - val_loss: 1.5308 - val_accuracy: 0.7806\n",
      "Epoch 165/300\n",
      "39/39 [==============================] - 11s 271ms/step - loss: 0.2922 - accuracy: 0.9887 - val_loss: 1.5287 - val_accuracy: 0.7613\n",
      "Epoch 166/300\n",
      "39/39 [==============================] - 10s 258ms/step - loss: 0.2970 - accuracy: 0.9855 - val_loss: 1.6430 - val_accuracy: 0.7645\n",
      "Epoch 167/300\n",
      "39/39 [==============================] - 11s 276ms/step - loss: 0.3070 - accuracy: 0.9831 - val_loss: 1.4966 - val_accuracy: 0.7710\n",
      "Epoch 168/300\n",
      "39/39 [==============================] - 10s 251ms/step - loss: 0.3210 - accuracy: 0.9806 - val_loss: 1.5082 - val_accuracy: 0.7677\n",
      "Epoch 169/300\n"
     ]
    },
    {
     "name": "stdout",
     "output_type": "stream",
     "text": [
      "39/39 [==============================] - 10s 248ms/step - loss: 0.2933 - accuracy: 0.9911 - val_loss: 1.4064 - val_accuracy: 0.7839\n",
      "Epoch 170/300\n",
      "39/39 [==============================] - 10s 258ms/step - loss: 0.2954 - accuracy: 0.9903 - val_loss: 1.5032 - val_accuracy: 0.7806\n",
      "Epoch 171/300\n",
      "39/39 [==============================] - 10s 247ms/step - loss: 0.2922 - accuracy: 0.9855 - val_loss: 1.4934 - val_accuracy: 0.7710\n",
      "Epoch 172/300\n",
      "39/39 [==============================] - 10s 256ms/step - loss: 0.2949 - accuracy: 0.9847 - val_loss: 1.3601 - val_accuracy: 0.7774\n",
      "Epoch 173/300\n",
      "39/39 [==============================] - 10s 245ms/step - loss: 0.2958 - accuracy: 0.9871 - val_loss: 1.4415 - val_accuracy: 0.7742\n",
      "Epoch 174/300\n",
      "39/39 [==============================] - 9s 239ms/step - loss: 0.2907 - accuracy: 0.9863 - val_loss: 1.6698 - val_accuracy: 0.7613\n",
      "Epoch 175/300\n",
      "39/39 [==============================] - 10s 255ms/step - loss: 0.3166 - accuracy: 0.9774 - val_loss: 1.5423 - val_accuracy: 0.7645\n",
      "Epoch 176/300\n",
      "39/39 [==============================] - 10s 244ms/step - loss: 0.3026 - accuracy: 0.9831 - val_loss: 1.3524 - val_accuracy: 0.7742\n",
      "Epoch 177/300\n",
      "39/39 [==============================] - 9s 242ms/step - loss: 0.3138 - accuracy: 0.9766 - val_loss: 1.5372 - val_accuracy: 0.7452\n",
      "Epoch 178/300\n",
      "39/39 [==============================] - 10s 247ms/step - loss: 0.3017 - accuracy: 0.9790 - val_loss: 1.4876 - val_accuracy: 0.7613\n",
      "Epoch 179/300\n",
      "39/39 [==============================] - 10s 259ms/step - loss: 0.3126 - accuracy: 0.9790 - val_loss: 1.5349 - val_accuracy: 0.7581\n",
      "Epoch 180/300\n",
      "39/39 [==============================] - 10s 249ms/step - loss: 0.3090 - accuracy: 0.9774 - val_loss: 1.3966 - val_accuracy: 0.7871\n",
      "Epoch 181/300\n",
      "39/39 [==============================] - 10s 249ms/step - loss: 0.3008 - accuracy: 0.9831 - val_loss: 1.3497 - val_accuracy: 0.8032\n",
      "Epoch 182/300\n",
      "39/39 [==============================] - 10s 248ms/step - loss: 0.2992 - accuracy: 0.9847 - val_loss: 1.3908 - val_accuracy: 0.7742\n",
      "Epoch 183/300\n",
      "39/39 [==============================] - 10s 270ms/step - loss: 0.2967 - accuracy: 0.9815 - val_loss: 1.4273 - val_accuracy: 0.7710\n",
      "Epoch 184/300\n",
      "39/39 [==============================] - 9s 236ms/step - loss: 0.2918 - accuracy: 0.9847 - val_loss: 1.5051 - val_accuracy: 0.7677\n",
      "Epoch 185/300\n",
      "39/39 [==============================] - 10s 246ms/step - loss: 0.3078 - accuracy: 0.9742 - val_loss: 1.3638 - val_accuracy: 0.7774\n",
      "Epoch 186/300\n",
      "39/39 [==============================] - 9s 238ms/step - loss: 0.2769 - accuracy: 0.9903 - val_loss: 1.4062 - val_accuracy: 0.7742\n",
      "Epoch 187/300\n",
      "39/39 [==============================] - 9s 238ms/step - loss: 0.2807 - accuracy: 0.9871 - val_loss: 1.3897 - val_accuracy: 0.7742\n",
      "Epoch 188/300\n",
      "39/39 [==============================] - 11s 275ms/step - loss: 0.2871 - accuracy: 0.9871 - val_loss: 1.4312 - val_accuracy: 0.8000\n",
      "Epoch 189/300\n",
      "39/39 [==============================] - 10s 249ms/step - loss: 0.2809 - accuracy: 0.9839 - val_loss: 1.4012 - val_accuracy: 0.7806\n",
      "Epoch 190/300\n",
      "39/39 [==============================] - 10s 245ms/step - loss: 0.2725 - accuracy: 0.9903 - val_loss: 1.4649 - val_accuracy: 0.7516\n",
      "Epoch 191/300\n",
      "39/39 [==============================] - 10s 258ms/step - loss: 0.2645 - accuracy: 0.9935 - val_loss: 1.3511 - val_accuracy: 0.7774\n",
      "Epoch 192/300\n",
      "39/39 [==============================] - 9s 239ms/step - loss: 0.2677 - accuracy: 0.9879 - val_loss: 1.5502 - val_accuracy: 0.7710\n",
      "Epoch 193/300\n",
      "39/39 [==============================] - 9s 240ms/step - loss: 0.2656 - accuracy: 0.9903 - val_loss: 1.2664 - val_accuracy: 0.7806\n",
      "Epoch 194/300\n",
      "39/39 [==============================] - 9s 243ms/step - loss: 0.2856 - accuracy: 0.9839 - val_loss: 1.4744 - val_accuracy: 0.7581\n",
      "Epoch 195/300\n",
      "39/39 [==============================] - 175s 5s/step - loss: 0.2692 - accuracy: 0.9839 - val_loss: 1.3476 - val_accuracy: 0.7742\n",
      "Epoch 196/300\n",
      "39/39 [==============================] - 9s 219ms/step - loss: 0.2636 - accuracy: 0.9879 - val_loss: 1.6200 - val_accuracy: 0.7645\n",
      "Epoch 197/300\n",
      "39/39 [==============================] - 8s 207ms/step - loss: 0.2673 - accuracy: 0.9855 - val_loss: 1.3449 - val_accuracy: 0.7839\n",
      "Epoch 198/300\n",
      "39/39 [==============================] - 8s 203ms/step - loss: 0.2638 - accuracy: 0.9887 - val_loss: 1.3820 - val_accuracy: 0.7484\n",
      "Epoch 199/300\n",
      "39/39 [==============================] - 8s 206ms/step - loss: 0.2620 - accuracy: 0.9879 - val_loss: 1.4425 - val_accuracy: 0.7806\n",
      "Epoch 200/300\n",
      "39/39 [==============================] - 8s 206ms/step - loss: 0.2574 - accuracy: 0.9903 - val_loss: 1.4806 - val_accuracy: 0.7839\n",
      "Epoch 201/300\n",
      "39/39 [==============================] - 8s 196ms/step - loss: 0.2530 - accuracy: 0.9911 - val_loss: 1.3504 - val_accuracy: 0.7774\n",
      "Epoch 202/300\n",
      "39/39 [==============================] - 8s 208ms/step - loss: 0.2692 - accuracy: 0.9871 - val_loss: 1.3033 - val_accuracy: 0.7935\n",
      "Epoch 203/300\n",
      "39/39 [==============================] - 8s 214ms/step - loss: 0.2546 - accuracy: 0.9871 - val_loss: 1.4254 - val_accuracy: 0.7742\n",
      "Epoch 204/300\n",
      "39/39 [==============================] - 8s 208ms/step - loss: 0.2471 - accuracy: 0.9911 - val_loss: 1.3436 - val_accuracy: 0.7839\n",
      "Epoch 205/300\n",
      "39/39 [==============================] - 9s 221ms/step - loss: 0.2557 - accuracy: 0.9855 - val_loss: 1.4765 - val_accuracy: 0.7839\n",
      "Epoch 206/300\n",
      "39/39 [==============================] - 9s 232ms/step - loss: 0.2551 - accuracy: 0.9823 - val_loss: 1.3403 - val_accuracy: 0.7871\n",
      "Epoch 207/300\n",
      "39/39 [==============================] - 9s 229ms/step - loss: 0.2710 - accuracy: 0.9798 - val_loss: 1.3910 - val_accuracy: 0.7742\n",
      "Epoch 208/300\n",
      "39/39 [==============================] - 9s 240ms/step - loss: 0.2911 - accuracy: 0.9750 - val_loss: 1.5381 - val_accuracy: 0.7516\n",
      "Epoch 209/300\n",
      "39/39 [==============================] - 9s 231ms/step - loss: 0.2701 - accuracy: 0.9774 - val_loss: 1.5297 - val_accuracy: 0.7613\n",
      "Epoch 210/300\n",
      "39/39 [==============================] - 10s 266ms/step - loss: 0.2744 - accuracy: 0.9798 - val_loss: 1.3573 - val_accuracy: 0.7742\n",
      "Epoch 211/300\n",
      "39/39 [==============================] - 9s 234ms/step - loss: 0.2505 - accuracy: 0.9887 - val_loss: 1.3395 - val_accuracy: 0.7710\n",
      "Epoch 212/300\n",
      "39/39 [==============================] - 10s 246ms/step - loss: 0.2466 - accuracy: 0.9911 - val_loss: 1.3847 - val_accuracy: 0.7645\n",
      "Epoch 213/300\n",
      "39/39 [==============================] - 10s 256ms/step - loss: 0.2567 - accuracy: 0.9839 - val_loss: 1.2121 - val_accuracy: 0.7710\n",
      "Epoch 214/300\n",
      "39/39 [==============================] - 5s 122ms/step - loss: 0.2428 - accuracy: 0.9895 - val_loss: 1.2783 - val_accuracy: 0.7710\n",
      "Epoch 215/300\n",
      "39/39 [==============================] - 10s 261ms/step - loss: 0.2653 - accuracy: 0.9823 - val_loss: 1.3777 - val_accuracy: 0.7903\n",
      "Epoch 216/300\n",
      "39/39 [==============================] - 11s 288ms/step - loss: 0.2669 - accuracy: 0.9798 - val_loss: 1.2601 - val_accuracy: 0.7903\n",
      "Epoch 217/300\n",
      "39/39 [==============================] - 10s 265ms/step - loss: 0.2472 - accuracy: 0.9887 - val_loss: 1.2521 - val_accuracy: 0.7774\n",
      "Epoch 218/300\n",
      "39/39 [==============================] - 9s 241ms/step - loss: 0.2372 - accuracy: 0.9919 - val_loss: 1.2178 - val_accuracy: 0.7806\n",
      "Epoch 219/300\n",
      "39/39 [==============================] - 10s 258ms/step - loss: 0.2484 - accuracy: 0.9839 - val_loss: 1.4084 - val_accuracy: 0.7710\n",
      "Epoch 220/300\n",
      "39/39 [==============================] - 10s 254ms/step - loss: 0.2496 - accuracy: 0.9839 - val_loss: 1.3219 - val_accuracy: 0.8032\n",
      "Epoch 221/300\n",
      "39/39 [==============================] - 11s 295ms/step - loss: 0.2488 - accuracy: 0.9839 - val_loss: 1.3218 - val_accuracy: 0.8000\n",
      "Epoch 222/300\n",
      "39/39 [==============================] - 10s 265ms/step - loss: 0.2394 - accuracy: 0.9879 - val_loss: 1.4009 - val_accuracy: 0.7774\n",
      "Epoch 223/300\n",
      "39/39 [==============================] - 10s 267ms/step - loss: 0.2500 - accuracy: 0.9815 - val_loss: 1.2398 - val_accuracy: 0.7935\n",
      "Epoch 224/300\n",
      "39/39 [==============================] - 10s 251ms/step - loss: 0.2412 - accuracy: 0.9855 - val_loss: 1.3501 - val_accuracy: 0.7774\n",
      "Epoch 225/300\n"
     ]
    },
    {
     "name": "stdout",
     "output_type": "stream",
     "text": [
      "39/39 [==============================] - 9s 229ms/step - loss: 0.2426 - accuracy: 0.9879 - val_loss: 1.3551 - val_accuracy: 0.7677\n",
      "Epoch 226/300\n",
      "39/39 [==============================] - 9s 240ms/step - loss: 0.2245 - accuracy: 0.9911 - val_loss: 1.3910 - val_accuracy: 0.7645\n",
      "Epoch 227/300\n",
      "39/39 [==============================] - 9s 243ms/step - loss: 0.2259 - accuracy: 0.9911 - val_loss: 1.2820 - val_accuracy: 0.7839\n",
      "Epoch 228/300\n",
      "39/39 [==============================] - 9s 235ms/step - loss: 0.2294 - accuracy: 0.9895 - val_loss: 1.4049 - val_accuracy: 0.7581\n",
      "Epoch 229/300\n",
      "39/39 [==============================] - 9s 234ms/step - loss: 0.2447 - accuracy: 0.9831 - val_loss: 1.4227 - val_accuracy: 0.7516\n",
      "Epoch 230/300\n",
      "39/39 [==============================] - 10s 251ms/step - loss: 0.2497 - accuracy: 0.9839 - val_loss: 1.3997 - val_accuracy: 0.7839\n",
      "Epoch 231/300\n",
      "39/39 [==============================] - 9s 239ms/step - loss: 0.2487 - accuracy: 0.9831 - val_loss: 1.4958 - val_accuracy: 0.7774\n",
      "Epoch 232/300\n",
      "39/39 [==============================] - 9s 239ms/step - loss: 0.2385 - accuracy: 0.9863 - val_loss: 1.4104 - val_accuracy: 0.7645\n",
      "Epoch 233/300\n",
      "39/39 [==============================] - 9s 235ms/step - loss: 0.2322 - accuracy: 0.9887 - val_loss: 1.3393 - val_accuracy: 0.7645\n",
      "Epoch 234/300\n",
      "39/39 [==============================] - 9s 234ms/step - loss: 0.2426 - accuracy: 0.9855 - val_loss: 1.4013 - val_accuracy: 0.7645\n",
      "Epoch 235/300\n",
      "39/39 [==============================] - 9s 239ms/step - loss: 0.2315 - accuracy: 0.9863 - val_loss: 1.4746 - val_accuracy: 0.7516\n",
      "Epoch 236/300\n",
      "39/39 [==============================] - 10s 249ms/step - loss: 0.2272 - accuracy: 0.9879 - val_loss: 1.3858 - val_accuracy: 0.7613\n",
      "Epoch 237/300\n",
      "39/39 [==============================] - 9s 237ms/step - loss: 0.2143 - accuracy: 0.9952 - val_loss: 1.3327 - val_accuracy: 0.7516\n",
      "Epoch 238/300\n",
      "39/39 [==============================] - 9s 240ms/step - loss: 0.2224 - accuracy: 0.9919 - val_loss: 1.2953 - val_accuracy: 0.7710\n",
      "Epoch 239/300\n",
      "39/39 [==============================] - 9s 242ms/step - loss: 0.2323 - accuracy: 0.9823 - val_loss: 1.3158 - val_accuracy: 0.7677\n",
      "Epoch 240/300\n",
      "39/39 [==============================] - 9s 235ms/step - loss: 0.2265 - accuracy: 0.9887 - val_loss: 1.2082 - val_accuracy: 0.7935\n",
      "Epoch 241/300\n",
      "39/39 [==============================] - 9s 243ms/step - loss: 0.2203 - accuracy: 0.9903 - val_loss: 1.3491 - val_accuracy: 0.7677\n",
      "Epoch 242/300\n",
      "39/39 [==============================] - 9s 238ms/step - loss: 0.2094 - accuracy: 0.9952 - val_loss: 1.3205 - val_accuracy: 0.7806\n",
      "Epoch 243/300\n",
      "39/39 [==============================] - 9s 235ms/step - loss: 0.2087 - accuracy: 0.9911 - val_loss: 1.4317 - val_accuracy: 0.7613\n",
      "Epoch 244/300\n",
      "39/39 [==============================] - 9s 231ms/step - loss: 0.2124 - accuracy: 0.9879 - val_loss: 1.4636 - val_accuracy: 0.7613\n",
      "Epoch 245/300\n",
      "39/39 [==============================] - 10s 245ms/step - loss: 0.2261 - accuracy: 0.9839 - val_loss: 1.4954 - val_accuracy: 0.7484\n",
      "Epoch 246/300\n",
      "39/39 [==============================] - 9s 241ms/step - loss: 0.2306 - accuracy: 0.9806 - val_loss: 1.5335 - val_accuracy: 0.7355\n",
      "Epoch 247/300\n",
      "39/39 [==============================] - 9s 240ms/step - loss: 0.2346 - accuracy: 0.9831 - val_loss: 1.4517 - val_accuracy: 0.7613\n",
      "Epoch 248/300\n",
      "39/39 [==============================] - 10s 246ms/step - loss: 0.2310 - accuracy: 0.9823 - val_loss: 1.2919 - val_accuracy: 0.7742\n",
      "Epoch 249/300\n",
      "39/39 [==============================] - 9s 232ms/step - loss: 0.2149 - accuracy: 0.9887 - val_loss: 1.2271 - val_accuracy: 0.7968\n",
      "Epoch 250/300\n",
      "39/39 [==============================] - 9s 235ms/step - loss: 0.2239 - accuracy: 0.9871 - val_loss: 1.4182 - val_accuracy: 0.7516\n",
      "Epoch 251/300\n",
      "39/39 [==============================] - 10s 243ms/step - loss: 0.2663 - accuracy: 0.9694 - val_loss: 1.3745 - val_accuracy: 0.7323\n",
      "Epoch 252/300\n",
      "39/39 [==============================] - 9s 240ms/step - loss: 0.2450 - accuracy: 0.9839 - val_loss: 1.3058 - val_accuracy: 0.7645\n",
      "Epoch 253/300\n",
      "39/39 [==============================] - 9s 232ms/step - loss: 0.2169 - accuracy: 0.9927 - val_loss: 1.2377 - val_accuracy: 0.7839\n",
      "Epoch 254/300\n",
      "39/39 [==============================] - 9s 242ms/step - loss: 0.2215 - accuracy: 0.9895 - val_loss: 1.3449 - val_accuracy: 0.7645\n",
      "Epoch 255/300\n",
      "39/39 [==============================] - 9s 237ms/step - loss: 0.2269 - accuracy: 0.9847 - val_loss: 1.2591 - val_accuracy: 0.7742\n",
      "Epoch 256/300\n",
      "39/39 [==============================] - 9s 240ms/step - loss: 0.2214 - accuracy: 0.9831 - val_loss: 1.2234 - val_accuracy: 0.7742\n",
      "Epoch 257/300\n",
      "39/39 [==============================] - 9s 229ms/step - loss: 0.2191 - accuracy: 0.9871 - val_loss: 1.4422 - val_accuracy: 0.7387\n",
      "Epoch 258/300\n",
      "39/39 [==============================] - 10s 246ms/step - loss: 0.2056 - accuracy: 0.9935 - val_loss: 1.3053 - val_accuracy: 0.7742\n",
      "Epoch 259/300\n",
      "39/39 [==============================] - 9s 239ms/step - loss: 0.2123 - accuracy: 0.9887 - val_loss: 1.3803 - val_accuracy: 0.7742\n",
      "Epoch 260/300\n",
      "39/39 [==============================] - 10s 256ms/step - loss: 0.2057 - accuracy: 0.9903 - val_loss: 1.3877 - val_accuracy: 0.7742\n",
      "Epoch 261/300\n",
      "39/39 [==============================] - 9s 236ms/step - loss: 0.2159 - accuracy: 0.9863 - val_loss: 1.2908 - val_accuracy: 0.7677\n",
      "Epoch 262/300\n",
      "39/39 [==============================] - 9s 243ms/step - loss: 0.2249 - accuracy: 0.9823 - val_loss: 1.3929 - val_accuracy: 0.7774\n",
      "Epoch 263/300\n",
      "39/39 [==============================] - 9s 235ms/step - loss: 0.2122 - accuracy: 0.9879 - val_loss: 1.3227 - val_accuracy: 0.7903\n",
      "Epoch 264/300\n",
      "39/39 [==============================] - 9s 237ms/step - loss: 0.2240 - accuracy: 0.9823 - val_loss: 1.2881 - val_accuracy: 0.7806\n",
      "Epoch 265/300\n",
      "39/39 [==============================] - 9s 235ms/step - loss: 0.2290 - accuracy: 0.9847 - val_loss: 1.2251 - val_accuracy: 0.7903\n",
      "Epoch 266/300\n",
      "39/39 [==============================] - 9s 239ms/step - loss: 0.2172 - accuracy: 0.9863 - val_loss: 1.3496 - val_accuracy: 0.7645\n",
      "Epoch 267/300\n",
      "39/39 [==============================] - 9s 240ms/step - loss: 0.2153 - accuracy: 0.9863 - val_loss: 1.3165 - val_accuracy: 0.7742\n",
      "Epoch 268/300\n",
      "39/39 [==============================] - 10s 246ms/step - loss: 0.2057 - accuracy: 0.9919 - val_loss: 1.3057 - val_accuracy: 0.7710\n",
      "Epoch 269/300\n",
      "39/39 [==============================] - 10s 251ms/step - loss: 0.2219 - accuracy: 0.9855 - val_loss: 1.3218 - val_accuracy: 0.7774\n",
      "Epoch 270/300\n",
      "39/39 [==============================] - 9s 234ms/step - loss: 0.2128 - accuracy: 0.9879 - val_loss: 1.1784 - val_accuracy: 0.7903\n",
      "Epoch 271/300\n",
      "39/39 [==============================] - 10s 253ms/step - loss: 0.2033 - accuracy: 0.9903 - val_loss: 1.3103 - val_accuracy: 0.7774\n",
      "Epoch 272/300\n",
      "39/39 [==============================] - 9s 238ms/step - loss: 0.2095 - accuracy: 0.9831 - val_loss: 1.3420 - val_accuracy: 0.7645\n",
      "Epoch 273/300\n",
      "39/39 [==============================] - 9s 238ms/step - loss: 0.2238 - accuracy: 0.9839 - val_loss: 1.2374 - val_accuracy: 0.7839\n",
      "Epoch 274/300\n",
      "39/39 [==============================] - 9s 226ms/step - loss: 0.2085 - accuracy: 0.9879 - val_loss: 1.3288 - val_accuracy: 0.7903\n",
      "Epoch 275/300\n",
      "39/39 [==============================] - 10s 253ms/step - loss: 0.2059 - accuracy: 0.9839 - val_loss: 1.3985 - val_accuracy: 0.7645\n",
      "Epoch 276/300\n",
      "39/39 [==============================] - 9s 238ms/step - loss: 0.2319 - accuracy: 0.9815 - val_loss: 1.3599 - val_accuracy: 0.7710\n",
      "Epoch 277/300\n",
      "39/39 [==============================] - 9s 231ms/step - loss: 0.2189 - accuracy: 0.9879 - val_loss: 1.3447 - val_accuracy: 0.7710\n",
      "Epoch 278/300\n",
      "39/39 [==============================] - 9s 240ms/step - loss: 0.2081 - accuracy: 0.9855 - val_loss: 1.2783 - val_accuracy: 0.7871\n",
      "Epoch 279/300\n",
      "39/39 [==============================] - 9s 235ms/step - loss: 0.2058 - accuracy: 0.9887 - val_loss: 1.3006 - val_accuracy: 0.7710\n",
      "Epoch 280/300\n",
      "39/39 [==============================] - 9s 242ms/step - loss: 0.2114 - accuracy: 0.9847 - val_loss: 1.2192 - val_accuracy: 0.7903\n",
      "Epoch 281/300\n"
     ]
    },
    {
     "name": "stdout",
     "output_type": "stream",
     "text": [
      "39/39 [==============================] - 9s 239ms/step - loss: 0.1944 - accuracy: 0.9927 - val_loss: 1.1732 - val_accuracy: 0.8000\n",
      "Epoch 282/300\n",
      "39/39 [==============================] - 9s 232ms/step - loss: 0.1921 - accuracy: 0.9944 - val_loss: 1.1929 - val_accuracy: 0.7968\n",
      "Epoch 283/300\n",
      "39/39 [==============================] - 9s 240ms/step - loss: 0.1909 - accuracy: 0.9911 - val_loss: 1.2293 - val_accuracy: 0.7871\n",
      "Epoch 284/300\n",
      "39/39 [==============================] - 9s 239ms/step - loss: 0.1851 - accuracy: 0.9944 - val_loss: 1.1949 - val_accuracy: 0.7935\n",
      "Epoch 285/300\n",
      "39/39 [==============================] - 9s 234ms/step - loss: 0.1966 - accuracy: 0.9895 - val_loss: 1.1529 - val_accuracy: 0.7871\n",
      "Epoch 286/300\n",
      "39/39 [==============================] - 9s 240ms/step - loss: 0.2023 - accuracy: 0.9887 - val_loss: 1.3290 - val_accuracy: 0.7774\n",
      "Epoch 287/300\n",
      "39/39 [==============================] - 9s 237ms/step - loss: 0.2114 - accuracy: 0.9847 - val_loss: 1.2426 - val_accuracy: 0.7968\n",
      "Epoch 288/300\n",
      "39/39 [==============================] - 9s 237ms/step - loss: 0.1887 - accuracy: 0.9911 - val_loss: 1.1743 - val_accuracy: 0.7871\n",
      "Epoch 289/300\n",
      "39/39 [==============================] - 9s 234ms/step - loss: 0.2003 - accuracy: 0.9879 - val_loss: 1.2284 - val_accuracy: 0.7871\n",
      "Epoch 290/300\n",
      "39/39 [==============================] - 9s 235ms/step - loss: 0.1854 - accuracy: 0.9911 - val_loss: 1.3206 - val_accuracy: 0.7774\n",
      "Epoch 291/300\n",
      "39/39 [==============================] - 9s 234ms/step - loss: 0.1915 - accuracy: 0.9887 - val_loss: 1.3725 - val_accuracy: 0.7774\n",
      "Epoch 292/300\n",
      "39/39 [==============================] - 10s 250ms/step - loss: 0.1968 - accuracy: 0.9903 - val_loss: 1.3955 - val_accuracy: 0.7871\n",
      "Epoch 293/300\n",
      "39/39 [==============================] - 9s 238ms/step - loss: 0.1941 - accuracy: 0.9895 - val_loss: 1.3258 - val_accuracy: 0.8000\n",
      "Epoch 294/300\n",
      "39/39 [==============================] - 9s 234ms/step - loss: 0.2030 - accuracy: 0.9847 - val_loss: 1.3450 - val_accuracy: 0.7645\n",
      "Epoch 295/300\n",
      "39/39 [==============================] - 9s 234ms/step - loss: 0.2008 - accuracy: 0.9855 - val_loss: 1.4431 - val_accuracy: 0.7548\n",
      "Epoch 296/300\n",
      "39/39 [==============================] - 9s 233ms/step - loss: 0.2318 - accuracy: 0.9806 - val_loss: 1.1864 - val_accuracy: 0.7968\n",
      "Epoch 297/300\n",
      "39/39 [==============================] - 9s 226ms/step - loss: 0.2166 - accuracy: 0.9823 - val_loss: 1.5393 - val_accuracy: 0.7452\n",
      "Epoch 298/300\n",
      "39/39 [==============================] - 9s 236ms/step - loss: 0.2067 - accuracy: 0.9855 - val_loss: 1.3134 - val_accuracy: 0.7581\n",
      "Epoch 299/300\n",
      "39/39 [==============================] - 9s 241ms/step - loss: 0.1903 - accuracy: 0.9911 - val_loss: 1.1293 - val_accuracy: 0.7968\n",
      "Epoch 300/300\n",
      "39/39 [==============================] - 9s 244ms/step - loss: 0.2119 - accuracy: 0.9831 - val_loss: 1.2518 - val_accuracy: 0.7613\n"
     ]
    }
   ],
   "source": [
    "# Training parameters\n",
    "number_of_epoch = 300\n",
    "batch_size = 32 #16,32,64,128\n",
    "\n",
    "# Create the combined model\n",
    "model = Model(inputs=input_layers, outputs=output)\n",
    "\n",
    "# Compile the model\n",
    "optimizer = Adam(learning_rate=0.0001) \n",
    "#Loss function change\n",
    "model.compile(optimizer=optimizer, loss='sparse_categorical_crossentropy', metrics=['accuracy'])\n",
    "\n",
    "# Train the model\n",
    "history = model.fit(X_features, y_train, epochs=number_of_epoch, batch_size=batch_size, validation_split=0.2)"
   ]
  },
  {
   "cell_type": "code",
   "execution_count": 24,
   "id": "7ae88c2d-9cc6-4177-9bfb-90255c20fbe0",
   "metadata": {
    "executionInfo": {
     "elapsed": 219,
     "status": "ok",
     "timestamp": 1741865176657,
     "user": {
      "displayName": "BITF21M516-Hafiza Rabia Rasool",
      "userId": "13803347475708047593"
     },
     "user_tz": -300
    },
    "id": "7ae88c2d-9cc6-4177-9bfb-90255c20fbe0"
   },
   "outputs": [],
   "source": [
    "model.save(r'C:\\Users\\Mishaal Aslam\\Desktop\\FYP\\Model Training\\trainAtomicdata1DFall1.keras')"
   ]
  },
  {
   "cell_type": "code",
   "execution_count": 25,
   "id": "3a2e6033-b979-497f-9e5f-0dada9ce2fff",
   "metadata": {
    "id": "3a2e6033-b979-497f-9e5f-0dada9ce2fff"
   },
   "outputs": [],
   "source": [
    "model = tf.keras.models.load_model(r'C:\\Users\\Mishaal Aslam\\Desktop\\FYP\\Model Training\\trainAtomicdata1DFall1.keras')"
   ]
  },
  {
   "cell_type": "code",
   "execution_count": 26,
   "id": "4641a833-bf63-43e7-b48b-74e532a14e1b",
   "metadata": {
    "executionInfo": {
     "elapsed": 16,
     "status": "ok",
     "timestamp": 1741865196413,
     "user": {
      "displayName": "BITF21M516-Hafiza Rabia Rasool",
      "userId": "13803347475708047593"
     },
     "user_tz": -300
    },
    "id": "4641a833-bf63-43e7-b48b-74e532a14e1b"
   },
   "outputs": [],
   "source": [
    "# Prepare data for testing\n",
    "y_test = np.array(test_set['Y_train'])\n",
    "\n",
    "X_features1 = [np.array(test_set[column].to_list()) for column in test_set.columns[:-1]]\n",
    "\n"
   ]
  },
  {
   "cell_type": "code",
   "execution_count": 27,
   "id": "9b1f4aad-551e-44ee-91cc-b076f7231194",
   "metadata": {
    "colab": {
     "base_uri": "https://localhost:8080/"
    },
    "executionInfo": {
     "elapsed": 19,
     "status": "ok",
     "timestamp": 1741865200683,
     "user": {
      "displayName": "BITF21M516-Hafiza Rabia Rasool",
      "userId": "13803347475708047593"
     },
     "user_tz": -300
    },
    "id": "9b1f4aad-551e-44ee-91cc-b076f7231194",
    "outputId": "43929456-f2b1-4c25-a502-90696d49daeb"
   },
   "outputs": [
    {
     "name": "stdout",
     "output_type": "stream",
     "text": [
      "[0 1 2 3 4 5 6 7]\n",
      "[62 72 67 48 43 54 66 54]\n"
     ]
    }
   ],
   "source": [
    "# Get unique classes and print count\n",
    "\n",
    "u,c=np.unique(test_set['Y_train'], return_counts=True)\n",
    "print(u)\n",
    "print(c)"
   ]
  },
  {
   "cell_type": "code",
   "execution_count": 28,
   "id": "21f64a28-0500-4309-a8e4-16179bb0d6d3",
   "metadata": {
    "colab": {
     "base_uri": "https://localhost:8080/"
    },
    "executionInfo": {
     "elapsed": 1108,
     "status": "ok",
     "timestamp": 1741865204307,
     "user": {
      "displayName": "BITF21M516-Hafiza Rabia Rasool",
      "userId": "13803347475708047593"
     },
     "user_tz": -300
    },
    "id": "21f64a28-0500-4309-a8e4-16179bb0d6d3",
    "outputId": "5c77d076-53f1-454c-9342-e5040e7d2e1f"
   },
   "outputs": [
    {
     "name": "stdout",
     "output_type": "stream",
     "text": [
      "\u001b[1m15/15\u001b[0m \u001b[32m━━━━━━━━━━━━━━━━━━━━\u001b[0m\u001b[37m\u001b[0m \u001b[1m7s\u001b[0m 81ms/step\n"
     ]
    }
   ],
   "source": [
    "# Make predictions\n",
    "predictions = model.predict(X_features1)"
   ]
  },
  {
   "cell_type": "code",
   "execution_count": 29,
   "id": "d7033f10-36c5-42b4-8a9d-f9fc57490fcf",
   "metadata": {
    "executionInfo": {
     "elapsed": 23,
     "status": "ok",
     "timestamp": 1741865210786,
     "user": {
      "displayName": "BITF21M516-Hafiza Rabia Rasool",
      "userId": "13803347475708047593"
     },
     "user_tz": -300
    },
    "id": "d7033f10-36c5-42b4-8a9d-f9fc57490fcf"
   },
   "outputs": [],
   "source": [
    "# Interpret the predictions\n",
    "predicted_classes = tf.argmax(predictions,axis=1)"
   ]
  },
  {
   "cell_type": "code",
   "execution_count": 30,
   "id": "25ed3e1d-acfb-4684-9490-9b9e11a71428",
   "metadata": {
    "executionInfo": {
     "elapsed": 5,
     "status": "ok",
     "timestamp": 1741865212324,
     "user": {
      "displayName": "BITF21M516-Hafiza Rabia Rasool",
      "userId": "13803347475708047593"
     },
     "user_tz": -300
    },
    "id": "25ed3e1d-acfb-4684-9490-9b9e11a71428"
   },
   "outputs": [],
   "source": [
    "#calculate accuracy\n",
    "accuracy = tf.reduce_mean(tf.cast(predicted_classes == y_test,tf.float32))"
   ]
  },
  {
   "cell_type": "code",
   "execution_count": 31,
   "id": "9fc9930d-63f7-471e-9bad-be8c46dda0fa",
   "metadata": {
    "colab": {
     "base_uri": "https://localhost:8080/"
    },
    "executionInfo": {
     "elapsed": 9,
     "status": "ok",
     "timestamp": 1741865220668,
     "user": {
      "displayName": "BITF21M516-Hafiza Rabia Rasool",
      "userId": "13803347475708047593"
     },
     "user_tz": -300
    },
    "id": "9fc9930d-63f7-471e-9bad-be8c46dda0fa",
    "outputId": "f361b254-1c97-4962-f555-9e55b8ce2e42"
   },
   "outputs": [
    {
     "name": "stdout",
     "output_type": "stream",
     "text": [
      "Accuracy: 0.7854077\n"
     ]
    }
   ],
   "source": [
    "print(\"Accuracy:\",accuracy.numpy())"
   ]
  },
  {
   "cell_type": "code",
   "execution_count": 32,
   "id": "37be075f-df0d-4b89-aeeb-3d5fc58ac24d",
   "metadata": {
    "colab": {
     "base_uri": "https://localhost:8080/"
    },
    "executionInfo": {
     "elapsed": 11,
     "status": "ok",
     "timestamp": 1741865222927,
     "user": {
      "displayName": "BITF21M516-Hafiza Rabia Rasool",
      "userId": "13803347475708047593"
     },
     "user_tz": -300
    },
    "id": "37be075f-df0d-4b89-aeeb-3d5fc58ac24d",
    "outputId": "3f6bf637-a0ba-4225-aaf4-ec9de795bde4"
   },
   "outputs": [
    {
     "name": "stdout",
     "output_type": "stream",
     "text": [
      "Confusion Matrix:\n",
      "[[56  0  3  0  2  1  0  0]\n",
      " [ 1 65  3  1  1  0  0  1]\n",
      " [ 2  1 54  2  7  1  0  0]\n",
      " [ 0  3  0 33  0 10  2  0]\n",
      " [ 0  4 17  0 22  0  0  0]\n",
      " [ 2  2  0 22  0 28  0  0]\n",
      " [ 0  0  0  3  0  1 58  4]\n",
      " [ 0  1  0  0  2  0  1 50]]\n",
      "Accuracy: 0.7854077253218884\n",
      "Precision: 0.7756843108319778\n",
      "Recall: 0.7667917454615237\n",
      "F1-Score: 0.7670214182870875\n"
     ]
    }
   ],
   "source": [
    "from sklearn.metrics import confusion_matrix, accuracy_score, precision_score, recall_score, f1_score\n",
    "\n",
    "# Confusion Matrix\n",
    "conf_matrix = confusion_matrix(y_test, predicted_classes)\n",
    "print('Confusion Matrix:')\n",
    "print(conf_matrix)\n",
    "\n",
    "# Accuracy\n",
    "accuracy = accuracy_score(y_test, predicted_classes)\n",
    "print(f'Accuracy: {accuracy}')\n",
    "\n",
    "# Precision\n",
    "precision = precision_score(y_test, predicted_classes, average='macro')\n",
    "print(f'Precision: {precision}')\n",
    "\n",
    "# Recall\n",
    "recall = recall_score(y_test, predicted_classes, average='macro')\n",
    "print(f'Recall: {recall}')\n",
    "\n",
    "# F1-Score\n",
    "f1 = f1_score(y_test, predicted_classes, average='macro')\n",
    "print(f'F1-Score: {f1}')"
   ]
  },
  {
   "cell_type": "code",
   "execution_count": 33,
   "id": "f9a3bba1",
   "metadata": {},
   "outputs": [
    {
     "name": "stdout",
     "output_type": "stream",
     "text": [
      "Class 0:\n",
      "  Precision: 0.92\n",
      "  Recall:    0.90\n",
      "  F1-score:  0.91\n",
      "  Accuracy:  0.98\n",
      "\n",
      "Class 1:\n",
      "  Precision: 0.86\n",
      "  Recall:    0.90\n",
      "  F1-score:  0.88\n",
      "  Accuracy:  0.96\n",
      "\n",
      "Class 2:\n",
      "  Precision: 0.70\n",
      "  Recall:    0.81\n",
      "  F1-score:  0.75\n",
      "  Accuracy:  0.92\n",
      "\n",
      "Class 3:\n",
      "  Precision: 0.54\n",
      "  Recall:    0.69\n",
      "  F1-score:  0.61\n",
      "  Accuracy:  0.91\n",
      "\n",
      "Class 4:\n",
      "  Precision: 0.65\n",
      "  Recall:    0.51\n",
      "  F1-score:  0.57\n",
      "  Accuracy:  0.93\n",
      "\n",
      "Class 5:\n",
      "  Precision: 0.68\n",
      "  Recall:    0.52\n",
      "  F1-score:  0.59\n",
      "  Accuracy:  0.92\n",
      "\n",
      "Class 6:\n",
      "  Precision: 0.95\n",
      "  Recall:    0.88\n",
      "  F1-score:  0.91\n",
      "  Accuracy:  0.98\n",
      "\n",
      "Class 7:\n",
      "  Precision: 0.91\n",
      "  Recall:    0.93\n",
      "  F1-score:  0.92\n",
      "  Accuracy:  0.98\n",
      "\n"
     ]
    }
   ],
   "source": [
    "for i in range(num_classes):\n",
    "    TP = conf_matrix[i, i]\n",
    "    FP = conf_matrix[:, i].sum() - TP\n",
    "    FN = conf_matrix[i, :].sum() - TP\n",
    "    TN = conf_matrix.sum() - (TP + FP + FN)\n",
    "\n",
    "    precision = TP / (TP + FP) if (TP + FP) > 0 else 0\n",
    "    recall = TP / (TP + FN) if (TP + FN) > 0 else 0\n",
    "    f1 = 2 * precision * recall / (precision + recall) if (precision + recall) > 0 else 0\n",
    "    accuracy = (TP + TN) / conf_matrix.sum()\n",
    "\n",
    "    print(f\"Class {i}:\")\n",
    "    print(f\"  Precision: {precision:.2f}\")\n",
    "    print(f\"  Recall:    {recall:.2f}\")\n",
    "    print(f\"  F1-score:  {f1:.2f}\")\n",
    "    print(f\"  Accuracy:  {accuracy:.2f}\")\n",
    "    print()\n"
   ]
  },
  {
   "cell_type": "code",
   "execution_count": 34,
   "id": "2e95ef77",
   "metadata": {},
   "outputs": [
    {
     "data": {
      "image/png": "[encoded data removed]",
      "text/plain": [
       "<Figure size 1200x600 with 1 Axes>"
      ]
     },
     "metadata": {},
     "output_type": "display_data"
    }
   ],
   "source": [
    "import matplotlib.pyplot as plt\n",
    "plt.figure(figsize=(12, 6))\n",
    "plt.plot(history.history['loss'], label='Training Loss')\n",
    "plt.plot(history.history['val_loss'], label='Validation loss')\n",
    "plt.title('Model Loss')\n",
    "plt.xlabel('Epoch')\n",
    "plt.ylabel('Loss')\n",
    "plt.legend(loc='upper right')\n",
    "#plt.savefig('TL-Loss-3-modalities.jpg')\n",
    "plt.show()"
   ]
  },
  {
   "cell_type": "code",
   "execution_count": 35,
   "id": "47a91cb8",
   "metadata": {},
   "outputs": [
    {
     "data": {
      "image/png": "[encoded data removed]",
      "text/plain": [
       "<Figure size 1200x600 with 1 Axes>"
      ]
     },
     "metadata": {},
     "output_type": "display_data"
    }
   ],
   "source": [
    "import matplotlib.pyplot as plt\n",
    "plt.figure(figsize=(12, 6))\n",
    "plt.plot(history.history['accuracy'], label='Training accuracy')\n",
    "plt.plot(history.history['val_accuracy'], label='Validation accuracy')\n",
    "plt.title('Model Accuracy')\n",
    "plt.xlabel('Epoch')\n",
    "plt.ylabel('Accuracy')\n",
    "plt.legend(loc='upper right')\n",
    "#plt.savefig('TL-accuracy-modalities.jpg')\n",
    "plt.show()"
   ]
  }
 ],
 "metadata": {
  "accelerator": "GPU",
  "colab": {
   "gpuType": "T4",
   "provenance": []
  },
  "kernelspec": {
   "display_name": "Python 3 (ipykernel)",
   "language": "python",
   "name": "python3"
  },
  "language_info": {
   "codemirror_mode": {
    "name": "ipython",
    "version": 3
   },
   "file_extension": ".py",
   "mimetype": "text/x-python",
   "name": "python",
   "nbconvert_exporter": "python",
   "pygments_lexer": "ipython3",
   "version": "3.11.7"
  }
 },
 "nbformat": 4,
 "nbformat_minor": 5
}
