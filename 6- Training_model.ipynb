{
 "cells": [
  {
   "cell_type": "code",
   "execution_count": 292,
   "metadata": {
    "id": "KonBHQvqk2wx"
   },
   "outputs": [],
   "source": [
    "import json\n",
    "import pandas as pd\n",
    "import numpy as np\n",
    "import tensorflow as tf\n",
    "from sklearn import metrics\n",
    "from tensorflow.keras.models import Model\n",
    "from tensorflow.keras.layers import Input, Conv1D, MaxPooling1D, Flatten, LSTM, Dense, concatenate, Reshape\n",
    "from tensorflow.keras.preprocessing.sequence import pad_sequences\n",
    "from tensorflow.keras.losses import CategoricalCrossentropy\n",
    "from tensorflow.keras.utils import to_categorical"
   ]
  },
  {
   "cell_type": "code",
   "execution_count": null,
   "metadata": {
    "colab": {
     "base_uri": "https://localhost:8080/"
    },
    "id": "sbC3KxMKlRTJ",
    "outputId": "a068fc56-e947-4819-cec1-7205accb9c72"
   },
   "outputs": [
    {
     "name": "stdout",
     "output_type": "stream",
     "text": [
      "Mounted at /content/drive\n"
     ]
    }
   ],
   "source": [
    "from google.colab import drive\n",
    "drive.mount('/content/drive')"
   ]
  },
  {
   "cell_type": "code",
   "execution_count": null,
   "metadata": {
    "colab": {
     "base_uri": "https://localhost:8080/"
    },
    "id": "QnQ0oqnzlcf0",
    "outputId": "5940616c-9142-4ad6-aba8-52bf5a0517d7"
   },
   "outputs": [
    {
     "name": "stdout",
     "output_type": "stream",
     "text": [
      "'Copy of Fixed 5 second window raw1.0.ipynb'\t      testPostureAtomicdata1D_502.json\n",
      "'plot graphs with dimension reduction - Copy.ipynb'   testPostureAtomicdata1D_530.json\n",
      " Sync_502\t\t\t\t\t      testPostureAtomicdata1D_v.json\n",
      " Sync_530\t\t\t\t\t     'Training model.ipynb'\n",
      " Synchronized\t\t\t\t\t      trainPostureAtomicdata1D.json\n",
      " test_541.json\t\t\t\t\t      Untitled1.ipynb\n"
     ]
    }
   ],
   "source": [
    "!ls \"/content/drive/My Drive/FYP\""
   ]
  },
  {
   "cell_type": "code",
   "execution_count": 294,
   "metadata": {
    "colab": {
     "base_uri": "https://localhost:8080/"
    },
    "id": "u9tHb4aclhyz",
    "outputId": "0930a9f3-f617-4dd2-fb2c-232099537e7a"
   },
   "outputs": [
    {
     "name": "stdout",
     "output_type": "stream",
     "text": [
      "File loaded successfully!\n"
     ]
    }
   ],
   "source": [
    "import json\n",
    "\n",
    "json_file_path = \"D:/train_data.json\"  # Update path if inside a folder\n",
    "\n",
    "with open(json_file_path, 'r') as json_file:\n",
    "    data = json.load(json_file)\n",
    "\n",
    "print(\"File loaded successfully!\")"
   ]
  },
  {
   "cell_type": "code",
   "execution_count": 295,
   "metadata": {
    "colab": {
     "base_uri": "https://localhost:8080/"
    },
    "id": "IAPInV4vlmNx",
    "outputId": "d0c1cc55-ba8b-4bc1-875e-28d48a7b74ff"
   },
   "outputs": [
    {
     "data": {
      "text/plain": [
       "752"
      ]
     },
     "execution_count": 295,
     "metadata": {},
     "output_type": "execute_result"
    }
   ],
   "source": [
    "len(data['GlassAccelerometer_train'])"
   ]
  },
  {
   "cell_type": "code",
   "execution_count": 298,
   "metadata": {
    "id": "kKT8rt8cln1O"
   },
   "outputs": [],
   "source": [
    "df = pd.DataFrame(data)"
   ]
  },
  {
   "cell_type": "code",
   "execution_count": 300,
   "metadata": {
    "colab": {
     "base_uri": "https://localhost:8080/"
    },
    "id": "oZEfl-Culvfn",
    "outputId": "7a06bb30-4592-4782-df32-c177dc3f1d6f"
   },
   "outputs": [
    {
     "data": {
      "text/plain": [
       "752"
      ]
     },
     "execution_count": 300,
     "metadata": {},
     "output_type": "execute_result"
    }
   ],
   "source": [
    "len(df)"
   ]
  },
  {
   "cell_type": "code",
   "execution_count": 302,
   "metadata": {
    "colab": {
     "base_uri": "https://localhost:8080/"
    },
    "id": "4hAeMHpFl0Tq",
    "outputId": "0d317b86-270b-47cf-91d4-dc22393dd445"
   },
   "outputs": [
    {
     "name": "stdout",
     "output_type": "stream",
     "text": [
      "GlassAccelerometer_train      48\n",
      "GlassGyroscope_train          48\n",
      "GlassMagnetometer_train       48\n",
      "PhoneAccelerometer_train    1200\n",
      "PhoneGyroscope_train        5880\n",
      "PhoneMagnetometer_train     1200\n",
      "WatchAccelerometer_train    1176\n",
      "WatchGyroscope_train        1176\n",
      "WatchMagnetometer_train     1176\n",
      "Y_train                        0\n",
      "dtype: int64\n"
     ]
    }
   ],
   "source": [
    "# Define a function to calculate the minimum length of non-empty lists in each column\n",
    "def min_list_length(column):\n",
    "    non_empty_lists = [x for x in column if isinstance(x, list) and len(x) > 0]\n",
    "    return min([len(x) for x in non_empty_lists]) if non_empty_lists else 0\n",
    "\n",
    "# Use the apply function to apply the custom function to each column\n",
    "min_lengths = df.apply(min_list_length)\n",
    "\n",
    "# min_lengths will contain the minimum lengths of non-empty lists in each column\n",
    "print(min_lengths)"
   ]
  },
  {
   "cell_type": "code",
   "execution_count": 304,
   "metadata": {
    "id": "SPiPqGFumUKU"
   },
   "outputs": [],
   "source": [
    "# Define other constants\n",
    "feature_dimension = 1  # Since each column contains a 1D list\n",
    "num_classes = 30  # Number of unique values in Y_train 61,55,6\n",
    "num_features = 9  # Number of features in DataFrame\n",
    "flatten_size =10\n",
    "\n",
    "# Prepare data and train the model\n",
    "y_train = np.array(df['Y_train'])\n",
    "\n",
    "X_features = [np.array(df[column].to_list()) for column in df.columns[:-1]]\n"
   ]
  },
  {
   "cell_type": "code",
   "execution_count": 306,
   "metadata": {
    "colab": {
     "base_uri": "https://localhost:8080/"
    },
    "id": "kQdbnZ7hmXsZ",
    "outputId": "d6ccd4af-7abd-4cfc-fc5c-84b315e19339"
   },
   "outputs": [
    {
     "name": "stdout",
     "output_type": "stream",
     "text": [
      "[ 0  1  2  3  4  5  6  7  8  9 10 11 12 13 14 15 16 17 18 19 20 21 22 23\n",
      " 24 25 26 27 28 29]\n"
     ]
    }
   ],
   "source": [
    "y_train = np.array(df['Y_train'])\n",
    "values = np.unique(y_train)\n",
    "print(values)"
   ]
  },
  {
   "cell_type": "code",
   "execution_count": 308,
   "metadata": {
    "colab": {
     "base_uri": "https://localhost:8080/"
    },
    "id": "Dz3mvgZCmbqt",
    "outputId": "809f8b80-19d8-40c8-ffbc-39ff61525f1f"
   },
   "outputs": [
    {
     "name": "stdout",
     "output_type": "stream",
     "text": [
      "<KerasTensor shape=(None, 160), dtype=float32, sparse=False, name=keras_tensor_360>\n",
      "<KerasTensor shape=(None, 160), dtype=float32, sparse=False, name=keras_tensor_367>\n",
      "<KerasTensor shape=(None, 160), dtype=float32, sparse=False, name=keras_tensor_374>\n",
      "<KerasTensor shape=(None, 4768), dtype=float32, sparse=False, name=keras_tensor_381>\n",
      "<KerasTensor shape=(None, 23488), dtype=float32, sparse=False, name=keras_tensor_388>\n",
      "<KerasTensor shape=(None, 4768), dtype=float32, sparse=False, name=keras_tensor_395>\n",
      "<KerasTensor shape=(None, 4672), dtype=float32, sparse=False, name=keras_tensor_402>\n",
      "<KerasTensor shape=(None, 4672), dtype=float32, sparse=False, name=keras_tensor_409>\n",
      "<KerasTensor shape=(None, 4672), dtype=float32, sparse=False, name=keras_tensor_416>\n"
     ]
    }
   ],
   "source": [
    "\n",
    "# Create the input layers for each feature\n",
    "input_layers = []\n",
    "# Create separate CNNs for each feature\n",
    "cnn_outputs = []\n",
    "for feature in df.columns[:-1]:\n",
    "    length = df[feature].apply(len)[0]\n",
    "    input_layer = Input(shape=(length,1))\n",
    "    input_layers.append(input_layer)\n",
    "    cnn = Conv1D(32, kernel_size=3, activation='relu')(input_layer)\n",
    "    cnn = MaxPooling1D(pool_size=2)(cnn)\n",
    "    cnn = Conv1D(16, kernel_size=3, activation='relu')(cnn)\n",
    "    cnn = MaxPooling1D(pool_size=2)(cnn)\n",
    "    cnn = Flatten()(cnn)\n",
    "    print(cnn)\n",
    "    cnn = Dense(flatten_size, activation='relu')(cnn)\n",
    "    cnn_outputs.append(cnn)\n",
    "\n",
    "# Concatenate the CNN outputs\n",
    "merged_cnn = concatenate(cnn_outputs)"
   ]
  },
  {
   "cell_type": "code",
   "execution_count": 310,
   "metadata": {
    "colab": {
     "base_uri": "https://localhost:8080/"
    },
    "id": "8R4iDC0nmf1z",
    "outputId": "9945eb49-c169-4176-d250-79f8e9badeac"
   },
   "outputs": [
    {
     "data": {
      "text/plain": [
       "<KerasTensor shape=(None, 90), dtype=float32, sparse=False, name=keras_tensor_418>"
      ]
     },
     "execution_count": 310,
     "metadata": {},
     "output_type": "execute_result"
    }
   ],
   "source": [
    "merged_cnn"
   ]
  },
  {
   "cell_type": "code",
   "execution_count": 312,
   "metadata": {
    "colab": {
     "base_uri": "https://localhost:8080/"
    },
    "id": "TZysbUUbmk65",
    "outputId": "17288a3b-2805-420e-cb0e-a67fd73c2838"
   },
   "outputs": [
    {
     "data": {
      "text/plain": [
       "[<KerasTensor shape=(None, 10), dtype=float32, sparse=False, name=keras_tensor_361>,\n",
       " <KerasTensor shape=(None, 10), dtype=float32, sparse=False, name=keras_tensor_368>,\n",
       " <KerasTensor shape=(None, 10), dtype=float32, sparse=False, name=keras_tensor_375>,\n",
       " <KerasTensor shape=(None, 10), dtype=float32, sparse=False, name=keras_tensor_382>,\n",
       " <KerasTensor shape=(None, 10), dtype=float32, sparse=False, name=keras_tensor_389>,\n",
       " <KerasTensor shape=(None, 10), dtype=float32, sparse=False, name=keras_tensor_396>,\n",
       " <KerasTensor shape=(None, 10), dtype=float32, sparse=False, name=keras_tensor_403>,\n",
       " <KerasTensor shape=(None, 10), dtype=float32, sparse=False, name=keras_tensor_410>,\n",
       " <KerasTensor shape=(None, 10), dtype=float32, sparse=False, name=keras_tensor_417>]"
      ]
     },
     "execution_count": 312,
     "metadata": {},
     "output_type": "execute_result"
    }
   ],
   "source": [
    "cnn_outputs"
   ]
  },
  {
   "cell_type": "code",
   "execution_count": 314,
   "metadata": {
    "id": "UWVg1WCSmpRL"
   },
   "outputs": [],
   "source": [
    "# Reshape the concatenated CNN outputs to match the LSTM input shape\n",
    "reshaped_cnn = Reshape((num_features, -1))(merged_cnn)\n",
    "\n",
    "# LSTM branch\n",
    "lstm = LSTM(128, return_sequences=True)(reshaped_cnn)\n",
    "lstm = LSTM(64)(lstm)\n",
    "\n",
    "# Fully connected layers\n",
    "dense1 = Dense(128, activation='relu')(lstm)\n",
    "output = Dense(num_classes, activation='softmax')(dense1)\n"
   ]
  },
  {
   "cell_type": "code",
   "execution_count": 316,
   "metadata": {
    "colab": {
     "base_uri": "https://localhost:8080/"
    },
    "id": "gq_uUUx5muBe",
    "outputId": "5557963d-6c88-48a8-b611-ea2977db2c0c",
    "scrolled": true
   },
   "outputs": [
    {
     "name": "stdout",
     "output_type": "stream",
     "text": [
      "Epoch 1/25\n",
      "\u001b[1m19/19\u001b[0m \u001b[32m━━━━━━━━━━━━━━━━━━━━\u001b[0m\u001b[37m\u001b[0m \u001b[1m22s\u001b[0m 251ms/step - accuracy: 0.0820 - loss: 3.3530 - val_accuracy: 0.0861 - val_loss: 3.2531\n",
      "Epoch 2/25\n",
      "\u001b[1m19/19\u001b[0m \u001b[32m━━━━━━━━━━━━━━━━━━━━\u001b[0m\u001b[37m\u001b[0m \u001b[1m3s\u001b[0m 152ms/step - accuracy: 0.2026 - loss: 2.9700 - val_accuracy: 0.3113 - val_loss: 2.5777\n",
      "Epoch 3/25\n",
      "\u001b[1m19/19\u001b[0m \u001b[32m━━━━━━━━━━━━━━━━━━━━\u001b[0m\u001b[37m\u001b[0m \u001b[1m3s\u001b[0m 155ms/step - accuracy: 0.4267 - loss: 2.1333 - val_accuracy: 0.4040 - val_loss: 1.8251\n",
      "Epoch 4/25\n",
      "\u001b[1m19/19\u001b[0m \u001b[32m━━━━━━━━━━━━━━━━━━━━\u001b[0m\u001b[37m\u001b[0m \u001b[1m3s\u001b[0m 158ms/step - accuracy: 0.6529 - loss: 1.3524 - val_accuracy: 0.5828 - val_loss: 1.2289\n",
      "Epoch 5/25\n",
      "\u001b[1m19/19\u001b[0m \u001b[32m━━━━━━━━━━━━━━━━━━━━\u001b[0m\u001b[37m\u001b[0m \u001b[1m3s\u001b[0m 153ms/step - accuracy: 0.8002 - loss: 0.8363 - val_accuracy: 0.7550 - val_loss: 0.8391\n",
      "Epoch 6/25\n",
      "\u001b[1m19/19\u001b[0m \u001b[32m━━━━━━━━━━━━━━━━━━━━\u001b[0m\u001b[37m\u001b[0m \u001b[1m3s\u001b[0m 148ms/step - accuracy: 0.8926 - loss: 0.5018 - val_accuracy: 0.7616 - val_loss: 0.7152\n",
      "Epoch 7/25\n",
      "\u001b[1m19/19\u001b[0m \u001b[32m━━━━━━━━━━━━━━━━━━━━\u001b[0m\u001b[37m\u001b[0m \u001b[1m3s\u001b[0m 157ms/step - accuracy: 0.9032 - loss: 0.3715 - val_accuracy: 0.8013 - val_loss: 0.5530\n",
      "Epoch 8/25\n",
      "\u001b[1m19/19\u001b[0m \u001b[32m━━━━━━━━━━━━━━━━━━━━\u001b[0m\u001b[37m\u001b[0m \u001b[1m3s\u001b[0m 157ms/step - accuracy: 0.9294 - loss: 0.2894 - val_accuracy: 0.8344 - val_loss: 0.4760\n",
      "Epoch 9/25\n",
      "\u001b[1m19/19\u001b[0m \u001b[32m━━━━━━━━━━━━━━━━━━━━\u001b[0m\u001b[37m\u001b[0m \u001b[1m5s\u001b[0m 149ms/step - accuracy: 0.9550 - loss: 0.1596 - val_accuracy: 0.8874 - val_loss: 0.3485\n",
      "Epoch 10/25\n",
      "\u001b[1m19/19\u001b[0m \u001b[32m━━━━━━━━━━━━━━━━━━━━\u001b[0m\u001b[37m\u001b[0m \u001b[1m3s\u001b[0m 144ms/step - accuracy: 0.9636 - loss: 0.1525 - val_accuracy: 0.8742 - val_loss: 0.3647\n",
      "Epoch 11/25\n",
      "\u001b[1m19/19\u001b[0m \u001b[32m━━━━━━━━━━━━━━━━━━━━\u001b[0m\u001b[37m\u001b[0m \u001b[1m3s\u001b[0m 146ms/step - accuracy: 0.9657 - loss: 0.1210 - val_accuracy: 0.8940 - val_loss: 0.3182\n",
      "Epoch 12/25\n",
      "\u001b[1m19/19\u001b[0m \u001b[32m━━━━━━━━━━━━━━━━━━━━\u001b[0m\u001b[37m\u001b[0m \u001b[1m3s\u001b[0m 155ms/step - accuracy: 0.9570 - loss: 0.1083 - val_accuracy: 0.8874 - val_loss: 0.2687\n",
      "Epoch 13/25\n",
      "\u001b[1m19/19\u001b[0m \u001b[32m━━━━━━━━━━━━━━━━━━━━\u001b[0m\u001b[37m\u001b[0m \u001b[1m3s\u001b[0m 151ms/step - accuracy: 0.9539 - loss: 0.1100 - val_accuracy: 0.8675 - val_loss: 0.3556\n",
      "Epoch 14/25\n",
      "\u001b[1m19/19\u001b[0m \u001b[32m━━━━━━━━━━━━━━━━━━━━\u001b[0m\u001b[37m\u001b[0m \u001b[1m3s\u001b[0m 168ms/step - accuracy: 0.9650 - loss: 0.1018 - val_accuracy: 0.9139 - val_loss: 0.2717\n",
      "Epoch 15/25\n",
      "\u001b[1m19/19\u001b[0m \u001b[32m━━━━━━━━━━━━━━━━━━━━\u001b[0m\u001b[37m\u001b[0m \u001b[1m5s\u001b[0m 153ms/step - accuracy: 0.9944 - loss: 0.0648 - val_accuracy: 0.9139 - val_loss: 0.3079\n",
      "Epoch 16/25\n",
      "\u001b[1m19/19\u001b[0m \u001b[32m━━━━━━━━━━━━━━━━━━━━\u001b[0m\u001b[37m\u001b[0m \u001b[1m3s\u001b[0m 162ms/step - accuracy: 0.9830 - loss: 0.0516 - val_accuracy: 0.9205 - val_loss: 0.2656\n",
      "Epoch 17/25\n",
      "\u001b[1m19/19\u001b[0m \u001b[32m━━━━━━━━━━━━━━━━━━━━\u001b[0m\u001b[37m\u001b[0m \u001b[1m3s\u001b[0m 171ms/step - accuracy: 0.9879 - loss: 0.0366 - val_accuracy: 0.9272 - val_loss: 0.2556\n",
      "Epoch 18/25\n",
      "\u001b[1m19/19\u001b[0m \u001b[32m━━━━━━━━━━━━━━━━━━━━\u001b[0m\u001b[37m\u001b[0m \u001b[1m3s\u001b[0m 154ms/step - accuracy: 0.9978 - loss: 0.0267 - val_accuracy: 0.9404 - val_loss: 0.2511\n",
      "Epoch 19/25\n",
      "\u001b[1m19/19\u001b[0m \u001b[32m━━━━━━━━━━━━━━━━━━━━\u001b[0m\u001b[37m\u001b[0m \u001b[1m3s\u001b[0m 152ms/step - accuracy: 0.9894 - loss: 0.0358 - val_accuracy: 0.8874 - val_loss: 0.3999\n",
      "Epoch 20/25\n",
      "\u001b[1m19/19\u001b[0m \u001b[32m━━━━━━━━━━━━━━━━━━━━\u001b[0m\u001b[37m\u001b[0m \u001b[1m5s\u001b[0m 147ms/step - accuracy: 0.9909 - loss: 0.0465 - val_accuracy: 0.9007 - val_loss: 0.3191\n",
      "Epoch 21/25\n",
      "\u001b[1m19/19\u001b[0m \u001b[32m━━━━━━━━━━━━━━━━━━━━\u001b[0m\u001b[37m\u001b[0m \u001b[1m3s\u001b[0m 153ms/step - accuracy: 0.9899 - loss: 0.0347 - val_accuracy: 0.9139 - val_loss: 0.3053\n",
      "Epoch 22/25\n",
      "\u001b[1m19/19\u001b[0m \u001b[32m━━━━━━━━━━━━━━━━━━━━\u001b[0m\u001b[37m\u001b[0m \u001b[1m3s\u001b[0m 151ms/step - accuracy: 0.9997 - loss: 0.0247 - val_accuracy: 0.9205 - val_loss: 0.2948\n",
      "Epoch 23/25\n",
      "\u001b[1m19/19\u001b[0m \u001b[32m━━━━━━━━━━━━━━━━━━━━\u001b[0m\u001b[37m\u001b[0m \u001b[1m5s\u001b[0m 140ms/step - accuracy: 0.9993 - loss: 0.0124 - val_accuracy: 0.9404 - val_loss: 0.2643\n",
      "Epoch 24/25\n",
      "\u001b[1m19/19\u001b[0m \u001b[32m━━━━━━━━━━━━━━━━━━━━\u001b[0m\u001b[37m\u001b[0m \u001b[1m3s\u001b[0m 144ms/step - accuracy: 0.9987 - loss: 0.0169 - val_accuracy: 0.9139 - val_loss: 0.3375\n",
      "Epoch 25/25\n",
      "\u001b[1m19/19\u001b[0m \u001b[32m━━━━━━━━━━━━━━━━━━━━\u001b[0m\u001b[37m\u001b[0m \u001b[1m3s\u001b[0m 152ms/step - accuracy: 0.9935 - loss: 0.0204 - val_accuracy: 0.9272 - val_loss: 0.2996\n"
     ]
    }
   ],
   "source": [
    "# Training parameters\n",
    "number_of_epoch = 25\n",
    "batch_size = 32\n",
    "\n",
    "# Create the combined model\n",
    "model = Model(inputs=input_layers, outputs=output)\n",
    "\n",
    "# Compile the model\n",
    "model.compile(optimizer='adam', loss='sparse_categorical_crossentropy', metrics=['accuracy'])\n",
    "\n",
    "# Train the model\n",
    "history= model.fit(X_features, y_train, epochs=number_of_epoch, batch_size=batch_size, validation_split=0.2)"
   ]
  },
  {
   "cell_type": "code",
   "execution_count": 318,
   "metadata": {},
   "outputs": [
    {
     "data": {
      "image/png": "[encoded data removed]",
      "text/plain": [
       "<Figure size 1200x600 with 1 Axes>"
      ]
     },
     "metadata": {},
     "output_type": "display_data"
    }
   ],
   "source": [
    "import matplotlib.pyplot as plt\n",
    "plt.figure(figsize=(12, 6))\n",
    "plt.plot(history.history['accuracy'], label='Training accuracy')\n",
    "plt.plot(history.history['val_accuracy'], label='Validation accuracy')\n",
    "plt.title('Model Loss')\n",
    "plt.xlabel('Epoch')\n",
    "plt.ylabel('Loss')\n",
    "plt.legend(loc='upper right')\n",
    "plt.savefig('TL-Loss-3-modalities.jpg')\n",
    "plt.show()"
   ]
  },
  {
   "cell_type": "code",
   "execution_count": 319,
   "metadata": {
    "id": "7c2QfmoznKcu"
   },
   "outputs": [
    {
     "data": {
      "image/png": "[encoded data removed]",
      "text/plain": [
       "<Figure size 1200x600 with 1 Axes>"
      ]
     },
     "metadata": {},
     "output_type": "display_data"
    }
   ],
   "source": [
    "import matplotlib.pyplot as plt\n",
    "plt.figure(figsize=(12, 6))\n",
    "plt.plot(history.history['loss'], label='Training Loss')\n",
    "plt.plot(history.history['val_loss'], label='Validation loss')\n",
    "plt.title('Model Loss')\n",
    "plt.xlabel('Epoch')\n",
    "plt.ylabel('Loss')\n",
    "plt.legend(loc='upper right')\n",
    "plt.savefig('TL-Loss-3-modalities1.jpg')\n",
    "plt.show()"
   ]
  },
  {
   "cell_type": "code",
   "execution_count": 322,
   "metadata": {
    "id": "7c2QfmoznKcu"
   },
   "outputs": [],
   "source": [
    "#model.save('test_541_22act_trainedModel.keras')"
   ]
  },
  {
   "cell_type": "code",
   "execution_count": 324,
   "metadata": {
    "id": "aIlOIkT3zJ8C"
   },
   "outputs": [],
   "source": [
    "del df\n",
    "del data\n",
    "del X_features\n",
    "del y_train"
   ]
  },
  {
   "cell_type": "markdown",
   "metadata": {
    "id": "sV1W0qPkzHoq"
   },
   "source": [
    "# **Loading the Trained Model to Test over Test data**"
   ]
  },
  {
   "cell_type": "code",
   "execution_count": 150,
   "metadata": {
    "id": "0PQaRaQknV8J"
   },
   "outputs": [
    {
     "ename": "ValueError",
     "evalue": "File not found: filepath=test_541_22act_trainedModel.keras. Please ensure the file is an accessible `.keras` zip file.",
     "output_type": "error",
     "traceback": [
      "\u001b[1;31m---------------------------------------------------------------------------\u001b[0m",
      "\u001b[1;31mValueError\u001b[0m                                Traceback (most recent call last)",
      "Cell \u001b[1;32mIn[150], line 1\u001b[0m\n\u001b[1;32m----> 1\u001b[0m model \u001b[38;5;241m=\u001b[39m tf\u001b[38;5;241m.\u001b[39mkeras\u001b[38;5;241m.\u001b[39mmodels\u001b[38;5;241m.\u001b[39mload_model(\u001b[38;5;124m'\u001b[39m\u001b[38;5;124mtest_541_22act_trainedModel.keras\u001b[39m\u001b[38;5;124m'\u001b[39m)\n",
      "File \u001b[1;32mD:\\Programs\\Anaconda\\Lib\\site-packages\\keras\\src\\saving\\saving_api.py:200\u001b[0m, in \u001b[0;36mload_model\u001b[1;34m(filepath, custom_objects, compile, safe_mode)\u001b[0m\n\u001b[0;32m    196\u001b[0m     \u001b[38;5;28;01mreturn\u001b[39;00m legacy_h5_format\u001b[38;5;241m.\u001b[39mload_model_from_hdf5(\n\u001b[0;32m    197\u001b[0m         filepath, custom_objects\u001b[38;5;241m=\u001b[39mcustom_objects, \u001b[38;5;28mcompile\u001b[39m\u001b[38;5;241m=\u001b[39m\u001b[38;5;28mcompile\u001b[39m\n\u001b[0;32m    198\u001b[0m     )\n\u001b[0;32m    199\u001b[0m \u001b[38;5;28;01melif\u001b[39;00m \u001b[38;5;28mstr\u001b[39m(filepath)\u001b[38;5;241m.\u001b[39mendswith(\u001b[38;5;124m\"\u001b[39m\u001b[38;5;124m.keras\u001b[39m\u001b[38;5;124m\"\u001b[39m):\n\u001b[1;32m--> 200\u001b[0m     \u001b[38;5;28;01mraise\u001b[39;00m \u001b[38;5;167;01mValueError\u001b[39;00m(\n\u001b[0;32m    201\u001b[0m         \u001b[38;5;124mf\u001b[39m\u001b[38;5;124m\"\u001b[39m\u001b[38;5;124mFile not found: filepath=\u001b[39m\u001b[38;5;132;01m{\u001b[39;00mfilepath\u001b[38;5;132;01m}\u001b[39;00m\u001b[38;5;124m. \u001b[39m\u001b[38;5;124m\"\u001b[39m\n\u001b[0;32m    202\u001b[0m         \u001b[38;5;124m\"\u001b[39m\u001b[38;5;124mPlease ensure the file is an accessible `.keras` \u001b[39m\u001b[38;5;124m\"\u001b[39m\n\u001b[0;32m    203\u001b[0m         \u001b[38;5;124m\"\u001b[39m\u001b[38;5;124mzip file.\u001b[39m\u001b[38;5;124m\"\u001b[39m\n\u001b[0;32m    204\u001b[0m     )\n\u001b[0;32m    205\u001b[0m \u001b[38;5;28;01melse\u001b[39;00m:\n\u001b[0;32m    206\u001b[0m     \u001b[38;5;28;01mraise\u001b[39;00m \u001b[38;5;167;01mValueError\u001b[39;00m(\n\u001b[0;32m    207\u001b[0m         \u001b[38;5;124mf\u001b[39m\u001b[38;5;124m\"\u001b[39m\u001b[38;5;124mFile format not supported: filepath=\u001b[39m\u001b[38;5;132;01m{\u001b[39;00mfilepath\u001b[38;5;132;01m}\u001b[39;00m\u001b[38;5;124m. \u001b[39m\u001b[38;5;124m\"\u001b[39m\n\u001b[0;32m    208\u001b[0m         \u001b[38;5;124m\"\u001b[39m\u001b[38;5;124mKeras 3 only supports V3 `.keras` files and \u001b[39m\u001b[38;5;124m\"\u001b[39m\n\u001b[1;32m   (...)\u001b[0m\n\u001b[0;32m    217\u001b[0m         \u001b[38;5;124m\"\u001b[39m\u001b[38;5;124mmight have a different name).\u001b[39m\u001b[38;5;124m\"\u001b[39m\n\u001b[0;32m    218\u001b[0m     )\n",
      "\u001b[1;31mValueError\u001b[0m: File not found: filepath=test_541_22act_trainedModel.keras. Please ensure the file is an accessible `.keras` zip file."
     ]
    }
   ],
   "source": [
    "model = tf.keras.models.load_model('test_541_22act_trainedModel.keras')"
   ]
  },
  {
   "cell_type": "code",
   "execution_count": 328,
   "metadata": {
    "id": "fKBmP_vhzKpY"
   },
   "outputs": [],
   "source": [
    "# Path to your test JSON file\n",
    "test_json_file_path = \"D:/test_data.json\"  # Update path accordingly\n",
    "\n",
    "# Load test data\n",
    "with open(test_json_file_path, 'r') as json_file:\n",
    "    test_data = json.load(json_file)\n",
    "\n",
    "# Convert test data to DataFrame\n",
    "import pandas as pd\n",
    "df_test = pd.DataFrame(test_data)\n",
    "\n",
    "# Extract features\n",
    "X_test_features = [np.array(df_test[column].to_list()) for column in df_test.columns[:-1]]  # Assuming last column is Y_test\n",
    "\n",
    "# Extract ground truth labels (if available)\n",
    "y_test = np.array(df_test['Y_test'])  # Update based on your actual test label column"
   ]
  },
  {
   "cell_type": "code",
   "execution_count": 330,
   "metadata": {},
   "outputs": [
    {
     "data": {
      "text/html": [
       "<div>\n",
       "<style scoped>\n",
       "    .dataframe tbody tr th:only-of-type {\n",
       "        vertical-align: middle;\n",
       "    }\n",
       "\n",
       "    .dataframe tbody tr th {\n",
       "        vertical-align: top;\n",
       "    }\n",
       "\n",
       "    .dataframe thead th {\n",
       "        text-align: right;\n",
       "    }\n",
       "</style>\n",
       "<table border=\"1\" class=\"dataframe\">\n",
       "  <thead>\n",
       "    <tr style=\"text-align: right;\">\n",
       "      <th></th>\n",
       "      <th>GlassAccelerometer_train</th>\n",
       "      <th>GlassGyroscope_train</th>\n",
       "      <th>GlassMagnetometer_train</th>\n",
       "      <th>PhoneAccelerometer_train</th>\n",
       "      <th>PhoneGyroscope_train</th>\n",
       "      <th>PhoneMagnetometer_train</th>\n",
       "      <th>WatchAccelerometer_train</th>\n",
       "      <th>WatchGyroscope_train</th>\n",
       "      <th>WatchMagnetometer_train</th>\n",
       "      <th>Y_test</th>\n",
       "    </tr>\n",
       "  </thead>\n",
       "  <tbody>\n",
       "    <tr>\n",
       "      <th>0</th>\n",
       "      <td>[1813.0, 1788.0, 1834.0, 1800.0, 1842.0, 1803....</td>\n",
       "      <td>[65400.0, 39.0, 19.0, 117.0, 100.0, 117.0, 84....</td>\n",
       "      <td>[85.0, 72.0, 78.0, 79.0, 84.0, 79.0, 90.0, 84....</td>\n",
       "      <td>[-3.545921, -3.5267668, -3.512401, -3.510007, ...</td>\n",
       "      <td>[-0.0030543264, -0.002443461, -0.0030543264, -...</td>\n",
       "      <td>[141.42, 141.42, 141.48, 141.9, 142.08, 141.95...</td>\n",
       "      <td>[9.083601, 9.126697, 9.176975, 9.14585, 9.1362...</td>\n",
       "      <td>[-0.035430185, -0.037873644, -0.035430185, -0....</td>\n",
       "      <td>[251.09999, 250.92, 250.73999, 251.22, 250.2, ...</td>\n",
       "      <td>12</td>\n",
       "    </tr>\n",
       "    <tr>\n",
       "      <th>1</th>\n",
       "      <td>[3997.0, 3991.0, 4008.0, 4028.0, 4027.0, 3986....</td>\n",
       "      <td>[65377.0, 65372.0, 82.0, 65470.0, 244.0, 65341...</td>\n",
       "      <td>[65387.0, 65393.0, 65393.0, 65386.0, 65383.0, ...</td>\n",
       "      <td>[-2.430189, -2.439766, -2.4421604, -2.4469488,...</td>\n",
       "      <td>[0.005497787, 0.004886922, 0.0018325957, 0.001...</td>\n",
       "      <td>[99.72, 99.9, 99.9, 99.479996, 99.42, 99.42, 9...</td>\n",
       "      <td>[-9.586384, -9.629479, -9.603143, -9.615114, -...</td>\n",
       "      <td>[-0.02076942, -0.014660766, -0.0061086523, 0.0...</td>\n",
       "      <td>[95.1, 95.1, 94.68, 94.56, 94.74, 95.579994, 9...</td>\n",
       "      <td>24</td>\n",
       "    </tr>\n",
       "    <tr>\n",
       "      <th>2</th>\n",
       "      <td>[4039.0, 4004.0, 4028.0, 4044.0, 4022.0, 2776....</td>\n",
       "      <td>[65443.0, 10.0, 65459.0, 65376.0, 195.0, 64967...</td>\n",
       "      <td>[65350.0, 65354.0, 65357.0, 65356.0, 65356.0, ...</td>\n",
       "      <td>[-2.2362528, -2.2314641, -2.2194927, -2.217098...</td>\n",
       "      <td>[0.008552114, 0.009162979, 0.01038471, 0.01221...</td>\n",
       "      <td>[139.37999, 138.95999, 138.9, 139.02, 139.14, ...</td>\n",
       "      <td>[-5.363012, -5.4061074, -5.415684, -5.341464, ...</td>\n",
       "      <td>[-0.015882496, -0.02321288, -0.021991149, -0.0...</td>\n",
       "      <td>[125.939995, 126.06, 125.82, 125.7, 125.759995...</td>\n",
       "      <td>21</td>\n",
       "    </tr>\n",
       "    <tr>\n",
       "      <th>3</th>\n",
       "      <td>[4039.0, 4036.0, 4089.0, 4023.0, 3915.0, 2466....</td>\n",
       "      <td>[65356.0, 65412.0, 36.0, 65428.0, 64990.0, 310...</td>\n",
       "      <td>[65388.0, 65392.0, 65393.0, 65388.0, 65383.0, ...</td>\n",
       "      <td>[-0.9481328, -0.9529214, -0.9601042, -0.976864...</td>\n",
       "      <td>[-0.005497787, -0.005497787, -0.004886922, -0....</td>\n",
       "      <td>[147.42, 147.18, 147.12, 147.0, 147.23999, 147...</td>\n",
       "      <td>[-7.5920134, -7.620744, -7.615956, -7.642292, ...</td>\n",
       "      <td>[-0.013439035, -0.012217305, -0.012217305, -0....</td>\n",
       "      <td>[253.08, 252.29999, 252.54, 251.87999, 252.239...</td>\n",
       "      <td>21</td>\n",
       "    </tr>\n",
       "    <tr>\n",
       "      <th>4</th>\n",
       "      <td>[3413.0, 3409.0, 3419.0, 3398.0, 3386.0, 3464....</td>\n",
       "      <td>[65420.0, 201.0, 65253.0, 65215.0, 65520.0, 65...</td>\n",
       "      <td>[65349.0, 65346.0, 65349.0, 65346.0, 65345.0, ...</td>\n",
       "      <td>[2.4349775, 2.4421604, 2.439766, 2.430189, 2.4...</td>\n",
       "      <td>[-0.009162979, -0.0073303827, -0.008552114, -0...</td>\n",
       "      <td>[73.619995, 74.58, 74.88, 75.479996, 75.06, 74...</td>\n",
       "      <td>[2.0111294, 1.9081788, 1.8076223, 1.9033904, 2...</td>\n",
       "      <td>[0.03176499, -0.02687807, -0.096516706, -0.118...</td>\n",
       "      <td>[45.48, 46.02, 45.899998, 45.78, 45.42, 45.18,...</td>\n",
       "      <td>27</td>\n",
       "    </tr>\n",
       "  </tbody>\n",
       "</table>\n",
       "</div>"
      ],
      "text/plain": [
       "                            GlassAccelerometer_train  \\\n",
       "0  [1813.0, 1788.0, 1834.0, 1800.0, 1842.0, 1803....   \n",
       "1  [3997.0, 3991.0, 4008.0, 4028.0, 4027.0, 3986....   \n",
       "2  [4039.0, 4004.0, 4028.0, 4044.0, 4022.0, 2776....   \n",
       "3  [4039.0, 4036.0, 4089.0, 4023.0, 3915.0, 2466....   \n",
       "4  [3413.0, 3409.0, 3419.0, 3398.0, 3386.0, 3464....   \n",
       "\n",
       "                                GlassGyroscope_train  \\\n",
       "0  [65400.0, 39.0, 19.0, 117.0, 100.0, 117.0, 84....   \n",
       "1  [65377.0, 65372.0, 82.0, 65470.0, 244.0, 65341...   \n",
       "2  [65443.0, 10.0, 65459.0, 65376.0, 195.0, 64967...   \n",
       "3  [65356.0, 65412.0, 36.0, 65428.0, 64990.0, 310...   \n",
       "4  [65420.0, 201.0, 65253.0, 65215.0, 65520.0, 65...   \n",
       "\n",
       "                             GlassMagnetometer_train  \\\n",
       "0  [85.0, 72.0, 78.0, 79.0, 84.0, 79.0, 90.0, 84....   \n",
       "1  [65387.0, 65393.0, 65393.0, 65386.0, 65383.0, ...   \n",
       "2  [65350.0, 65354.0, 65357.0, 65356.0, 65356.0, ...   \n",
       "3  [65388.0, 65392.0, 65393.0, 65388.0, 65383.0, ...   \n",
       "4  [65349.0, 65346.0, 65349.0, 65346.0, 65345.0, ...   \n",
       "\n",
       "                            PhoneAccelerometer_train  \\\n",
       "0  [-3.545921, -3.5267668, -3.512401, -3.510007, ...   \n",
       "1  [-2.430189, -2.439766, -2.4421604, -2.4469488,...   \n",
       "2  [-2.2362528, -2.2314641, -2.2194927, -2.217098...   \n",
       "3  [-0.9481328, -0.9529214, -0.9601042, -0.976864...   \n",
       "4  [2.4349775, 2.4421604, 2.439766, 2.430189, 2.4...   \n",
       "\n",
       "                                PhoneGyroscope_train  \\\n",
       "0  [-0.0030543264, -0.002443461, -0.0030543264, -...   \n",
       "1  [0.005497787, 0.004886922, 0.0018325957, 0.001...   \n",
       "2  [0.008552114, 0.009162979, 0.01038471, 0.01221...   \n",
       "3  [-0.005497787, -0.005497787, -0.004886922, -0....   \n",
       "4  [-0.009162979, -0.0073303827, -0.008552114, -0...   \n",
       "\n",
       "                             PhoneMagnetometer_train  \\\n",
       "0  [141.42, 141.42, 141.48, 141.9, 142.08, 141.95...   \n",
       "1  [99.72, 99.9, 99.9, 99.479996, 99.42, 99.42, 9...   \n",
       "2  [139.37999, 138.95999, 138.9, 139.02, 139.14, ...   \n",
       "3  [147.42, 147.18, 147.12, 147.0, 147.23999, 147...   \n",
       "4  [73.619995, 74.58, 74.88, 75.479996, 75.06, 74...   \n",
       "\n",
       "                            WatchAccelerometer_train  \\\n",
       "0  [9.083601, 9.126697, 9.176975, 9.14585, 9.1362...   \n",
       "1  [-9.586384, -9.629479, -9.603143, -9.615114, -...   \n",
       "2  [-5.363012, -5.4061074, -5.415684, -5.341464, ...   \n",
       "3  [-7.5920134, -7.620744, -7.615956, -7.642292, ...   \n",
       "4  [2.0111294, 1.9081788, 1.8076223, 1.9033904, 2...   \n",
       "\n",
       "                                WatchGyroscope_train  \\\n",
       "0  [-0.035430185, -0.037873644, -0.035430185, -0....   \n",
       "1  [-0.02076942, -0.014660766, -0.0061086523, 0.0...   \n",
       "2  [-0.015882496, -0.02321288, -0.021991149, -0.0...   \n",
       "3  [-0.013439035, -0.012217305, -0.012217305, -0....   \n",
       "4  [0.03176499, -0.02687807, -0.096516706, -0.118...   \n",
       "\n",
       "                             WatchMagnetometer_train  Y_test  \n",
       "0  [251.09999, 250.92, 250.73999, 251.22, 250.2, ...      12  \n",
       "1  [95.1, 95.1, 94.68, 94.56, 94.74, 95.579994, 9...      24  \n",
       "2  [125.939995, 126.06, 125.82, 125.7, 125.759995...      21  \n",
       "3  [253.08, 252.29999, 252.54, 251.87999, 252.239...      21  \n",
       "4  [45.48, 46.02, 45.899998, 45.78, 45.42, 45.18,...      27  "
      ]
     },
     "execution_count": 330,
     "metadata": {},
     "output_type": "execute_result"
    }
   ],
   "source": [
    "df_test.head()"
   ]
  },
  {
   "cell_type": "code",
   "execution_count": 332,
   "metadata": {
    "colab": {
     "base_uri": "https://localhost:8080/"
    },
    "id": "KKkHZTqLzXvU",
    "outputId": "37c4aced-8686-4694-c7cc-8efaab4f93e5"
   },
   "outputs": [
    {
     "name": "stdout",
     "output_type": "stream",
     "text": [
      "\u001b[1m6/6\u001b[0m \u001b[32m━━━━━━━━━━━━━━━━━━━━\u001b[0m\u001b[37m\u001b[0m \u001b[1m3s\u001b[0m 284ms/step\n"
     ]
    }
   ],
   "source": [
    "# Get model predictions\n",
    "y_pred_probs = model.predict(X_test_features)\n",
    "\n",
    "# Convert softmax probabilities to class predictions\n",
    "predicted_classes = np.argmax(y_pred_probs, axis=1)"
   ]
  },
  {
   "cell_type": "code",
   "execution_count": 334,
   "metadata": {},
   "outputs": [
    {
     "name": "stdout",
     "output_type": "stream",
     "text": [
      "Confusion Matrix:\n",
      "[[ 2  0  1  0  0  0  0  0  0  0  0  0  1  0  0  0  0  0  0  0  0  0  0  0\n",
      "   0  0  0  0  0  0]\n",
      " [ 0 12  0  0  0  0  0  0  0  0  0  0  0  0  0  0  0  0  0  0  0  0  0  0\n",
      "   0  0  0  0  0  0]\n",
      " [ 0  0  4  0  0  0  0  0  0  0  0  0  0  0  0  0  0  0  0  0  0  0  0  0\n",
      "   0  0  0  0  0  0]\n",
      " [ 0  0  0  5  0  0  0  0  0  0  0  0  0  0  0  0  0  0  0  0  0  0  0  0\n",
      "   0  0  0  0  0  0]\n",
      " [ 0  0  0  0  1  0  0  0  0  0  0  0  0  0  0  0  0  0  0  0  0  0  0  0\n",
      "   0  0  0  0  0  0]\n",
      " [ 0  0  0  0  0  5  0  0  0  0  0  0  0  0  0  0  0  0  0  0  0  0  0  0\n",
      "   0  0  0  0  0  0]\n",
      " [ 0  0  0  0  0  0  5  0  0  0  0  0  0  0  0  0  0  0  0  0  0  0  0  0\n",
      "   0  0  0  0  0  0]\n",
      " [ 0  0  0  0  0  0  0  6  0  0  0  0  0  0  0  0  0  0  0  0  0  0  0  0\n",
      "   0  0  0  0  0  4]\n",
      " [ 0  0  0  0  0  0  0  1  7  0  0  0  0  0  0  0  0  0  0  0  0  0  0  0\n",
      "   0  0  0  0  0  0]\n",
      " [ 0  0  0  0  0  0  0  0  0  5  0  0  0  0  0  0  0  0  0  0  0  0  0  0\n",
      "   0  0  0  0  0  0]\n",
      " [ 0  0  0  0  0  0  0  0  0  0 15  0  0  0  0  0  0  0  0  0  0  0  0  0\n",
      "   0  0  0  0  0  0]\n",
      " [ 0  1  0  0  0  0  0  0  0  0  0  4  0  0  0  0  0  0  0  0  0  0  0  0\n",
      "   0  0  0  0  0  0]\n",
      " [ 0  0  0  0  0  0  0  0  0  0  0  0  4  0  0  0  0  0  0  0  0  0  0  0\n",
      "   0  0  0  0  0  0]\n",
      " [ 0  0  0  0  0  0  0  0  0  0  0  0  0  4  1  0  0  0  0  0  0  0  0  0\n",
      "   0  0  0  0  0  0]\n",
      " [ 0  0  1  0  0  0  0  0  0  0  0  0  0  0  3  0  1  0  0  0  0  0  0  0\n",
      "   0  0  0  0  0  0]\n",
      " [ 0  0  0  0  0  0  0  0  0  0  0  0  0  0  0  4  0  0  0  0  0  0  0  0\n",
      "   0  0  0  0  0  0]\n",
      " [ 0  0  0  0  0  0  0  0  0  0  0  0  0  0  0  0  5  0  0  0  0  0  0  0\n",
      "   0  0  0  0  0  0]\n",
      " [ 0  0  0  0  0  0  0  0  0  0  0  0  0  0  0  0  0  7  0  0  0  0  0  0\n",
      "   0  0  0  0  0  0]\n",
      " [ 0  0  0  0  0  0  0  0  0  0  0  0  0  0  0  0  0  0  5  0  0  0  0  0\n",
      "   0  0  0  0  0  0]\n",
      " [ 0  0  0  0  0  0  0  0  0  0  0  0  0  0  0  0  0  0  0  5  0  0  0  0\n",
      "   0  0  0  0  0  0]\n",
      " [ 0  0  0  0  0  0  0  0  0  0  0  0  0  0  0  0  0  0  0  0  6  0  0  0\n",
      "   0  0  0  0  0  3]\n",
      " [ 0  0  0  0  0  0  0  0  0  0  0  0  0  0  0  0  0  0  0  0  0  5  0  0\n",
      "   0  0  0  0  0  0]\n",
      " [ 0  0  0  0  0  0  1  0  0  1  0  0  0  0  0  0  0  0  0  0  0  0  3  0\n",
      "   0  0  0  0  0  0]\n",
      " [ 0  0  0  0  0  0  0  0  0  0  0  0  0  0  0  0  0  0  0  0  0  0  0  4\n",
      "   0  0  0  0  0  0]\n",
      " [ 0  0  0  0  0  0  0  0  0  0  0  0  0  0  0  0  0  0  0  0  0  0  0  0\n",
      "   9  0  0  0  0  0]\n",
      " [ 0  0  0  0  0  0  0  0  0  0  0  0  0  0  0  0  0  0  0  0  0  0  0  0\n",
      "   0  8  0  0  0  0]\n",
      " [ 0  0  0  0  0  0  0  0  0  0  0  0  0  0  0  0  0  0  0  0  0  0  0  0\n",
      "   0  0  4  0  0  0]\n",
      " [ 0  0  0  0  0  0  0  0  0  0  0  0  0  0  0  0  0  0  0  0  0  0  0  0\n",
      "   0  0  0 15  0  0]\n",
      " [ 0  0  0  0  0  0  0  0  0  0  0  0  0  0  0  0  0  0  0  0  0  0  0  0\n",
      "   0  0  0  0  1  0]\n",
      " [ 0  0  0  0  0  0  0  1  0  0  0  0  0  0  0  0  0  0  0  0  0  0  0  0\n",
      "   0  0  0  0  0  9]]\n",
      "Accuracy: 0.91005291005291\n",
      "Precision: 0.931741452991453\n",
      "Recall: 0.9113888888888889\n",
      "F1-Score: 0.910986013986014\n"
     ]
    }
   ],
   "source": [
    "from sklearn.metrics import confusion_matrix, accuracy_score, precision_score, recall_score, f1_score\n",
    "\n",
    "# Confusion Matrix\n",
    "conf_matrix = confusion_matrix(y_test, predicted_classes)\n",
    "print('Confusion Matrix:')\n",
    "print(conf_matrix)\n",
    "\n",
    "# Accuracy\n",
    "accuracy = accuracy_score(y_test, predicted_classes)\n",
    "print(f'Accuracy: {accuracy}')\n",
    "\n",
    "# Precision\n",
    "precision = precision_score(y_test, predicted_classes, average='macro')\n",
    "print(f'Precision: {precision}')\n",
    "\n",
    "# Recall\n",
    "recall = recall_score(y_test, predicted_classes, average='macro')\n",
    "print(f'Recall: {recall}')\n",
    "\n",
    "# F1-Score\n",
    "f1 = f1_score(y_test, predicted_classes, average='macro')\n",
    "print(f'F1-Score: {f1}')"
   ]
  },
  {
   "cell_type": "code",
   "execution_count": 336,
   "metadata": {
    "colab": {
     "base_uri": "https://localhost:8080/"
    },
    "id": "-mmPWS9lzZjJ",
    "outputId": "459d9a8c-e9b9-4f6e-8ad5-1f748f0803c9"
   },
   "outputs": [
    {
     "name": "stdout",
     "output_type": "stream",
     "text": [
      "Test Accuracy: 0.91\n",
      "              precision    recall  f1-score   support\n",
      "\n",
      "           0       1.00      1.00      1.00         4\n",
      "           1       1.00      1.00      1.00        12\n",
      "           2       0.75      0.75      0.75         4\n",
      "           3       1.00      1.00      1.00         5\n",
      "           4       1.00      1.00      1.00         1\n",
      "           5       1.00      0.80      0.89         5\n",
      "           6       1.00      1.00      1.00         5\n",
      "           7       1.00      0.70      0.82        10\n",
      "           8       1.00      1.00      1.00         8\n",
      "           9       1.00      1.00      1.00         5\n",
      "          10       0.94      1.00      0.97        15\n",
      "          11       1.00      1.00      1.00         5\n",
      "          12       1.00      1.00      1.00         4\n",
      "          13       1.00      1.00      1.00         5\n",
      "          14       1.00      0.80      0.89         5\n",
      "          15       1.00      1.00      1.00         4\n",
      "          16       1.00      1.00      1.00         5\n",
      "          17       1.00      1.00      1.00         7\n",
      "          18       1.00      1.00      1.00         5\n",
      "          19       1.00      1.00      1.00         5\n",
      "          20       0.89      0.89      0.89         9\n",
      "          21       1.00      1.00      1.00         5\n",
      "          22       1.00      0.60      0.75         5\n",
      "          23       1.00      1.00      1.00         4\n",
      "          24       1.00      1.00      1.00         9\n",
      "          25       0.89      1.00      0.94         8\n",
      "          26       0.80      1.00      0.89         4\n",
      "          27       0.94      1.00      0.97        15\n",
      "          28       1.00      1.00      1.00         1\n",
      "          29       0.69      0.90      0.78        10\n",
      "\n",
      "    accuracy                           0.95       189\n",
      "   macro avg       0.96      0.95      0.95       189\n",
      "weighted avg       0.95      0.95      0.95       189\n",
      "\n"
     ]
    }
   ],
   "source": [
    "from sklearn.metrics import accuracy_score, classification_report\n",
    "\n",
    "# Calculate accuracy\n",
    "accuracy = accuracy_score(y_test, predicted_classes)\n",
    "print(f\"Test Accuracy: {accuracy:.2f}\")\n",
    "\n",
    "# Print classification report\n",
    "print(classification_report(y_test, y_pred))"
   ]
  },
  {
   "cell_type": "code",
   "execution_count": 338,
   "metadata": {
    "colab": {
     "base_uri": "https://localhost:8080/"
    },
    "id": "Icaw3_pezdIN",
    "outputId": "4f613e9f-a03d-4846-db8d-9d680ae83a03"
   },
   "outputs": [
    {
     "name": "stdout",
     "output_type": "stream",
     "text": [
      "\u001b[1m1/1\u001b[0m \u001b[32m━━━━━━━━━━━━━━━━━━━━\u001b[0m\u001b[37m\u001b[0m \u001b[1m0s\u001b[0m 138ms/step\n",
      "Predicted class: 12\n",
      "Actual Class: 12\n"
     ]
    }
   ],
   "source": [
    "sample_index = 0  # Change this to test other samples\n",
    "\n",
    "# Extract a single test sample\n",
    "X_sample = [feature[sample_index:sample_index+1] for feature in X_test_features]\n",
    "\n",
    "# Predict\n",
    "sample_pred_probs = model.predict(X_sample)\n",
    "sample_pred = np.argmax(sample_pred_probs, axis=1)\n",
    "\n",
    "print(f\"Predicted class: {sample_pred[0]}\")\n",
    "print(f\"Actual Class: {y_test[0]}\")"
   ]
  },
  {
   "cell_type": "code",
   "execution_count": null,
   "metadata": {},
   "outputs": [],
   "source": []
  },
  {
   "cell_type": "code",
   "execution_count": null,
   "metadata": {},
   "outputs": [],
   "source": []
  }
 ],
 "metadata": {
  "colab": {
   "provenance": []
  },
  "kernelspec": {
   "display_name": "Python 3 (ipykernel)",
   "language": "python",
   "name": "python3"
  },
  "language_info": {
   "codemirror_mode": {
    "name": "ipython",
    "version": 3
   },
   "file_extension": ".py",
   "mimetype": "text/x-python",
   "name": "python",
   "nbconvert_exporter": "python",
   "pygments_lexer": "ipython3",
   "version": "3.12.7"
  }
 },
 "nbformat": 4,
 "nbformat_minor": 4
}
