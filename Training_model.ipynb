{
  "nbformat": 4,
  "nbformat_minor": 0,
  "metadata": {
    "colab": {
      "provenance": []
    },
    "kernelspec": {
      "name": "python3",
      "display_name": "Python 3"
    },
    "language_info": {
      "name": "python"
    }
  },
  "cells": [
    {
      "cell_type": "code",
      "execution_count": null,
      "metadata": {
        "id": "KonBHQvqk2wx"
      },
      "outputs": [],
      "source": [
        "import json\n",
        "import pandas as pd\n",
        "import numpy as np\n",
        "import tensorflow as tf\n",
        "from sklearn import metrics\n",
        "from tensorflow.keras.models import Model\n",
        "from tensorflow.keras.layers import Input, Conv1D, MaxPooling1D, Flatten, LSTM, Dense, concatenate, Reshape\n",
        "from tensorflow.keras.preprocessing.sequence import pad_sequences\n",
        "from tensorflow.keras.losses import CategoricalCrossentropy\n",
        "from tensorflow.keras.utils import to_categorical"
      ]
    },
    {
      "cell_type": "code",
      "source": [
        "from google.colab import drive\n",
        "drive.mount('/content/drive')"
      ],
      "metadata": {
        "colab": {
          "base_uri": "https://localhost:8080/"
        },
        "id": "sbC3KxMKlRTJ",
        "outputId": "a068fc56-e947-4819-cec1-7205accb9c72"
      },
      "execution_count": null,
      "outputs": [
        {
          "output_type": "stream",
          "name": "stdout",
          "text": [
            "Mounted at /content/drive\n"
          ]
        }
      ]
    },
    {
      "cell_type": "code",
      "source": [
        "!ls \"/content/drive/My Drive/FYP\""
      ],
      "metadata": {
        "colab": {
          "base_uri": "https://localhost:8080/"
        },
        "id": "QnQ0oqnzlcf0",
        "outputId": "5940616c-9142-4ad6-aba8-52bf5a0517d7"
      },
      "execution_count": null,
      "outputs": [
        {
          "output_type": "stream",
          "name": "stdout",
          "text": [
            "'Copy of Fixed 5 second window raw1.0.ipynb'\t      testPostureAtomicdata1D_502.json\n",
            "'plot graphs with dimension reduction - Copy.ipynb'   testPostureAtomicdata1D_530.json\n",
            " Sync_502\t\t\t\t\t      testPostureAtomicdata1D_v.json\n",
            " Sync_530\t\t\t\t\t     'Training model.ipynb'\n",
            " Synchronized\t\t\t\t\t      trainPostureAtomicdata1D.json\n",
            " test_541.json\t\t\t\t\t      Untitled1.ipynb\n"
          ]
        }
      ]
    },
    {
      "cell_type": "code",
      "source": [
        "import json\n",
        "\n",
        "json_file_path = \"/content/drive/My Drive/FYP/test_541.json\"  # Update path if inside a folder\n",
        "\n",
        "with open(json_file_path, 'r') as json_file:\n",
        "    data = json.load(json_file)\n",
        "\n",
        "print(\"File loaded successfully!\")"
      ],
      "metadata": {
        "colab": {
          "base_uri": "https://localhost:8080/"
        },
        "id": "u9tHb4aclhyz",
        "outputId": "0930a9f3-f617-4dd2-fb2c-232099537e7a"
      },
      "execution_count": null,
      "outputs": [
        {
          "output_type": "stream",
          "name": "stdout",
          "text": [
            "File loaded successfully!\n"
          ]
        }
      ]
    },
    {
      "cell_type": "code",
      "source": [
        "len(data['GlassAccelerometer_train'])"
      ],
      "metadata": {
        "colab": {
          "base_uri": "https://localhost:8080/"
        },
        "id": "IAPInV4vlmNx",
        "outputId": "d0c1cc55-ba8b-4bc1-875e-28d48a7b74ff"
      },
      "execution_count": null,
      "outputs": [
        {
          "output_type": "execute_result",
          "data": {
            "text/plain": [
              "305"
            ]
          },
          "metadata": {},
          "execution_count": 5
        }
      ]
    },
    {
      "cell_type": "code",
      "source": [
        "df = pd.DataFrame(data)"
      ],
      "metadata": {
        "id": "kKT8rt8cln1O"
      },
      "execution_count": null,
      "outputs": []
    },
    {
      "cell_type": "code",
      "source": [
        "len(df)"
      ],
      "metadata": {
        "colab": {
          "base_uri": "https://localhost:8080/"
        },
        "id": "oZEfl-Culvfn",
        "outputId": "7a06bb30-4592-4782-df32-c177dc3f1d6f"
      },
      "execution_count": null,
      "outputs": [
        {
          "output_type": "execute_result",
          "data": {
            "text/plain": [
              "305"
            ]
          },
          "metadata": {},
          "execution_count": 7
        }
      ]
    },
    {
      "cell_type": "code",
      "source": [
        "# Define a function to calculate the minimum length of non-empty lists in each column\n",
        "def min_list_length(column):\n",
        "    non_empty_lists = [x for x in column if isinstance(x, list) and len(x) > 0]\n",
        "    return min([len(x) for x in non_empty_lists]) if non_empty_lists else 0\n",
        "\n",
        "# Use the apply function to apply the custom function to each column\n",
        "min_lengths = df.apply(min_list_length)\n",
        "\n",
        "# min_lengths will contain the minimum lengths of non-empty lists in each column\n",
        "print(min_lengths)"
      ],
      "metadata": {
        "colab": {
          "base_uri": "https://localhost:8080/"
        },
        "id": "4hAeMHpFl0Tq",
        "outputId": "0d317b86-270b-47cf-91d4-dc22393dd445"
      },
      "execution_count": null,
      "outputs": [
        {
          "output_type": "stream",
          "name": "stdout",
          "text": [
            "GlassAccelerometer_train      48\n",
            "GlassGyroscope_train          48\n",
            "GlassMagnetometer_train       48\n",
            "PhoneAccelerometer_train    1200\n",
            "PhoneGyroscope_train        5880\n",
            "PhoneMagnetometer_train     1200\n",
            "WatchAccelerometer_train    1176\n",
            "WatchGyroscope_train        1176\n",
            "WatchMagnetometer_train     1176\n",
            "Y_train                        0\n",
            "dtype: int64\n"
          ]
        }
      ]
    },
    {
      "cell_type": "code",
      "source": [
        "# Define other constants\n",
        "feature_dimension = 1  # Since each column contains a 1D list\n",
        "num_classes = 61  # Number of unique values in Y_train 61,55,6\n",
        "num_features = 9  # Number of features in DataFrame\n",
        "flatten_size =10\n",
        "\n",
        "# Prepare data and train the model\n",
        "y_train = np.array(df['Y_train'])\n",
        "\n",
        "X_features = [np.array(df[column].to_list()) for column in df.columns[:-1]]\n"
      ],
      "metadata": {
        "id": "SPiPqGFumUKU"
      },
      "execution_count": null,
      "outputs": []
    },
    {
      "cell_type": "code",
      "source": [
        "y_train = np.array(df['Y_train'])\n",
        "values = np.unique(y_train)\n",
        "print(values)"
      ],
      "metadata": {
        "colab": {
          "base_uri": "https://localhost:8080/"
        },
        "id": "kQdbnZ7hmXsZ",
        "outputId": "d6ccd4af-7abd-4cfc-fc5c-84b315e19339"
      },
      "execution_count": null,
      "outputs": [
        {
          "output_type": "stream",
          "name": "stdout",
          "text": [
            "[ 1  2  3  4  5  6  7  8  9 10 11 12 13 14 15 16 17 18 19 20 21 22]\n"
          ]
        }
      ]
    },
    {
      "cell_type": "code",
      "source": [
        "\n",
        "# Create the input layers for each feature\n",
        "input_layers = []\n",
        "# Create separate CNNs for each feature\n",
        "cnn_outputs = []\n",
        "for feature in df.columns[:-1]:\n",
        "    length = df[feature].apply(len)[0]\n",
        "    input_layer = Input(shape=(length,1))\n",
        "    input_layers.append(input_layer)\n",
        "    cnn = Conv1D(32, kernel_size=3, activation='relu')(input_layer)\n",
        "    cnn = MaxPooling1D(pool_size=2)(cnn)\n",
        "    cnn = Conv1D(16, kernel_size=3, activation='relu')(cnn)\n",
        "    cnn = MaxPooling1D(pool_size=2)(cnn)\n",
        "    cnn = Flatten()(cnn)\n",
        "    print(cnn)\n",
        "    cnn = Dense(flatten_size, activation='relu')(cnn)\n",
        "    cnn_outputs.append(cnn)\n",
        "\n",
        "# Concatenate the CNN outputs\n",
        "merged_cnn = concatenate(cnn_outputs)"
      ],
      "metadata": {
        "colab": {
          "base_uri": "https://localhost:8080/"
        },
        "id": "Dz3mvgZCmbqt",
        "outputId": "809f8b80-19d8-40c8-ffbc-39ff61525f1f"
      },
      "execution_count": null,
      "outputs": [
        {
          "output_type": "stream",
          "name": "stdout",
          "text": [
            "<KerasTensor shape=(None, 160), dtype=float32, sparse=False, name=keras_tensor_5>\n",
            "<KerasTensor shape=(None, 160), dtype=float32, sparse=False, name=keras_tensor_12>\n",
            "<KerasTensor shape=(None, 160), dtype=float32, sparse=False, name=keras_tensor_19>\n",
            "<KerasTensor shape=(None, 4768), dtype=float32, sparse=False, name=keras_tensor_26>\n",
            "<KerasTensor shape=(None, 23488), dtype=float32, sparse=False, name=keras_tensor_33>\n",
            "<KerasTensor shape=(None, 4768), dtype=float32, sparse=False, name=keras_tensor_40>\n",
            "<KerasTensor shape=(None, 4672), dtype=float32, sparse=False, name=keras_tensor_47>\n",
            "<KerasTensor shape=(None, 4672), dtype=float32, sparse=False, name=keras_tensor_54>\n",
            "<KerasTensor shape=(None, 4672), dtype=float32, sparse=False, name=keras_tensor_61>\n"
          ]
        }
      ]
    },
    {
      "cell_type": "code",
      "source": [
        "merged_cnn"
      ],
      "metadata": {
        "colab": {
          "base_uri": "https://localhost:8080/"
        },
        "id": "8R4iDC0nmf1z",
        "outputId": "9945eb49-c169-4176-d250-79f8e9badeac"
      },
      "execution_count": null,
      "outputs": [
        {
          "output_type": "execute_result",
          "data": {
            "text/plain": [
              "<KerasTensor shape=(None, 90), dtype=float32, sparse=False, name=keras_tensor_63>"
            ]
          },
          "metadata": {},
          "execution_count": 12
        }
      ]
    },
    {
      "cell_type": "code",
      "source": [
        "cnn_outputs"
      ],
      "metadata": {
        "colab": {
          "base_uri": "https://localhost:8080/"
        },
        "id": "TZysbUUbmk65",
        "outputId": "17288a3b-2805-420e-cb0e-a67fd73c2838"
      },
      "execution_count": null,
      "outputs": [
        {
          "output_type": "execute_result",
          "data": {
            "text/plain": [
              "[<KerasTensor shape=(None, 10), dtype=float32, sparse=False, name=keras_tensor_6>,\n",
              " <KerasTensor shape=(None, 10), dtype=float32, sparse=False, name=keras_tensor_13>,\n",
              " <KerasTensor shape=(None, 10), dtype=float32, sparse=False, name=keras_tensor_20>,\n",
              " <KerasTensor shape=(None, 10), dtype=float32, sparse=False, name=keras_tensor_27>,\n",
              " <KerasTensor shape=(None, 10), dtype=float32, sparse=False, name=keras_tensor_34>,\n",
              " <KerasTensor shape=(None, 10), dtype=float32, sparse=False, name=keras_tensor_41>,\n",
              " <KerasTensor shape=(None, 10), dtype=float32, sparse=False, name=keras_tensor_48>,\n",
              " <KerasTensor shape=(None, 10), dtype=float32, sparse=False, name=keras_tensor_55>,\n",
              " <KerasTensor shape=(None, 10), dtype=float32, sparse=False, name=keras_tensor_62>]"
            ]
          },
          "metadata": {},
          "execution_count": 13
        }
      ]
    },
    {
      "cell_type": "code",
      "source": [
        "# Reshape the concatenated CNN outputs to match the LSTM input shape\n",
        "reshaped_cnn = Reshape((num_features, -1))(merged_cnn)\n",
        "\n",
        "# LSTM branch\n",
        "lstm = LSTM(128, return_sequences=True)(reshaped_cnn)\n",
        "lstm = LSTM(64)(lstm)\n",
        "\n",
        "# Fully connected layers\n",
        "dense1 = Dense(128, activation='relu')(lstm)\n",
        "output = Dense(num_classes, activation='softmax')(dense1)\n"
      ],
      "metadata": {
        "id": "UWVg1WCSmpRL"
      },
      "execution_count": null,
      "outputs": []
    },
    {
      "cell_type": "code",
      "source": [
        "# Training parameters\n",
        "number_of_epoch = 25\n",
        "batch_size = 32\n",
        "\n",
        "# Create the combined model\n",
        "model = Model(inputs=input_layers, outputs=output)\n",
        "\n",
        "# Compile the model\n",
        "model.compile(optimizer='adam', loss='sparse_categorical_crossentropy', metrics=['accuracy'])\n",
        "\n",
        "# Train the model\n",
        "model.fit(X_features, y_train, epochs=number_of_epoch, batch_size=batch_size)"
      ],
      "metadata": {
        "colab": {
          "base_uri": "https://localhost:8080/"
        },
        "id": "gq_uUUx5muBe",
        "outputId": "5557963d-6c88-48a8-b611-ea2977db2c0c"
      },
      "execution_count": null,
      "outputs": [
        {
          "output_type": "stream",
          "name": "stdout",
          "text": [
            "Epoch 1/25\n",
            "\u001b[1m10/10\u001b[0m \u001b[32m━━━━━━━━━━━━━━━━━━━━\u001b[0m\u001b[37m\u001b[0m \u001b[1m26s\u001b[0m 392ms/step - accuracy: 0.0380 - loss: 4.0261\n",
            "Epoch 2/25\n",
            "\u001b[1m10/10\u001b[0m \u001b[32m━━━━━━━━━━━━━━━━━━━━\u001b[0m\u001b[37m\u001b[0m \u001b[1m4s\u001b[0m 294ms/step - accuracy: 0.1176 - loss: 3.5175\n",
            "Epoch 3/25\n",
            "\u001b[1m10/10\u001b[0m \u001b[32m━━━━━━━━━━━━━━━━━━━━\u001b[0m\u001b[37m\u001b[0m \u001b[1m3s\u001b[0m 282ms/step - accuracy: 0.1380 - loss: 3.0278\n",
            "Epoch 4/25\n",
            "\u001b[1m10/10\u001b[0m \u001b[32m━━━━━━━━━━━━━━━━━━━━\u001b[0m\u001b[37m\u001b[0m \u001b[1m6s\u001b[0m 407ms/step - accuracy: 0.3433 - loss: 2.5569\n",
            "Epoch 5/25\n",
            "\u001b[1m10/10\u001b[0m \u001b[32m━━━━━━━━━━━━━━━━━━━━\u001b[0m\u001b[37m\u001b[0m \u001b[1m3s\u001b[0m 275ms/step - accuracy: 0.4717 - loss: 1.9706\n",
            "Epoch 6/25\n",
            "\u001b[1m10/10\u001b[0m \u001b[32m━━━━━━━━━━━━━━━━━━━━\u001b[0m\u001b[37m\u001b[0m \u001b[1m3s\u001b[0m 276ms/step - accuracy: 0.6147 - loss: 1.5291\n",
            "Epoch 7/25\n",
            "\u001b[1m10/10\u001b[0m \u001b[32m━━━━━━━━━━━━━━━━━━━━\u001b[0m\u001b[37m\u001b[0m \u001b[1m7s\u001b[0m 434ms/step - accuracy: 0.6724 - loss: 1.1752\n",
            "Epoch 8/25\n",
            "\u001b[1m10/10\u001b[0m \u001b[32m━━━━━━━━━━━━━━━━━━━━\u001b[0m\u001b[37m\u001b[0m \u001b[1m4s\u001b[0m 274ms/step - accuracy: 0.7533 - loss: 0.9191\n",
            "Epoch 9/25\n",
            "\u001b[1m10/10\u001b[0m \u001b[32m━━━━━━━━━━━━━━━━━━━━\u001b[0m\u001b[37m\u001b[0m \u001b[1m5s\u001b[0m 298ms/step - accuracy: 0.7871 - loss: 0.7546\n",
            "Epoch 10/25\n",
            "\u001b[1m10/10\u001b[0m \u001b[32m━━━━━━━━━━━━━━━━━━━━\u001b[0m\u001b[37m\u001b[0m \u001b[1m7s\u001b[0m 434ms/step - accuracy: 0.8107 - loss: 0.5949\n",
            "Epoch 11/25\n",
            "\u001b[1m10/10\u001b[0m \u001b[32m━━━━━━━━━━━━━━━━━━━━\u001b[0m\u001b[37m\u001b[0m \u001b[1m4s\u001b[0m 284ms/step - accuracy: 0.8961 - loss: 0.5002\n",
            "Epoch 12/25\n",
            "\u001b[1m10/10\u001b[0m \u001b[32m━━━━━━━━━━━━━━━━━━━━\u001b[0m\u001b[37m\u001b[0m \u001b[1m3s\u001b[0m 283ms/step - accuracy: 0.9383 - loss: 0.3666\n",
            "Epoch 13/25\n",
            "\u001b[1m10/10\u001b[0m \u001b[32m━━━━━━━━━━━━━━━━━━━━\u001b[0m\u001b[37m\u001b[0m \u001b[1m3s\u001b[0m 279ms/step - accuracy: 0.9576 - loss: 0.2866\n",
            "Epoch 14/25\n",
            "\u001b[1m10/10\u001b[0m \u001b[32m━━━━━━━━━━━━━━━━━━━━\u001b[0m\u001b[37m\u001b[0m \u001b[1m4s\u001b[0m 460ms/step - accuracy: 0.9221 - loss: 0.2500\n",
            "Epoch 15/25\n",
            "\u001b[1m10/10\u001b[0m \u001b[32m━━━━━━━━━━━━━━━━━━━━\u001b[0m\u001b[37m\u001b[0m \u001b[1m4s\u001b[0m 285ms/step - accuracy: 0.9777 - loss: 0.1953\n",
            "Epoch 16/25\n",
            "\u001b[1m10/10\u001b[0m \u001b[32m━━━━━━━━━━━━━━━━━━━━\u001b[0m\u001b[37m\u001b[0m \u001b[1m5s\u001b[0m 271ms/step - accuracy: 0.9905 - loss: 0.1489\n",
            "Epoch 17/25\n",
            "\u001b[1m10/10\u001b[0m \u001b[32m━━━━━━━━━━━━━━━━━━━━\u001b[0m\u001b[37m\u001b[0m \u001b[1m3s\u001b[0m 338ms/step - accuracy: 0.9877 - loss: 0.1195\n",
            "Epoch 18/25\n",
            "\u001b[1m10/10\u001b[0m \u001b[32m━━━━━━━━━━━━━━━━━━━━\u001b[0m\u001b[37m\u001b[0m \u001b[1m4s\u001b[0m 263ms/step - accuracy: 1.0000 - loss: 0.0855\n",
            "Epoch 19/25\n",
            "\u001b[1m10/10\u001b[0m \u001b[32m━━━━━━━━━━━━━━━━━━━━\u001b[0m\u001b[37m\u001b[0m \u001b[1m3s\u001b[0m 257ms/step - accuracy: 1.0000 - loss: 0.0582\n",
            "Epoch 20/25\n",
            "\u001b[1m10/10\u001b[0m \u001b[32m━━━━━━━━━━━━━━━━━━━━\u001b[0m\u001b[37m\u001b[0m \u001b[1m3s\u001b[0m 257ms/step - accuracy: 1.0000 - loss: 0.0465\n",
            "Epoch 21/25\n",
            "\u001b[1m10/10\u001b[0m \u001b[32m━━━━━━━━━━━━━━━━━━━━\u001b[0m\u001b[37m\u001b[0m \u001b[1m3s\u001b[0m 319ms/step - accuracy: 1.0000 - loss: 0.0352\n",
            "Epoch 22/25\n",
            "\u001b[1m10/10\u001b[0m \u001b[32m━━━━━━━━━━━━━━━━━━━━\u001b[0m\u001b[37m\u001b[0m \u001b[1m5s\u001b[0m 258ms/step - accuracy: 1.0000 - loss: 0.0269\n",
            "Epoch 23/25\n",
            "\u001b[1m10/10\u001b[0m \u001b[32m━━━━━━━━━━━━━━━━━━━━\u001b[0m\u001b[37m\u001b[0m \u001b[1m5s\u001b[0m 259ms/step - accuracy: 1.0000 - loss: 0.0229\n",
            "Epoch 24/25\n",
            "\u001b[1m10/10\u001b[0m \u001b[32m━━━━━━━━━━━━━━━━━━━━\u001b[0m\u001b[37m\u001b[0m \u001b[1m7s\u001b[0m 445ms/step - accuracy: 1.0000 - loss: 0.0197\n",
            "Epoch 25/25\n",
            "\u001b[1m10/10\u001b[0m \u001b[32m━━━━━━━━━━━━━━━━━━━━\u001b[0m\u001b[37m\u001b[0m \u001b[1m3s\u001b[0m 255ms/step - accuracy: 1.0000 - loss: 0.0162\n"
          ]
        },
        {
          "output_type": "execute_result",
          "data": {
            "text/plain": [
              "<keras.src.callbacks.history.History at 0x7ea1d90a4590>"
            ]
          },
          "metadata": {},
          "execution_count": 15
        }
      ]
    },
    {
      "cell_type": "code",
      "source": [
        "model.save('test_541_22act_trainedModel.keras')"
      ],
      "metadata": {
        "id": "7c2QfmoznKcu"
      },
      "execution_count": null,
      "outputs": []
    },
    {
      "cell_type": "code",
      "source": [
        "del df\n",
        "del data\n",
        "del X_features\n",
        "del y_train"
      ],
      "metadata": {
        "id": "aIlOIkT3zJ8C"
      },
      "execution_count": null,
      "outputs": []
    },
    {
      "cell_type": "markdown",
      "source": [
        "# **Loading the Trained Model to Test over Test data**"
      ],
      "metadata": {
        "id": "sV1W0qPkzHoq"
      }
    },
    {
      "cell_type": "code",
      "source": [
        "model = tf.keras.models.load_model('test_541_22act_trainedModel.keras')"
      ],
      "metadata": {
        "id": "0PQaRaQknV8J"
      },
      "execution_count": null,
      "outputs": []
    },
    {
      "cell_type": "code",
      "source": [
        "# Path to your test JSON file\n",
        "test_json_file_path = \"/content/drive/My Drive/FYP/test_502.json\"  # Update path accordingly\n",
        "\n",
        "# Load test data\n",
        "with open(test_json_file_path, 'r') as json_file:\n",
        "    test_data = json.load(json_file)\n",
        "\n",
        "# Convert test data to DataFrame\n",
        "import pandas as pd\n",
        "df_test = pd.DataFrame(test_data)\n",
        "\n",
        "# Extract features\n",
        "X_test_features = [np.array(df_test[column].to_list()) for column in df_test.columns[:-1]]  # Assuming last column is Y_test\n",
        "\n",
        "# Extract ground truth labels (if available)\n",
        "y_test = np.array(df_test['Y_train'])  # Update based on your actual test label column"
      ],
      "metadata": {
        "id": "fKBmP_vhzKpY"
      },
      "execution_count": null,
      "outputs": []
    },
    {
      "cell_type": "code",
      "source": [
        "# Get model predictions\n",
        "y_pred_probs = model.predict(X_test_features)\n",
        "\n",
        "# Convert softmax probabilities to class predictions\n",
        "y_pred = np.argmax(y_pred_probs, axis=1)"
      ],
      "metadata": {
        "colab": {
          "base_uri": "https://localhost:8080/"
        },
        "id": "KKkHZTqLzXvU",
        "outputId": "37c4aced-8686-4694-c7cc-8efaab4f93e5"
      },
      "execution_count": null,
      "outputs": [
        {
          "output_type": "stream",
          "name": "stdout",
          "text": [
            "\u001b[1m1/1\u001b[0m \u001b[32m━━━━━━━━━━━━━━━━━━━━\u001b[0m\u001b[37m\u001b[0m \u001b[1m1s\u001b[0m 1s/step\n"
          ]
        }
      ]
    },
    {
      "cell_type": "code",
      "source": [
        "from sklearn.metrics import accuracy_score, classification_report\n",
        "\n",
        "# Calculate accuracy\n",
        "accuracy = accuracy_score(y_test, y_pred)\n",
        "print(f\"Test Accuracy: {accuracy:.2f}\")\n",
        "\n",
        "# Print classification report\n",
        "print(classification_report(y_test, y_pred))"
      ],
      "metadata": {
        "colab": {
          "base_uri": "https://localhost:8080/"
        },
        "id": "-mmPWS9lzZjJ",
        "outputId": "459d9a8c-e9b9-4f6e-8ad5-1f748f0803c9"
      },
      "execution_count": null,
      "outputs": [
        {
          "output_type": "stream",
          "name": "stdout",
          "text": [
            "Test Accuracy: 0.83\n",
            "              precision    recall  f1-score   support\n",
            "\n",
            "           9       0.00      0.00      0.00         0\n",
            "          16       1.00      0.83      0.91         6\n",
            "\n",
            "    accuracy                           0.83         6\n",
            "   macro avg       0.50      0.42      0.45         6\n",
            "weighted avg       1.00      0.83      0.91         6\n",
            "\n"
          ]
        },
        {
          "output_type": "stream",
          "name": "stderr",
          "text": [
            "/usr/local/lib/python3.11/dist-packages/sklearn/metrics/_classification.py:1565: UndefinedMetricWarning: Recall is ill-defined and being set to 0.0 in labels with no true samples. Use `zero_division` parameter to control this behavior.\n",
            "  _warn_prf(average, modifier, f\"{metric.capitalize()} is\", len(result))\n",
            "/usr/local/lib/python3.11/dist-packages/sklearn/metrics/_classification.py:1565: UndefinedMetricWarning: Recall is ill-defined and being set to 0.0 in labels with no true samples. Use `zero_division` parameter to control this behavior.\n",
            "  _warn_prf(average, modifier, f\"{metric.capitalize()} is\", len(result))\n",
            "/usr/local/lib/python3.11/dist-packages/sklearn/metrics/_classification.py:1565: UndefinedMetricWarning: Recall is ill-defined and being set to 0.0 in labels with no true samples. Use `zero_division` parameter to control this behavior.\n",
            "  _warn_prf(average, modifier, f\"{metric.capitalize()} is\", len(result))\n"
          ]
        }
      ]
    },
    {
      "cell_type": "code",
      "source": [
        "sample_index = 0  # Change this to test other samples\n",
        "\n",
        "# Extract a single test sample\n",
        "X_sample = [feature[sample_index:sample_index+1] for feature in X_test_features]\n",
        "\n",
        "# Predict\n",
        "sample_pred_probs = model.predict(X_sample)\n",
        "sample_pred = np.argmax(sample_pred_probs, axis=1)\n",
        "\n",
        "print(f\"Predicted class: {sample_pred[0]}\")\n",
        "print(f\"Actual Class: {y_test[0]}\")"
      ],
      "metadata": {
        "colab": {
          "base_uri": "https://localhost:8080/"
        },
        "id": "Icaw3_pezdIN",
        "outputId": "4f613e9f-a03d-4846-db8d-9d680ae83a03"
      },
      "execution_count": null,
      "outputs": [
        {
          "output_type": "stream",
          "name": "stdout",
          "text": [
            "\u001b[1m1/1\u001b[0m \u001b[32m━━━━━━━━━━━━━━━━━━━━\u001b[0m\u001b[37m\u001b[0m \u001b[1m0s\u001b[0m 60ms/step\n",
            "Predicted class: 16\n",
            "Actual Class: 16\n"
          ]
        }
      ]
    }
  ]
}